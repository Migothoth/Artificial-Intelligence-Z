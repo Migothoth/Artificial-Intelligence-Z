{
 "cells": [
  {
   "cell_type": "markdown",
   "metadata": {},
   "source": [
    "<font size=4 color='blue'>\n",
    "    \n",
    "# <center>Class 8, March 21, 2023 </center>"
   ]
  },
  {
   "cell_type": "markdown",
   "metadata": {},
   "source": [
    "<img src=\"./images/Picture1.png\" width=420 height=420 align = \"center\" >"
   ]
  },
  {
   "cell_type": "markdown",
   "metadata": {},
   "source": [
    "<img src=\"./images/From-Bokhimi.png\" width=420 height=420 align = \"center\" >"
   ]
  },
  {
   "cell_type": "markdown",
   "metadata": {},
   "source": [
    "<font size=4 color='blue'>\n",
    "\n",
    "# <center> Topic that the Machine will learn: Handwritten Digit Recognition </center>"
   ]
  },
  {
   "cell_type": "markdown",
   "metadata": {},
   "source": [
    "<font size=5 color='blue'>\n",
    "From Learning Machines to Smart Machines"
   ]
  },
  {
   "cell_type": "markdown",
   "metadata": {},
   "source": [
    "<font size=4 >\n",
    "    \n",
    "[Smart machines:](./Literatura/What-is-smart-machines.pdf)"
   ]
  },
  {
   "cell_type": "markdown",
   "metadata": {},
   "source": [
    "<font size=5 color='blue'>\n",
    "Classification Predictive Modeling"
   ]
  },
  {
   "cell_type": "markdown",
   "metadata": {},
   "source": [
    "<font size=4 color='black'>\n",
    "Classification predictive modeling is the task of approximating a mapping function F from input variables (X) to <font color='red' > $\\bf discrete$ <font color='black' > target variables (Y). In statistics a variable that can take on one of a limited number of possible values is called a $\\bf categorical$ $\\bf variable$"
   ]
  },
  {
   "cell_type": "markdown",
   "metadata": {},
   "source": [
    "<font size=5 color='blue'>\n",
    "Regression Predictive Modeling"
   ]
  },
  {
   "cell_type": "markdown",
   "metadata": {},
   "source": [
    "<font size=4 color='black'>\n",
    "    \n",
    "Regression predictive modeling is the task of approximating a mapping function F from input variables (X) to a <font color='red' > $\\bf continuous$ <font color='black' > target variable (Y)."
   ]
  },
  {
   "cell_type": "markdown",
   "metadata": {},
   "source": [
    "<font size=5 color='blue'>\n",
    "Classification"
   ]
  },
  {
   "cell_type": "markdown",
   "metadata": {},
   "source": [
    "<font size=4 color='black'>\n",
    "    \n",
    "A classification problem requires that samples be classified into one of two or more classes.\n",
    "\n",
    "A classification can have real-valued or discrete input variables.\n",
    "\n",
    "A problem with two classes is often called a two-class or binary classification.\n",
    "\n",
    "A problem with more than two classes is often called a multi-class classification.\n",
    "\n",
    "A problem where a sample is assigned multiple classes is called a multi-label classification.\n",
    "    \n"
   ]
  },
  {
   "cell_type": "markdown",
   "metadata": {
    "ExecuteTime": {
     "end_time": "2020-11-16T17:16:20.479536Z",
     "start_time": "2020-11-16T17:16:20.470759Z"
    }
   },
   "source": [
    "<font size=5 color='blue'>\n",
    "Information about the topic: Handwritten Digit Recognition using MNIST database"
   ]
  },
  {
   "cell_type": "markdown",
   "metadata": {},
   "source": [
    "<img src=\"./images/image-segmentation.png\" width=620 height=620 align = \"center\" >"
   ]
  },
  {
   "cell_type": "markdown",
   "metadata": {},
   "source": [
    "<font size=4 color='black'>\n",
    "    \n",
    "Documentation: [Image Segmentation](https://labelbox.com/image-segmentation-overview)\n"
   ]
  },
  {
   "cell_type": "markdown",
   "metadata": {},
   "source": [
    "<font size=4 color='black'>\n",
    "    \n",
    "[Maya Gliphs Segmentation](./Literatura/Maya_glyph_segmentation_2017.pdf)\n",
    "    \n",
    "[Medical Image Segmentation](./Literatura/Medical-image-segmentation-review_2021.pdf)\n",
    "    \n",
    "[Segmentation Review](./Literatura/Segmentation-review_2018.pdf)\n",
    "    \n",
    "[Segmentation using Deep Learning](./Literatura/Image.Segmentation-Using-Deep-Learning-a-survey_2020.pdf)"
   ]
  },
  {
   "cell_type": "markdown",
   "metadata": {},
   "source": [
    "<font size=4 color='black'>\n",
    "\n",
    "[Hand written Zip code recognition](./Literatura/Back-propag-hand-written-cnn-lecun-1989.pdf)"
   ]
  },
  {
   "cell_type": "markdown",
   "metadata": {},
   "source": [
    "<font size=4 color='black'>\n",
    "The MNIST database (Modified National Institute of Standards and Technology database) is a large database of handwritten digits (samples) that is commonly used for training various image processing systems."
   ]
  },
  {
   "cell_type": "code",
   "execution_count": 1,
   "metadata": {
    "ExecuteTime": {
     "end_time": "2020-11-17T21:24:05.966969Z",
     "start_time": "2020-11-17T21:24:04.476726Z"
    }
   },
   "outputs": [],
   "source": [
    "import numpy as np\n",
    "import time\n",
    "\n",
    "import tensorflow as tf\n",
    "from tensorflow import keras\n",
    "from tensorflow.keras.layers import Input, Dense, Activation, Flatten\n",
    "from tensorflow.keras.models import Model\n",
    "import pydot\n",
    "import IPython\n",
    "from IPython.display import SVG\n",
    "from tensorflow.keras.utils import plot_model\n",
    "from tensorflow.keras.optimizers import SGD\n",
    "\n",
    "import matplotlib\n",
    "import matplotlib.pyplot as plt\n",
    "from matplotlib.pyplot import imshow\n",
    "\n",
    "import pickle\n",
    "import gzip\n",
    "\n",
    "np.random.seed(1)\n",
    "%matplotlib inline"
   ]
  },
  {
   "cell_type": "code",
   "execution_count": 2,
   "metadata": {},
   "outputs": [
    {
     "name": "stdout",
     "output_type": "stream",
     "text": [
      "Numpy version 1.19.5\n",
      "TensorFlow version 2.6.0\n",
      "Keras version 2.6.0\n",
      "Pydot version 1.4.1\n",
      "Ipython version 7.22.0\n",
      "Matplotlib version 3.5.1\n",
      "Pickle version 4.0\n",
      "Python version 3.9.0\n"
     ]
    }
   ],
   "source": [
    "print(\"Numpy version\", np.__version__)\n",
    "print(\"TensorFlow version\", tf.__version__)\n",
    "print(\"Keras version\", keras.__version__)\n",
    "print(\"Pydot version\", pydot.__version__)\n",
    "print(\"Ipython version\", IPython.__version__)\n",
    "print(\"Matplotlib version\", matplotlib.__version__)\n",
    "print(\"Pickle version\", pickle.format_version)\n",
    "from platform import python_version\n",
    "print(\"Python version\", python_version())"
   ]
  },
  {
   "cell_type": "markdown",
   "metadata": {
    "ExecuteTime": {
     "end_time": "2020-11-16T17:41:15.942872Z",
     "start_time": "2020-11-16T17:41:15.933507Z"
    }
   },
   "source": [
    "<font size=5 color='blue'>\n",
    "Samples preparation\n"
   ]
  },
  {
   "cell_type": "markdown",
   "metadata": {},
   "source": [
    "\n",
    " <font size=4 color='black'>   \n",
    "The database mnist of samples can be downloaded from the following URL: \n",
    "    \n",
    "[MNIST data download](http://yann.lecun.com/exdb/mnist/)"
   ]
  },
  {
   "cell_type": "markdown",
   "metadata": {},
   "source": [
    "<font size=4 color='black'>\n",
    "The samples to train and test the neuronal network are in the file 'mnist.pkl.gz'.\n",
    "\n",
    "    gzip.open(filename, mode='rb') open the compressed binary file 'filename'.\n",
    "    \n",
    "   The documentation of gzip.open can be found at [gzip.open(...)](https://docs.python.org/3/library/gzip.html#gzip.open)\n",
    "\n",
    "    pickle.load(file, encoding = 'latin1') decode the file 'file' in latin1\n",
    "\n",
    "Documentation: [pickle.load(...)](https://docs.python.org/3/library/pickle.html#pickle.load)\n",
    "\n",
    "The function 'load_samples()' has three samples sets as output: \n",
    "\n",
    "    learn_samples  # Samples for training\n",
    "    val_samples    # Samples for validation\n",
    "    test_samples   # Samples for testing"
   ]
  },
  {
   "cell_type": "code",
   "execution_count": 3,
   "metadata": {
    "ExecuteTime": {
     "end_time": "2020-11-17T21:24:05.972096Z",
     "start_time": "2020-11-17T21:24:05.968383Z"
    }
   },
   "outputs": [],
   "source": [
    "# The database is in the working directory: mnist.pkl.gz file.\n",
    "    \n",
    "def load_samples():\n",
    "\n",
    "    f = gzip.open('mnist.pkl.gz', 'rb')\n",
    "    \n",
    "    learn_samples, val_samples, test_samples = pickle.load(f, encoding=\"latin1\")\n",
    "    \n",
    "    f.close()\n",
    "    \n",
    "    return (learn_samples, val_samples, test_samples)\n"
   ]
  },
  {
   "cell_type": "code",
   "execution_count": 4,
   "metadata": {
    "ExecuteTime": {
     "end_time": "2020-11-17T21:24:06.792093Z",
     "start_time": "2020-11-17T21:24:05.974070Z"
    }
   },
   "outputs": [],
   "source": [
    "# the samples are loaded in three sets: train_samples, val_samples and test_samples \n",
    "\n",
    "learn_samples, val_samples, test_samples = load_samples()\n",
    " "
   ]
  },
  {
   "cell_type": "markdown",
   "metadata": {},
   "source": [
    "<font size=4 color='black'>\n",
    "    \n",
    "Each of these sets is a tuple with two entries:"
   ]
  },
  {
   "cell_type": "code",
   "execution_count": 5,
   "metadata": {
    "ExecuteTime": {
     "end_time": "2020-11-17T21:24:06.798287Z",
     "start_time": "2020-11-17T21:24:06.793584Z"
    }
   },
   "outputs": [
    {
     "name": "stdout",
     "output_type": "stream",
     "text": [
      "The type of train_samples:  <class 'tuple'> with length:  2\n",
      "The type of val_data:  <class 'tuple'> with length:  2\n",
      "The type of test_data:  <class 'tuple'> with length:  2\n"
     ]
    }
   ],
   "source": [
    "print(\"The type of train_samples: \", type(learn_samples), \"with length: \", len(learn_samples) )\n",
    "print(\"The type of val_data: \", type(val_samples), \"with length: \", len(val_samples) )\n",
    "print(\"The type of test_data: \", type(test_samples), \"with length: \", len(test_samples) )"
   ]
  },
  {
   "cell_type": "code",
   "execution_count": 6,
   "metadata": {
    "ExecuteTime": {
     "end_time": "2020-11-17T21:24:06.810520Z",
     "start_time": "2020-11-17T21:24:06.799891Z"
    }
   },
   "outputs": [
    {
     "name": "stdout",
     "output_type": "stream",
     "text": [
      "Shape of the first element of the train_data tuple:  (50000, 784)\n",
      "Shape of the second element of the train_data tuple:  (50000,)\n",
      "Shape of the first element of the val_data tuple:  (10000, 784)\n",
      "Shape of the second element of the val_data tuple:  (10000,)\n",
      "Shape of the first element of the test_data tuple:  (10000, 784)\n",
      "Shape of the second element of the test_data tuple:  (10000,)\n"
     ]
    }
   ],
   "source": [
    "print(\"Shape of the first element of the train_data tuple: \", learn_samples[0].shape)\n",
    "print(\"Shape of the second element of the train_data tuple: \", learn_samples[1].shape)\n",
    "print(\"Shape of the first element of the val_data tuple: \", val_samples[0].shape)\n",
    "print(\"Shape of the second element of the val_data tuple: \", val_samples[1].shape)\n",
    "print(\"Shape of the first element of the test_data tuple: \", test_samples[0].shape)\n",
    "print(\"Shape of the second element of the test_data tuple: \", test_samples[1].shape)"
   ]
  },
  {
   "cell_type": "markdown",
   "metadata": {
    "ExecuteTime": {
     "end_time": "2020-03-24T16:53:44.374743Z",
     "start_time": "2020-03-24T16:53:44.366238Z"
    }
   },
   "source": [
    "<font size=5 color=\"blue\">\n",
    "\n",
    "Analyzing the samples extracted from MNIST"
   ]
  },
  {
   "cell_type": "markdown",
   "metadata": {},
   "source": [
    "<font size=4 color='black'>\n",
    "The first entry of a sample corresponds to the network input, the values of the pixels, which are the image features. The second entry corresponds to the target variable. It is the digit value associated to the image. $$$$It is to note that pixel values were rescaled to values between 0.0 and 1.0"
   ]
  },
  {
   "cell_type": "code",
   "execution_count": 7,
   "metadata": {
    "ExecuteTime": {
     "end_time": "2020-11-17T21:24:06.822702Z",
     "start_time": "2020-11-17T21:24:06.811843Z"
    }
   },
   "outputs": [
    {
     "name": "stdout",
     "output_type": "stream",
     "text": [
      "features 150 to 199 of the first training sample \n",
      " \n",
      " [0.         0.         0.01171875 0.0703125  0.0703125  0.0703125\n",
      " 0.4921875  0.53125    0.68359375 0.1015625  0.6484375  0.99609375\n",
      " 0.96484375 0.49609375 0.         0.         0.         0.\n",
      " 0.         0.         0.         0.         0.         0.\n",
      " 0.         0.         0.1171875  0.140625   0.3671875  0.6015625\n",
      " 0.6640625  0.98828125 0.98828125 0.98828125 0.98828125 0.98828125\n",
      " 0.87890625 0.671875   0.98828125 0.9453125  0.76171875 0.25\n",
      " 0.         0.         0.         0.         0.         0.\n",
      " 0.         0.        ]\n",
      "\n",
      " y value of the first training sample = 5\n"
     ]
    }
   ],
   "source": [
    "print(\"features 150 to 199 of the first training sample \\n \\n\", learn_samples[0][0][150:200])\n",
    "print(\"\\n y value of the first training sample =\",learn_samples[1][0])"
   ]
  },
  {
   "cell_type": "markdown",
   "metadata": {
    "ExecuteTime": {
     "end_time": "2020-03-24T20:18:56.606700Z",
     "start_time": "2020-03-24T20:18:56.598151Z"
    }
   },
   "source": [
    "<font size=5 color=\"blue\">\n",
    "    \n",
    "Viewing one sample from the data sets"
   ]
  },
  {
   "cell_type": "markdown",
   "metadata": {},
   "source": [
    "<font size=4 color='black'>\n",
    "    \n",
    "The digits in the MNIST dataset are images of 28x28 pixels. \n",
    "    \n",
    "In the recovered datasets, images were represented by vectors of dimension 28x28=784. \n",
    "    \n",
    "To deploy the digit image of a sample (index), its vector representation is changed to a matrix with dimensions 28x28.\n",
    "    \n",
    "    \n",
    "This is done by using the following function:\n",
    "    \n",
    "plt.imshow(sets[0][index].reshape((28, 28)),cmap='gray')      #Images are in shades of gray\n",
    "\n",
    "Documentation: [matplotlib.pyplot.imshow(...)](https://matplotlib.org/stable/api/_as_gen/matplotlib.pyplot.imshow)"
   ]
  },
  {
   "cell_type": "code",
   "execution_count": 8,
   "metadata": {
    "ExecuteTime": {
     "end_time": "2020-11-17T21:24:06.960465Z",
     "start_time": "2020-11-17T21:24:06.823984Z"
    }
   },
   "outputs": [
    {
     "name": "stdout",
     "output_type": "stream",
     "text": [
      "5 is the digit corresponding to the sample 0\n",
      "\n",
      " This is its image\n"
     ]
    },
    {
     "data": {
      "image/png": "[encoded data removed]",
      "text/plain": [
       "<Figure size 432x288 with 1 Axes>"
      ]
     },
     "metadata": {
      "needs_background": "light"
     },
     "output_type": "display_data"
    }
   ],
   "source": [
    "index = 0\n",
    "\n",
    "plt.imshow(learn_samples[0][index].reshape((28, 28)),cmap='gray')\n",
    "\n",
    "print(learn_samples[1][index], \"is the digit corresponding to the sample\", index)\n",
    "print(\"\\n This is its image\")"
   ]
  },
  {
   "cell_type": "markdown",
   "metadata": {},
   "source": [
    "<font size=5 color='blue'>\n",
    "\n",
    "Separation of the samples into features (inputs) and targets:"
   ]
  },
  {
   "cell_type": "code",
   "execution_count": 9,
   "metadata": {
    "ExecuteTime": {
     "end_time": "2020-11-17T21:24:06.965967Z",
     "start_time": "2020-11-17T21:24:06.962735Z"
    }
   },
   "outputs": [],
   "source": [
    "x_learn = learn_samples[0]   # input (features) in the training data set\n",
    "y_learn = learn_samples[1]   # target (the digit) in the training data set\n",
    "\n",
    "x_val = val_samples[0]   # input (features) in the validation data set\n",
    "y_val = val_samples[1]   # target (the digit) in the validation data set\n",
    "\n",
    "x_test = test_samples[0]     # input (features) in the testing data set\n",
    "y_test = test_samples[1]     # target (the digit) in the testing data set\n"
   ]
  },
  {
   "cell_type": "code",
   "execution_count": 10,
   "metadata": {
    "ExecuteTime": {
     "end_time": "2020-11-17T21:24:06.979375Z",
     "start_time": "2020-11-17T21:24:06.968001Z"
    }
   },
   "outputs": [
    {
     "name": "stdout",
     "output_type": "stream",
     "text": [
      "<class 'numpy.ndarray'>\n",
      "(50000, 784)\n",
      "(50000,)\n",
      "(10000, 784)\n",
      "(10000,)\n",
      "(10000, 784)\n",
      "(10000,)\n"
     ]
    }
   ],
   "source": [
    "print(type(x_learn))\n",
    "print(x_learn.shape)\n",
    "print(y_learn.shape)\n",
    "print(x_val.shape)\n",
    "print(y_val.shape)\n",
    "print(x_test.shape)\n",
    "print(y_test.shape)"
   ]
  },
  {
   "cell_type": "code",
   "execution_count": 11,
   "metadata": {
    "ExecuteTime": {
     "end_time": "2020-11-17T21:24:06.991634Z",
     "start_time": "2020-11-17T21:24:06.980745Z"
    }
   },
   "outputs": [
    {
     "data": {
      "text/plain": [
       "array([5, 0, 4, ..., 8, 4, 8])"
      ]
     },
     "execution_count": 11,
     "metadata": {},
     "output_type": "execute_result"
    }
   ],
   "source": [
    "y_learn"
   ]
  },
  {
   "cell_type": "markdown",
   "metadata": {},
   "source": [
    "<font size=5 color='blue'>\n",
    "One-hot encoding of the target variable Y"
   ]
  },
  {
   "cell_type": "markdown",
   "metadata": {},
   "source": [
    "<font size=4 color='black'>\n",
    "The target value can have one of ten elements (classes), the digits (0, 1, 2, 3, 4, 5, 6, 7, 8, 9). \n",
    "\n",
    "The train_y and test_y sets are arrangements in which each entry contains a digit. Each digit is represented as a integer of 64 bits.\n",
    "    \n",
    "We change this representation to a vectorial one following One-hot encoding \n",
    "[One-hot encoding](https://en.wikipedia.org/wiki/One-hot).\n",
    "    \n",
    "In the One-Hot encoding, a digit is represented with a vector having dimension 10 (because we have 10 classes) with 1.0 in the vector index corresponding to the digit and 0.0 elsewhere in the vector. \n"
   ]
  },
  {
   "cell_type": "markdown",
   "metadata": {},
   "source": [
    "<font size=5 color='blue' >\n",
    "    \n",
    "Digit |     One-hot representation \n",
    "--- | --- \n",
    " 0  | [1. 0. 0. 0. 0. 0. 0. 0. 0. 0.]\n",
    " 1  | [0. 1. 0. 0. 0. 0. 0. 0. 0. 0.]\n",
    " 2  | [0. 0. 1. 0. 0. 0. 0. 0. 0. 0.]\n",
    " 3  | [0. 0. 0. 1. 0. 0. 0. 0. 0. 0.]\n",
    " 4  | [0. 0. 0. 0. 1. 0. 0. 0. 0. 0.]\n",
    " 5  | [0. 0. 0. 0. 0. 1. 0. 0. 0. 0.]\n",
    " 6  | [0. 0. 0. 0. 0. 0. 1. 0. 0. 0.]\n",
    " 7  | [0. 0. 0. 0. 0. 0. 0. 1. 0. 0.]\n",
    " 8  | [0. 0. 0. 0. 0. 0. 0. 0. 1. 0.]\n",
    " 9  | [0. 0. 0. 0. 0. 0. 0. 0. 0. 1.]"
   ]
  },
  {
   "cell_type": "markdown",
   "metadata": {},
   "source": [
    "<font size=5 color='blue'>\n",
    "Demo using numpy.eye"
   ]
  },
  {
   "cell_type": "code",
   "execution_count": 12,
   "metadata": {
    "ExecuteTime": {
     "end_time": "2020-11-17T21:24:07.004858Z",
     "start_time": "2020-11-17T21:24:06.992874Z"
    }
   },
   "outputs": [
    {
     "data": {
      "text/plain": [
       "array([[1., 0., 0., 0., 0., 0., 0., 0., 0., 0.],\n",
       "       [0., 1., 0., 0., 0., 0., 0., 0., 0., 0.],\n",
       "       [0., 0., 1., 0., 0., 0., 0., 0., 0., 0.],\n",
       "       [0., 0., 0., 1., 0., 0., 0., 0., 0., 0.],\n",
       "       [0., 0., 0., 0., 1., 0., 0., 0., 0., 0.],\n",
       "       [0., 0., 0., 0., 0., 1., 0., 0., 0., 0.],\n",
       "       [0., 0., 0., 0., 0., 0., 1., 0., 0., 0.],\n",
       "       [0., 0., 0., 0., 0., 0., 0., 1., 0., 0.],\n",
       "       [0., 0., 0., 0., 0., 0., 0., 0., 1., 0.],\n",
       "       [0., 0., 0., 0., 0., 0., 0., 0., 0., 1.]])"
      ]
     },
     "execution_count": 12,
     "metadata": {},
     "output_type": "execute_result"
    }
   ],
   "source": [
    "np.eye(10)"
   ]
  },
  {
   "cell_type": "code",
   "execution_count": 13,
   "metadata": {
    "ExecuteTime": {
     "end_time": "2020-11-17T21:24:07.016302Z",
     "start_time": "2020-11-17T21:24:07.006472Z"
    }
   },
   "outputs": [
    {
     "data": {
      "text/plain": [
       "array([1., 0., 0., 0., 0., 0., 0., 0., 0., 0.])"
      ]
     },
     "execution_count": 13,
     "metadata": {},
     "output_type": "execute_result"
    }
   ],
   "source": [
    "np.eye(10)[0]"
   ]
  },
  {
   "cell_type": "code",
   "execution_count": 14,
   "metadata": {
    "ExecuteTime": {
     "end_time": "2020-11-17T21:24:07.028455Z",
     "start_time": "2020-11-17T21:24:07.017626Z"
    }
   },
   "outputs": [
    {
     "data": {
      "text/plain": [
       "array([0., 1., 0., 0., 0., 0., 0., 0., 0., 0.])"
      ]
     },
     "execution_count": 14,
     "metadata": {},
     "output_type": "execute_result"
    }
   ],
   "source": [
    "np.eye(10)[1]"
   ]
  },
  {
   "cell_type": "code",
   "execution_count": 15,
   "metadata": {
    "ExecuteTime": {
     "end_time": "2020-11-17T21:24:07.040513Z",
     "start_time": "2020-11-17T21:24:07.029624Z"
    }
   },
   "outputs": [
    {
     "data": {
      "text/plain": [
       "array([5, 0, 4, 1, 9])"
      ]
     },
     "execution_count": 15,
     "metadata": {},
     "output_type": "execute_result"
    }
   ],
   "source": [
    "y_learn[0:5]"
   ]
  },
  {
   "cell_type": "markdown",
   "metadata": {
    "ExecuteTime": {
     "end_time": "2020-11-16T19:22:13.283991Z",
     "start_time": "2020-11-16T19:22:13.273520Z"
    }
   },
   "source": [
    "np.eye(10)[train_y[0:5].reshape(-1)]"
   ]
  },
  {
   "cell_type": "code",
   "execution_count": 16,
   "metadata": {
    "ExecuteTime": {
     "end_time": "2020-11-17T21:24:07.054673Z",
     "start_time": "2020-11-17T21:24:07.041917Z"
    }
   },
   "outputs": [
    {
     "data": {
      "text/plain": [
       "array([[0., 0., 0., 0., 0., 1., 0., 0., 0., 0.],\n",
       "       [1., 0., 0., 0., 0., 0., 0., 0., 0., 0.],\n",
       "       [0., 0., 0., 0., 1., 0., 0., 0., 0., 0.],\n",
       "       [0., 1., 0., 0., 0., 0., 0., 0., 0., 0.],\n",
       "       [0., 0., 0., 0., 0., 0., 0., 0., 0., 1.]])"
      ]
     },
     "execution_count": 16,
     "metadata": {},
     "output_type": "execute_result"
    }
   ],
   "source": [
    "np.eye(10)[y_learn[0:5]]"
   ]
  },
  {
   "cell_type": "markdown",
   "metadata": {},
   "source": [
    "<font size=5 color='blue'>\n",
    "End of demo using numpy.eye"
   ]
  },
  {
   "cell_type": "code",
   "execution_count": 17,
   "metadata": {
    "ExecuteTime": {
     "end_time": "2020-11-17T21:24:07.068451Z",
     "start_time": "2020-11-17T21:24:07.056597Z"
    }
   },
   "outputs": [],
   "source": [
    "learn_y = np.eye(10)[y_learn]\n",
    "\n",
    "val_y = np.eye(10)[y_val]\n",
    "\n",
    "test_y = np.eye(10)[y_test]"
   ]
  },
  {
   "cell_type": "code",
   "execution_count": 18,
   "metadata": {
    "ExecuteTime": {
     "end_time": "2020-11-17T21:24:07.078264Z",
     "start_time": "2020-11-17T21:24:07.070283Z"
    }
   },
   "outputs": [
    {
     "name": "stdout",
     "output_type": "stream",
     "text": [
      "Y: Digit representation for the first learning sample \n",
      " 5\n",
      "Y: One-hot representation for the first leaning sample \n",
      " [0. 0. 0. 0. 0. 1. 0. 0. 0. 0.]\n"
     ]
    }
   ],
   "source": [
    "print(\"Y: Digit representation for the first learning sample \\n\", y_learn[0])\n",
    "print(\"Y: One-hot representation for the first leaning sample \\n\",learn_y[0])"
   ]
  },
  {
   "cell_type": "markdown",
   "metadata": {},
   "source": [
    "<font size=4 color=\"black\">\n",
    "    \n",
    "For convenience, the dimensions of the input sets will be changed to the format:\n",
    "\n",
    "(number of samples, image width, image length)."
   ]
  },
  {
   "cell_type": "code",
   "execution_count": 19,
   "metadata": {
    "ExecuteTime": {
     "end_time": "2020-11-17T21:24:07.090004Z",
     "start_time": "2020-11-17T21:24:07.079918Z"
    }
   },
   "outputs": [],
   "source": [
    "learn_x = x_learn.reshape(50000, 28, 28)\n",
    "val_x  = x_val.reshape(10000, 28, 28)\n",
    "test_x = x_test.reshape(10000, 28, 28)"
   ]
  },
  {
   "cell_type": "markdown",
   "metadata": {},
   "source": [
    "<font size=4 color=\"black\">\n",
    "    \n",
    "In summary, the learning and test sample sets are based on the following dimensions:"
   ]
  },
  {
   "cell_type": "code",
   "execution_count": 20,
   "metadata": {
    "ExecuteTime": {
     "end_time": "2020-11-17T21:24:07.103786Z",
     "start_time": "2020-11-17T21:24:07.091277Z"
    },
    "scrolled": true
   },
   "outputs": [
    {
     "name": "stdout",
     "output_type": "stream",
     "text": [
      "number of learning samples = 50000\n",
      "number of validation samples = 10000\n",
      "number of test samples = 10000\n",
      "learn_x shape: (50000, 28, 28)\n",
      "learn_y shape: (50000, 10)\n",
      "val_x shape: (10000, 28, 28)\n",
      "val_y shape: (10000, 10)\n",
      "test_x shape: (10000, 28, 28)\n",
      "test_y shape: (10000, 10)\n"
     ]
    }
   ],
   "source": [
    "print (\"number of learning samples = \" + str(learn_x.shape[0]))\n",
    "print (\"number of validation samples = \" + str(val_x.shape[0]))\n",
    "print (\"number of test samples = \" + str(test_x.shape[0]))\n",
    "print (\"learn_x shape: \" + str(learn_x.shape))\n",
    "print (\"learn_y shape: \" + str(learn_y.shape))\n",
    "\n",
    "print (\"val_x shape: \" + str(val_x.shape))\n",
    "print (\"val_y shape: \" + str(val_y.shape))\n",
    "\n",
    "print (\"test_x shape: \" + str(test_x.shape))\n",
    "print (\"test_y shape: \" + str(test_y.shape))"
   ]
  },
  {
   "cell_type": "markdown",
   "metadata": {
    "ExecuteTime": {
     "end_time": "2020-03-24T17:05:44.199775Z",
     "start_time": "2020-03-24T17:05:44.190483Z"
    }
   },
   "source": [
    "<font size=5 color=\"blue\">\n",
    "\n",
    "Constructing the Learning Machine"
   ]
  },
  {
   "cell_type": "markdown",
   "metadata": {},
   "source": [
    "<font size=4 color='blue'>\n",
    "    \n",
    "Model of the Machine: Full-Connected Feed-Forward Network (FF) with one hidden layer with twenty neurons. The nodes in the output layer will be activated with the softmax function."
   ]
  },
  {
   "cell_type": "markdown",
   "metadata": {
    "ExecuteTime": {
     "end_time": "2020-03-24T17:05:44.199775Z",
     "start_time": "2020-03-24T17:05:44.190483Z"
    }
   },
   "source": [
    "<font size=5 color=\"black\">\n",
    "\n",
    "\n",
    "The architecture of the neural network will be shown"
   ]
  },
  {
   "cell_type": "code",
   "execution_count": 21,
   "metadata": {
    "ExecuteTime": {
     "end_time": "2020-11-17T21:24:07.249974Z",
     "start_time": "2020-11-17T21:24:07.105436Z"
    }
   },
   "outputs": [],
   "source": [
    "import networkx as nx\n",
    "\n",
    "class Network(object):\n",
    "    \n",
    "    def  __init__ (self,sizes):\n",
    "        self.num_layers = len(sizes)\n",
    "        print(\"It has\", self.num_layers, \"layers,\")\n",
    "        self.sizes = sizes\n",
    "        print(\"with the following number of nodes per layer\",self.sizes)\n",
    "        self.biases = [np.random.randn(y, 1) for y in sizes[1:]]\n",
    "        self.weights = [np.random.randn(y, x)\n",
    "                        for x, y in zip(sizes[:-1], sizes[1:])]\n",
    "        \n",
    "    def feedforward(self, x_of_sample):\n",
    "        \"\"\"Return the output of the network F(x_of_sample) \"\"\"        \n",
    "        for b, w in zip(self.biases, self.weights):\n",
    "            x_of_sample = sigmoid(np.dot(w, x_of_sample)+b)\n",
    "        return x_of_sample\n",
    "    \n",
    "    def graph(self,sizes):\n",
    "        a=[]\n",
    "        ps={}\n",
    "        Q = nx.Graph()\n",
    "        for i in range(len(sizes)):\n",
    "            Qi=nx.Graph()    \n",
    "            n=sizes[i]\n",
    "            nodos=np.arange(n)\n",
    "            Qi.add_nodes_from(nodos)\n",
    "            l_i=Qi.nodes\n",
    "            Q = nx.union(Q, Qi, rename = (None, 'Q%i-'%i))\n",
    "            if len(l_i)==1:\n",
    "                ps['Q%i-0'%i]=[i/(len(sizes)), 1/2]\n",
    "            else:\n",
    "                for j in range(len(l_i)+1):\n",
    "                    ps['Q%i-%i'%(i,j)]=[i/(len(sizes)),(1/(len(l_i)*len(l_i)))+(j/(len(l_i)))]\n",
    "            a.insert(i,Qi)\n",
    "        for i in range(len(a)-1):\n",
    "            for j in range(len(a[i])):\n",
    "                for k in range(len(a[i+1])):\n",
    "                    Q.add_edge('Q%i-%i' %(i,j),'Q%i-%i' %(i+1,k))\n",
    "        nx.draw(Q, pos = ps)\n",
    "                "
   ]
  },
  {
   "cell_type": "code",
   "execution_count": 22,
   "metadata": {
    "ExecuteTime": {
     "end_time": "2020-11-17T21:24:07.844313Z",
     "start_time": "2020-11-17T21:24:07.251233Z"
    }
   },
   "outputs": [
    {
     "name": "stdout",
     "output_type": "stream",
     "text": [
      "It has 3 layers,\n",
      "with the following number of nodes per layer [784, 20, 10]\n"
     ]
    },
    {
     "data": {
      "image/png": "[encoded data removed]",
      "text/plain": [
       "<Figure size 432x288 with 1 Axes>"
      ]
     },
     "metadata": {},
     "output_type": "display_data"
    }
   ],
   "source": [
    "# Architecture of the neural network we want to implement in the present notebook\n",
    "\n",
    "layers = [784,20,10]\n",
    "net = Network(layers)\n",
    "net.graph(layers)"
   ]
  },
  {
   "cell_type": "markdown",
   "metadata": {},
   "source": [
    "<font size=5 color='blue'>\n",
    "\n",
    "Definition of the neural network architecture\n",
    "  "
   ]
  },
  {
   "cell_type": "markdown",
   "metadata": {},
   "source": [
    "<font size=5 color='black'> \n",
    "    \n",
    "Keras has two different modes to define the architecture:\n",
    "\n",
    "<font size=4 color='black'> \n",
    "    \n",
    "    1.- The sequential model. It is a sequential stack of layers.\n",
    "    \n",
    "    2.- The functional API. It is the way to go for defining complex models, such as multi-output models, directed acyclic graphs, or models with shared layers.  \n",
    "\n",
    "In the present case, we will use this last mode for constructing the architecture of the network.\n",
    "    \n",
    "\n",
    "Documentation: [Keras Functional API](https://keras.io/getting-started/functional-api-guide/)"
   ]
  },
  {
   "cell_type": "code",
   "execution_count": 23,
   "metadata": {
    "ExecuteTime": {
     "end_time": "2020-11-17T21:24:07.852568Z",
     "start_time": "2020-11-17T21:24:07.845843Z"
    }
   },
   "outputs": [],
   "source": [
    "def architecture(input_shape, num_clases):\n",
    "    \n",
    "    # Defining the input as a tensor with shape input_shape. \n",
    "    inputs = Input(input_shape, name='input-layer')\n",
    "    \n",
    "    # Flattening the input tensor of dimensions (28,28,1) to a tensor of dimensions (784, 1)\n",
    "    x = Flatten()(inputs)\n",
    "    \n",
    "    # Defining the first hidden layer with 20 nodes and sigmoid as activation function\n",
    "    x = Dense(20, kernel_initializer='uniform', bias_initializer='zeros', name='hidden-layer')(x)\n",
    "    x = Activation('sigmoid')(x)\n",
    "    \n",
    "    # Defining the output layer with num_clases nodes \n",
    "    x = Dense(num_clases, kernel_initializer='uniform', bias_initializer='zeros')(x)\n",
    "    \n",
    "    # For the output layer we use the activation function 'softmax'\n",
    "    outputs = Activation('softmax', name='output.layer')(x)\n",
    "\n",
    "    # Create model. This creates your Keras model instance, you'll use this instance to train/test the model.    \n",
    "    arch_model = Model(inputs = inputs, outputs = outputs, name='MnistModel')\n",
    "\n",
    "    return arch_model"
   ]
  },
  {
   "attachments": {
    "image.png": {
     "image/png": "[encoded data removed]"
    }
   },
   "cell_type": "markdown",
   "metadata": {},
   "source": [
    "<font size=4 color='black'> \n",
    "\n",
    "    \n",
    "   *The softmax activation function is always used for classification when the number (K) of classes is larger than two.* \n",
    "\n",
    "![image.png](attachment:image.png)\n",
    "    \n",
    "[Activation functions](./Literatura/activation_functions_2018.pdf)"
   ]
  },
  {
   "cell_type": "markdown",
   "metadata": {
    "ExecuteTime": {
     "end_time": "2020-03-24T18:29:47.071906Z",
     "start_time": "2020-03-24T18:29:47.067719Z"
    }
   },
   "source": [
    "\n",
    "<font size=5 color=\"blue\">\n",
    "\n",
    "Constructing the neural network model for the Learning Machine"
   ]
  },
  {
   "cell_type": "code",
   "execution_count": 24,
   "metadata": {
    "ExecuteTime": {
     "end_time": "2020-11-17T21:24:07.919154Z",
     "start_time": "2020-11-17T21:24:07.856354Z"
    }
   },
   "outputs": [],
   "source": [
    "one_image = (28,28)\n",
    "num_classes= 10\n",
    "\n",
    "# Generating a model using the architecture defined for the neural network\n",
    "mnist_model = architecture(one_image, num_classes)"
   ]
  },
  {
   "cell_type": "markdown",
   "metadata": {
    "ExecuteTime": {
     "end_time": "2020-03-24T00:03:50.539765Z",
     "start_time": "2020-03-24T00:03:50.534266Z"
    }
   },
   "source": [
    "<font size=5 color=\"blue\">\n",
    "    \n",
    "Model's plot and summary"
   ]
  },
  {
   "cell_type": "markdown",
   "metadata": {},
   "source": [
    "<font size=4 color='black'> \n",
    "The function 'plot_model()' generates a graphic with the layers and their number of input ands output weights.\n",
    "$$ $$\n",
    "Documentation: [Model visualization](https://keras.io/visualization/#training-history-visualization)"
   ]
  },
  {
   "cell_type": "code",
   "execution_count": 25,
   "metadata": {
    "ExecuteTime": {
     "end_time": "2020-11-17T21:24:08.012027Z",
     "start_time": "2020-11-17T21:24:07.920779Z"
    }
   },
   "outputs": [
    {
     "data": {
      "image/png": "[encoded data removed]",
      "text/plain": [
       "<IPython.core.display.Image object>"
      ]
     },
     "execution_count": 25,
     "metadata": {},
     "output_type": "execute_result"
    }
   ],
   "source": [
    "plot_model(mnist_model, to_file='FF_mnist_model.png', show_shapes=True, show_layer_names=True)"
   ]
  },
  {
   "cell_type": "code",
   "execution_count": 26,
   "metadata": {
    "ExecuteTime": {
     "end_time": "2020-11-17T21:24:08.018904Z",
     "start_time": "2020-11-17T21:24:08.013470Z"
    }
   },
   "outputs": [
    {
     "name": "stdout",
     "output_type": "stream",
     "text": [
      "Model: \"MnistModel\"\n",
      "_________________________________________________________________\n",
      "Layer (type)                 Output Shape              Param #   \n",
      "=================================================================\n",
      "input-layer (InputLayer)     [(None, 28, 28)]          0         \n",
      "_________________________________________________________________\n",
      "flatten (Flatten)            (None, 784)               0         \n",
      "_________________________________________________________________\n",
      "hidden-layer (Dense)         (None, 20)                15700     \n",
      "_________________________________________________________________\n",
      "activation (Activation)      (None, 20)                0         \n",
      "_________________________________________________________________\n",
      "dense (Dense)                (None, 10)                210       \n",
      "_________________________________________________________________\n",
      "output.layer (Activation)    (None, 10)                0         \n",
      "=================================================================\n",
      "Total params: 15,910\n",
      "Trainable params: 15,910\n",
      "Non-trainable params: 0\n",
      "_________________________________________________________________\n"
     ]
    }
   ],
   "source": [
    "\n",
    "mnist_model.summary()"
   ]
  },
  {
   "cell_type": "markdown",
   "metadata": {
    "ExecuteTime": {
     "end_time": "2020-11-15T22:54:01.482701Z",
     "start_time": "2020-11-15T22:54:01.471240Z"
    }
   },
   "source": [
    "<font size=5 color='blue'>\n",
    "Optimization method"
   ]
  },
  {
   "cell_type": "markdown",
   "metadata": {},
   "source": [
    "<font size=4 color=\"black\">\n",
    "This requires defining the optimization algorithm, the loss function and the metric.\n",
    "    \n",
    "In the present case we are using the algorithm of Stochastic Gradient descent with learning rate \"lr\", \"momentum\" without Nesterov acceleration\".\n",
    "\n",
    "\n",
    "[An overview of gradient descent optimization algorithms](./Literatura/SGD_overview_2016-17.pdf)\n",
    "\n",
    "This publication also comments some other optimization variants of this algorithm; Adagrad, Adadelta, RMStrop and Adam."
   ]
  },
  {
   "cell_type": "markdown",
   "metadata": {
    "ExecuteTime": {
     "end_time": "2020-11-17T18:24:57.726929Z",
     "start_time": "2020-11-17T18:24:57.717602Z"
    }
   },
   "source": [
    "<font size=5 color='blue'>\n",
    "Optimizer"
   ]
  },
  {
   "cell_type": "code",
   "execution_count": 27,
   "metadata": {
    "ExecuteTime": {
     "end_time": "2020-11-17T21:24:08.045698Z",
     "start_time": "2020-11-17T21:24:08.020323Z"
    }
   },
   "outputs": [],
   "source": [
    "learning_rate = 0.01\n",
    "\n",
    "optimizer = keras.optimizers.SGD(learning_rate=0.01, momentum=0.0, nesterov=False)"
   ]
  },
  {
   "cell_type": "markdown",
   "metadata": {
    "ExecuteTime": {
     "end_time": "2020-11-17T18:09:46.075549Z",
     "start_time": "2020-11-17T18:09:46.071063Z"
    }
   },
   "source": [
    "<font size=5 color='blue'>\n",
    "The cost (loss) and Metric functions"
   ]
  },
  {
   "cell_type": "markdown",
   "metadata": {},
   "source": [
    "<font size=4 color=\"black\">\n",
    "    \n",
    "The cost function *J* is the one defined as \"categorical_crossentropy\"\n",
    "    \n",
    "$$ J = \\frac{1}{m} \\sum_{i=1}^m \\sum_{k=0}^{K-1}(y_k^{(i)}*\\log{(F_k(x^{(i)})))}$$\n",
    "    \n",
    " where $F_k(x^{(i)})$ is the predicted value and $y_k^{(i)}$ is the target value for the sample *i*; *K* is the number of classes and *m* is the number of samples.\n",
    "    \n",
    "[Cross entropy](https://en.wikipedia.org/wiki/Cross_entropy)\n",
    "    \n",
    "[Categorical cross entropy](https://www.deeplearningbook.org/)\n",
    "    \n",
    "\n",
    "A metric function is similar to a loss function, except that the results from evaluating a metric are not used when training the model. You may use any of the loss functions as a metric function. In the present example, we are using \"accuracy\" as metrics:\n",
    "    \n",
    "*Accuracy = Number of correct predictions / Total number of predictions made*\n",
    "    \n",
    "\n",
    "Categorical crossentropy will compare the distribution of the predictions (the activations in the output layer, one for each class) with the true distribution, where the probability of the true class is set to 1, and 0 for the other classes.\n",
    "\n",
    "To put it in a different way, the true class is represented as an encoded vector, and the closer the model’s outputs are to that vector, the lower the loss.\n",
    "    \n",
    "Documentation: [keras.compile(...)](https://keras.io/models/model/#compile)"
   ]
  },
  {
   "cell_type": "code",
   "execution_count": 28,
   "metadata": {
    "ExecuteTime": {
     "end_time": "2020-11-17T21:24:08.049657Z",
     "start_time": "2020-11-17T21:24:08.047124Z"
    }
   },
   "outputs": [],
   "source": [
    "loss_function = 'categorical_crossentropy'\n",
    "metric_function = 'accuracy'"
   ]
  },
  {
   "cell_type": "markdown",
   "metadata": {},
   "source": [
    "<font size=5 color='blue'>\n",
    "Compiling the model"
   ]
  },
  {
   "cell_type": "code",
   "execution_count": 29,
   "metadata": {
    "ExecuteTime": {
     "end_time": "2020-11-17T21:24:08.108610Z",
     "start_time": "2020-11-17T21:24:08.051598Z"
    }
   },
   "outputs": [],
   "source": [
    "mnist_model.compile(optimizer = optimizer, loss = loss_function, metrics = [metric_function])"
   ]
  },
  {
   "cell_type": "markdown",
   "metadata": {},
   "source": [
    "<font size=5 color='blue'>\n",
    "    \n",
    "The Machine is learning"
   ]
  },
  {
   "cell_type": "markdown",
   "metadata": {},
   "source": [
    "<font size=4 color=\"black\">\n",
    "    \n",
    "Documentation: [keras.fit(...)](https://keras.io/models/model/#fit)\n"
   ]
  },
  {
   "cell_type": "code",
   "execution_count": 30,
   "metadata": {
    "ExecuteTime": {
     "end_time": "2020-11-17T21:25:30.676613Z",
     "start_time": "2020-11-17T21:24:08.110028Z"
    },
    "scrolled": true
   },
   "outputs": [
    {
     "name": "stdout",
     "output_type": "stream",
     "text": [
      "Epoch 1/100\n",
      "500/500 - 1s - loss: 2.2960 - accuracy: 0.1136 - val_loss: 2.2897 - val_accuracy: 0.1064\n",
      "Epoch 2/100\n",
      "500/500 - 0s - loss: 2.2779 - accuracy: 0.1305 - val_loss: 2.2626 - val_accuracy: 0.1828\n",
      "Epoch 3/100\n",
      "500/500 - 0s - loss: 2.2343 - accuracy: 0.2213 - val_loss: 2.1975 - val_accuracy: 0.2770\n",
      "Epoch 4/100\n",
      "500/500 - 0s - loss: 2.1413 - accuracy: 0.3381 - val_loss: 2.0732 - val_accuracy: 0.4120\n",
      "Epoch 5/100\n",
      "500/500 - 0s - loss: 1.9896 - accuracy: 0.4500 - val_loss: 1.8940 - val_accuracy: 0.5103\n",
      "Epoch 6/100\n",
      "500/500 - 0s - loss: 1.7997 - accuracy: 0.5309 - val_loss: 1.6924 - val_accuracy: 0.5848\n",
      "Epoch 7/100\n",
      "500/500 - 0s - loss: 1.6066 - accuracy: 0.5923 - val_loss: 1.5021 - val_accuracy: 0.6383\n",
      "Epoch 8/100\n",
      "500/500 - 0s - loss: 1.4343 - accuracy: 0.6384 - val_loss: 1.3384 - val_accuracy: 0.6838\n",
      "Epoch 9/100\n",
      "500/500 - 0s - loss: 1.2890 - accuracy: 0.6789 - val_loss: 1.2019 - val_accuracy: 0.7227\n",
      "Epoch 10/100\n",
      "500/500 - 0s - loss: 1.1680 - accuracy: 0.7153 - val_loss: 1.0877 - val_accuracy: 0.7557\n",
      "Epoch 11/100\n",
      "500/500 - 0s - loss: 1.0663 - accuracy: 0.7461 - val_loss: 0.9912 - val_accuracy: 0.7808\n",
      "Epoch 12/100\n",
      "500/500 - 0s - loss: 0.9797 - accuracy: 0.7700 - val_loss: 0.9090 - val_accuracy: 0.8012\n",
      "Epoch 13/100\n",
      "500/500 - 0s - loss: 0.9057 - accuracy: 0.7899 - val_loss: 0.8390 - val_accuracy: 0.8182\n",
      "Epoch 14/100\n",
      "500/500 - 0s - loss: 0.8423 - accuracy: 0.8054 - val_loss: 0.7792 - val_accuracy: 0.8321\n",
      "Epoch 15/100\n",
      "500/500 - 0s - loss: 0.7879 - accuracy: 0.8176 - val_loss: 0.7281 - val_accuracy: 0.8440\n",
      "Epoch 16/100\n",
      "500/500 - 0s - loss: 0.7411 - accuracy: 0.8282 - val_loss: 0.6843 - val_accuracy: 0.8536\n",
      "Epoch 17/100\n",
      "500/500 - 0s - loss: 0.7007 - accuracy: 0.8382 - val_loss: 0.6466 - val_accuracy: 0.8615\n",
      "Epoch 18/100\n",
      "500/500 - 0s - loss: 0.6655 - accuracy: 0.8465 - val_loss: 0.6137 - val_accuracy: 0.8665\n",
      "Epoch 19/100\n",
      "500/500 - 0s - loss: 0.6346 - accuracy: 0.8529 - val_loss: 0.5849 - val_accuracy: 0.8721\n",
      "Epoch 20/100\n",
      "500/500 - 0s - loss: 0.6074 - accuracy: 0.8580 - val_loss: 0.5594 - val_accuracy: 0.8751\n",
      "Epoch 21/100\n",
      "500/500 - 0s - loss: 0.5832 - accuracy: 0.8630 - val_loss: 0.5369 - val_accuracy: 0.8798\n",
      "Epoch 22/100\n",
      "500/500 - 0s - loss: 0.5616 - accuracy: 0.8675 - val_loss: 0.5167 - val_accuracy: 0.8828\n",
      "Epoch 23/100\n",
      "500/500 - 0s - loss: 0.5422 - accuracy: 0.8710 - val_loss: 0.4987 - val_accuracy: 0.8862\n",
      "Epoch 24/100\n",
      "500/500 - 0s - loss: 0.5247 - accuracy: 0.8742 - val_loss: 0.4825 - val_accuracy: 0.8886\n",
      "Epoch 25/100\n",
      "500/500 - 0s - loss: 0.5089 - accuracy: 0.8770 - val_loss: 0.4679 - val_accuracy: 0.8912\n",
      "Epoch 26/100\n",
      "500/500 - 0s - loss: 0.4946 - accuracy: 0.8793 - val_loss: 0.4546 - val_accuracy: 0.8937\n",
      "Epoch 27/100\n",
      "500/500 - 0s - loss: 0.4816 - accuracy: 0.8818 - val_loss: 0.4426 - val_accuracy: 0.8957\n",
      "Epoch 28/100\n",
      "500/500 - 0s - loss: 0.4697 - accuracy: 0.8836 - val_loss: 0.4316 - val_accuracy: 0.8966\n",
      "Epoch 29/100\n",
      "500/500 - 0s - loss: 0.4588 - accuracy: 0.8856 - val_loss: 0.4216 - val_accuracy: 0.8983\n",
      "Epoch 30/100\n",
      "500/500 - 0s - loss: 0.4488 - accuracy: 0.8874 - val_loss: 0.4124 - val_accuracy: 0.8993\n",
      "Epoch 31/100\n",
      "500/500 - 0s - loss: 0.4396 - accuracy: 0.8888 - val_loss: 0.4039 - val_accuracy: 0.9009\n",
      "Epoch 32/100\n",
      "500/500 - 0s - loss: 0.4311 - accuracy: 0.8906 - val_loss: 0.3961 - val_accuracy: 0.9022\n",
      "Epoch 33/100\n",
      "500/500 - 0s - loss: 0.4232 - accuracy: 0.8919 - val_loss: 0.3889 - val_accuracy: 0.9035\n",
      "Epoch 34/100\n",
      "500/500 - 0s - loss: 0.4159 - accuracy: 0.8932 - val_loss: 0.3822 - val_accuracy: 0.9042\n",
      "Epoch 35/100\n",
      "500/500 - 0s - loss: 0.4091 - accuracy: 0.8946 - val_loss: 0.3760 - val_accuracy: 0.9055\n",
      "Epoch 36/100\n",
      "500/500 - 0s - loss: 0.4027 - accuracy: 0.8959 - val_loss: 0.3702 - val_accuracy: 0.9067\n",
      "Epoch 37/100\n",
      "500/500 - 0s - loss: 0.3968 - accuracy: 0.8968 - val_loss: 0.3648 - val_accuracy: 0.9083\n",
      "Epoch 38/100\n",
      "500/500 - 0s - loss: 0.3912 - accuracy: 0.8979 - val_loss: 0.3597 - val_accuracy: 0.9089\n",
      "Epoch 39/100\n",
      "500/500 - 0s - loss: 0.3860 - accuracy: 0.8993 - val_loss: 0.3550 - val_accuracy: 0.9096\n",
      "Epoch 40/100\n",
      "500/500 - 0s - loss: 0.3811 - accuracy: 0.9001 - val_loss: 0.3505 - val_accuracy: 0.9106\n",
      "Epoch 41/100\n",
      "500/500 - 0s - loss: 0.3764 - accuracy: 0.9009 - val_loss: 0.3462 - val_accuracy: 0.9112\n",
      "Epoch 42/100\n",
      "500/500 - 0s - loss: 0.3720 - accuracy: 0.9017 - val_loss: 0.3422 - val_accuracy: 0.9120\n",
      "Epoch 43/100\n",
      "500/500 - 0s - loss: 0.3678 - accuracy: 0.9026 - val_loss: 0.3384 - val_accuracy: 0.9127\n",
      "Epoch 44/100\n",
      "500/500 - 0s - loss: 0.3638 - accuracy: 0.9034 - val_loss: 0.3348 - val_accuracy: 0.9134\n",
      "Epoch 45/100\n",
      "500/500 - 0s - loss: 0.3600 - accuracy: 0.9042 - val_loss: 0.3314 - val_accuracy: 0.9141\n",
      "Epoch 46/100\n",
      "500/500 - 0s - loss: 0.3564 - accuracy: 0.9047 - val_loss: 0.3282 - val_accuracy: 0.9147\n",
      "Epoch 47/100\n",
      "500/500 - 0s - loss: 0.3530 - accuracy: 0.9055 - val_loss: 0.3251 - val_accuracy: 0.9150\n",
      "Epoch 48/100\n",
      "500/500 - 0s - loss: 0.3497 - accuracy: 0.9064 - val_loss: 0.3221 - val_accuracy: 0.9156\n",
      "Epoch 49/100\n",
      "500/500 - 0s - loss: 0.3465 - accuracy: 0.9071 - val_loss: 0.3193 - val_accuracy: 0.9161\n",
      "Epoch 50/100\n",
      "500/500 - 0s - loss: 0.3435 - accuracy: 0.9076 - val_loss: 0.3166 - val_accuracy: 0.9166\n",
      "Epoch 51/100\n",
      "500/500 - 0s - loss: 0.3406 - accuracy: 0.9083 - val_loss: 0.3139 - val_accuracy: 0.9176\n",
      "Epoch 52/100\n",
      "500/500 - 0s - loss: 0.3378 - accuracy: 0.9089 - val_loss: 0.3115 - val_accuracy: 0.9182\n",
      "Epoch 53/100\n",
      "500/500 - 0s - loss: 0.3351 - accuracy: 0.9097 - val_loss: 0.3091 - val_accuracy: 0.9186\n",
      "Epoch 54/100\n",
      "500/500 - 0s - loss: 0.3325 - accuracy: 0.9103 - val_loss: 0.3067 - val_accuracy: 0.9191\n",
      "Epoch 55/100\n",
      "500/500 - 0s - loss: 0.3300 - accuracy: 0.9110 - val_loss: 0.3045 - val_accuracy: 0.9195\n",
      "Epoch 56/100\n",
      "500/500 - 0s - loss: 0.3276 - accuracy: 0.9115 - val_loss: 0.3024 - val_accuracy: 0.9203\n",
      "Epoch 57/100\n",
      "500/500 - 0s - loss: 0.3253 - accuracy: 0.9119 - val_loss: 0.3003 - val_accuracy: 0.9204\n",
      "Epoch 58/100\n",
      "500/500 - 0s - loss: 0.3230 - accuracy: 0.9124 - val_loss: 0.2983 - val_accuracy: 0.9206\n",
      "Epoch 59/100\n",
      "500/500 - 0s - loss: 0.3208 - accuracy: 0.9129 - val_loss: 0.2964 - val_accuracy: 0.9213\n",
      "Epoch 60/100\n",
      "500/500 - 0s - loss: 0.3187 - accuracy: 0.9136 - val_loss: 0.2945 - val_accuracy: 0.9214\n",
      "Epoch 61/100\n",
      "500/500 - 0s - loss: 0.3166 - accuracy: 0.9141 - val_loss: 0.2927 - val_accuracy: 0.9217\n",
      "Epoch 62/100\n",
      "500/500 - 0s - loss: 0.3146 - accuracy: 0.9147 - val_loss: 0.2909 - val_accuracy: 0.9222\n",
      "Epoch 63/100\n",
      "500/500 - 0s - loss: 0.3127 - accuracy: 0.9151 - val_loss: 0.2892 - val_accuracy: 0.9224\n",
      "Epoch 64/100\n",
      "500/500 - 0s - loss: 0.3108 - accuracy: 0.9156 - val_loss: 0.2876 - val_accuracy: 0.9228\n",
      "Epoch 65/100\n",
      "500/500 - 0s - loss: 0.3090 - accuracy: 0.9161 - val_loss: 0.2860 - val_accuracy: 0.9234\n",
      "Epoch 66/100\n",
      "500/500 - 0s - loss: 0.3072 - accuracy: 0.9165 - val_loss: 0.2844 - val_accuracy: 0.9237\n",
      "Epoch 67/100\n",
      "500/500 - 0s - loss: 0.3054 - accuracy: 0.9168 - val_loss: 0.2829 - val_accuracy: 0.9243\n",
      "Epoch 68/100\n",
      "500/500 - 0s - loss: 0.3037 - accuracy: 0.9173 - val_loss: 0.2814 - val_accuracy: 0.9246\n",
      "Epoch 69/100\n",
      "500/500 - 0s - loss: 0.3021 - accuracy: 0.9176 - val_loss: 0.2800 - val_accuracy: 0.9255\n",
      "Epoch 70/100\n",
      "500/500 - 0s - loss: 0.3005 - accuracy: 0.9178 - val_loss: 0.2786 - val_accuracy: 0.9257\n",
      "Epoch 71/100\n",
      "500/500 - 0s - loss: 0.2989 - accuracy: 0.9181 - val_loss: 0.2772 - val_accuracy: 0.9260\n",
      "Epoch 72/100\n",
      "500/500 - 0s - loss: 0.2974 - accuracy: 0.9183 - val_loss: 0.2759 - val_accuracy: 0.9263\n",
      "Epoch 73/100\n",
      "500/500 - 0s - loss: 0.2959 - accuracy: 0.9185 - val_loss: 0.2746 - val_accuracy: 0.9264\n",
      "Epoch 74/100\n",
      "500/500 - 0s - loss: 0.2944 - accuracy: 0.9187 - val_loss: 0.2734 - val_accuracy: 0.9267\n",
      "Epoch 75/100\n",
      "500/500 - 0s - loss: 0.2929 - accuracy: 0.9190 - val_loss: 0.2721 - val_accuracy: 0.9268\n",
      "Epoch 76/100\n",
      "500/500 - 0s - loss: 0.2915 - accuracy: 0.9193 - val_loss: 0.2709 - val_accuracy: 0.9274\n",
      "Epoch 77/100\n",
      "500/500 - 0s - loss: 0.2902 - accuracy: 0.9196 - val_loss: 0.2697 - val_accuracy: 0.9278\n",
      "Epoch 78/100\n",
      "500/500 - 0s - loss: 0.2888 - accuracy: 0.9199 - val_loss: 0.2686 - val_accuracy: 0.9281\n",
      "Epoch 79/100\n",
      "500/500 - 0s - loss: 0.2875 - accuracy: 0.9204 - val_loss: 0.2675 - val_accuracy: 0.9282\n",
      "Epoch 80/100\n",
      "500/500 - 0s - loss: 0.2862 - accuracy: 0.9206 - val_loss: 0.2664 - val_accuracy: 0.9285\n",
      "Epoch 81/100\n",
      "500/500 - 0s - loss: 0.2849 - accuracy: 0.9209 - val_loss: 0.2653 - val_accuracy: 0.9286\n"
     ]
    },
    {
     "name": "stdout",
     "output_type": "stream",
     "text": [
      "Epoch 82/100\n",
      "500/500 - 0s - loss: 0.2837 - accuracy: 0.9214 - val_loss: 0.2642 - val_accuracy: 0.9284\n",
      "Epoch 83/100\n",
      "500/500 - 0s - loss: 0.2824 - accuracy: 0.9216 - val_loss: 0.2632 - val_accuracy: 0.9287\n",
      "Epoch 84/100\n",
      "500/500 - 0s - loss: 0.2812 - accuracy: 0.9218 - val_loss: 0.2622 - val_accuracy: 0.9292\n",
      "Epoch 85/100\n",
      "500/500 - 0s - loss: 0.2801 - accuracy: 0.9222 - val_loss: 0.2612 - val_accuracy: 0.9294\n",
      "Epoch 86/100\n",
      "500/500 - 0s - loss: 0.2789 - accuracy: 0.9227 - val_loss: 0.2602 - val_accuracy: 0.9296\n",
      "Epoch 87/100\n",
      "500/500 - 0s - loss: 0.2778 - accuracy: 0.9230 - val_loss: 0.2593 - val_accuracy: 0.9301\n",
      "Epoch 88/100\n",
      "500/500 - 0s - loss: 0.2766 - accuracy: 0.9232 - val_loss: 0.2583 - val_accuracy: 0.9303\n",
      "Epoch 89/100\n",
      "500/500 - 0s - loss: 0.2755 - accuracy: 0.9234 - val_loss: 0.2574 - val_accuracy: 0.9308\n",
      "Epoch 90/100\n",
      "500/500 - 0s - loss: 0.2745 - accuracy: 0.9237 - val_loss: 0.2565 - val_accuracy: 0.9311\n",
      "Epoch 91/100\n",
      "500/500 - 0s - loss: 0.2734 - accuracy: 0.9240 - val_loss: 0.2556 - val_accuracy: 0.9311\n",
      "Epoch 92/100\n",
      "500/500 - 0s - loss: 0.2724 - accuracy: 0.9242 - val_loss: 0.2548 - val_accuracy: 0.9312\n",
      "Epoch 93/100\n",
      "500/500 - 0s - loss: 0.2713 - accuracy: 0.9244 - val_loss: 0.2539 - val_accuracy: 0.9311\n",
      "Epoch 94/100\n",
      "500/500 - 0s - loss: 0.2703 - accuracy: 0.9247 - val_loss: 0.2531 - val_accuracy: 0.9319\n",
      "Epoch 95/100\n",
      "500/500 - 0s - loss: 0.2693 - accuracy: 0.9250 - val_loss: 0.2523 - val_accuracy: 0.9318\n",
      "Epoch 96/100\n",
      "500/500 - 0s - loss: 0.2683 - accuracy: 0.9253 - val_loss: 0.2514 - val_accuracy: 0.9320\n",
      "Epoch 97/100\n",
      "500/500 - 0s - loss: 0.2674 - accuracy: 0.9255 - val_loss: 0.2507 - val_accuracy: 0.9322\n",
      "Epoch 98/100\n",
      "500/500 - 0s - loss: 0.2664 - accuracy: 0.9259 - val_loss: 0.2499 - val_accuracy: 0.9325\n",
      "Epoch 99/100\n",
      "500/500 - 0s - loss: 0.2655 - accuracy: 0.9260 - val_loss: 0.2491 - val_accuracy: 0.9326\n",
      "Epoch 100/100\n",
      "500/500 - 0s - loss: 0.2645 - accuracy: 0.9263 - val_loss: 0.2483 - val_accuracy: 0.9329\n",
      "Time for learning:    41.0324s\n"
     ]
    }
   ],
   "source": [
    "start_time = time.time()\n",
    "\n",
    "num_epochs = 100\n",
    "\n",
    "history = mnist_model.fit(x = learn_x, y = learn_y, epochs=num_epochs, batch_size = 100, \\\n",
    "                          validation_data=(val_x,val_y), shuffle=False, verbose=2)\n",
    "\n",
    "end_time = time.time()\n",
    "print(\"Time for learning: {:10.4f}s\".format(end_time - start_time))"
   ]
  },
  {
   "cell_type": "markdown",
   "metadata": {},
   "source": [
    "<font size=4 color='black'>\n",
    "\n",
    "* Note: if you run `fit()` again, the `model` will continue learning, starting with the parameters it has already learnt, instead of reinitializing them.\n"
   ]
  },
  {
   "cell_type": "markdown",
   "metadata": {},
   "source": [
    "<font size=5 color=\"blue\">\n",
    "\n",
    "Plotting the cost function of the learning and validation data sets as a function of the epoch"
   ]
  },
  {
   "cell_type": "code",
   "execution_count": 31,
   "metadata": {
    "ExecuteTime": {
     "end_time": "2020-11-17T21:25:30.833216Z",
     "start_time": "2020-11-17T21:25:30.678097Z"
    }
   },
   "outputs": [
    {
     "data": {
      "image/png": "[encoded data removed]",
      "text/plain": [
       "<Figure size 432x288 with 1 Axes>"
      ]
     },
     "metadata": {
      "needs_background": "light"
     },
     "output_type": "display_data"
    }
   ],
   "source": [
    "plt.plot(history.history['loss'])\n",
    "plt.plot(history.history['val_loss'])\n",
    "plt.title('Cost function', size=16)\n",
    "plt.ylabel('Cost', size=16)\n",
    "plt.xlabel('Epoch', size=16)\n",
    "plt.legend(['Train', 'Validation'], loc='upper right', prop={'size': 16})\n",
    "plt.show()"
   ]
  },
  {
   "cell_type": "markdown",
   "metadata": {},
   "source": [
    "<font size=5 color=\"blue\">\n",
    "Plotting the accuracy function of the learning and validation sets as a function of the epoch"
   ]
  },
  {
   "cell_type": "code",
   "execution_count": 32,
   "metadata": {
    "ExecuteTime": {
     "end_time": "2020-11-17T21:25:30.956998Z",
     "start_time": "2020-11-17T21:25:30.834617Z"
    }
   },
   "outputs": [
    {
     "data": {
      "image/png": "[encoded data removed]",
      "text/plain": [
       "<Figure size 432x288 with 1 Axes>"
      ]
     },
     "metadata": {
      "needs_background": "light"
     },
     "output_type": "display_data"
    }
   ],
   "source": [
    "plt.plot(history.history['accuracy'])\n",
    "plt.plot(history.history['val_accuracy'])\n",
    "plt.title('Model accuracy', size=16)\n",
    "plt.ylabel('Accuracy', size=16)\n",
    "plt.xlabel('Epoch', size=16)\n",
    "plt.legend(['Train', 'Validation'], loc='lower right', prop={'size': 16})\n",
    "plt.show()"
   ]
  },
  {
   "cell_type": "markdown",
   "metadata": {},
   "source": [
    "<font size = 5 color='blue'>\n",
    "\n",
    "Loss and accuracy evaluation using the Smart Machine and the test samples"
   ]
  },
  {
   "cell_type": "markdown",
   "metadata": {},
   "source": [
    "<font size= 4 color='black'>    \n",
    "After the network learnt, the loss and accuracy functions are evaluated using the test samples (test_x, test_y). This is done using the Keras Method evaluate(x=None, y=None, ...).\n",
    "    \n",
    "\n",
    "    \n",
    "[Method evaluate in Keras](https://keras.io/models/model/)"
   ]
  },
  {
   "cell_type": "code",
   "execution_count": 33,
   "metadata": {
    "ExecuteTime": {
     "end_time": "2020-11-17T21:25:31.307565Z",
     "start_time": "2020-11-17T21:25:30.959211Z"
    }
   },
   "outputs": [
    {
     "name": "stdout",
     "output_type": "stream",
     "text": [
      "313/313 [==============================] - 0s 1ms/step - loss: 0.2600 - accuracy: 0.9254\n",
      "Loss = 0.2600257694721222\n",
      "Test Accuracy = 0.9254000186920166\n"
     ]
    }
   ],
   "source": [
    "# Evaluation using all the samples of the test set\n",
    "evaluations = mnist_model.evaluate(x = test_x, y = test_y)\n",
    "\n",
    "print (\"Loss = \" + str(evaluations[0]))\n",
    "print (\"Test Accuracy = \" + str(evaluations[1]))\n"
   ]
  },
  {
   "cell_type": "code",
   "execution_count": 34,
   "metadata": {
    "ExecuteTime": {
     "end_time": "2020-11-17T21:25:31.318940Z",
     "start_time": "2020-11-17T21:25:31.308874Z"
    }
   },
   "outputs": [
    {
     "name": "stdout",
     "output_type": "stream",
     "text": [
      "4/4 [==============================] - 0s 1ms/step - loss: 0.1869 - accuracy: 0.9600\n",
      "Loss = 0.18686717748641968\n",
      "Test Accuracy = 0.9599999785423279\n"
     ]
    }
   ],
   "source": [
    "# Evaluation using the first 100 samples of the test set\n",
    "\n",
    "evaluations = mnist_model.evaluate(x = test_x[:100], y = test_y[:100])\n",
    "\n",
    "print (\"Loss = \" + str(evaluations[0]))\n",
    "print (\"Test Accuracy = \" + str(evaluations[1]))\n"
   ]
  },
  {
   "cell_type": "markdown",
   "metadata": {},
   "source": [
    "<font size = 5 color='blue'>\n",
    "Digits prediction with the Smart Machine"
   ]
  },
  {
   "cell_type": "markdown",
   "metadata": {},
   "source": [
    "<font size= 4 color='black'>    \n",
    "The smart machine generates predictions of the digists associated to new samples. For example, those in the test data (test_x, test_y). This is done using the Keras Method \"predict(x, ...)\"\n",
    "      \n",
    "[Method predict in Keras](https://keras.io/models/model/)"
   ]
  },
  {
   "cell_type": "code",
   "execution_count": 35,
   "metadata": {
    "ExecuteTime": {
     "end_time": "2020-11-17T21:25:31.525053Z",
     "start_time": "2020-11-17T21:25:31.320209Z"
    }
   },
   "outputs": [],
   "source": [
    "# Predicting the digits associated to each sample in the test set (test_x)\n",
    "predictions = mnist_model.predict(test_x)"
   ]
  },
  {
   "cell_type": "code",
   "execution_count": 36,
   "metadata": {
    "ExecuteTime": {
     "end_time": "2020-11-17T21:25:31.529800Z",
     "start_time": "2020-11-17T21:25:31.526287Z"
    }
   },
   "outputs": [
    {
     "name": "stdout",
     "output_type": "stream",
     "text": [
      "For the sample number 34 the prediction is the digit: 7\n"
     ]
    }
   ],
   "source": [
    "sample = 34\n",
    "\n",
    "# Predicting the digit associated to the sample \n",
    "# np.argmax returns the index of the maximum value\n",
    "\n",
    "prediction = np.argmax(predictions[sample])\n",
    "\n",
    "print('For the sample number', sample, 'the prediction is the digit:', prediction)"
   ]
  },
  {
   "cell_type": "markdown",
   "metadata": {},
   "source": [
    "<font size=4 color=\"black\"> \n",
    "Displaying the digit associated (not predicted!) to this sample."
   ]
  },
  {
   "cell_type": "code",
   "execution_count": 37,
   "metadata": {
    "ExecuteTime": {
     "end_time": "2020-11-17T21:25:31.638216Z",
     "start_time": "2020-11-17T21:25:31.531127Z"
    }
   },
   "outputs": [
    {
     "name": "stdout",
     "output_type": "stream",
     "text": [
      "For the sample number 34 the associated digit is: 7\n"
     ]
    },
    {
     "data": {
      "image/png": "[encoded data removed]",
      "text/plain": [
       "<Figure size 432x288 with 1 Axes>"
      ]
     },
     "metadata": {
      "needs_background": "light"
     },
     "output_type": "display_data"
    }
   ],
   "source": [
    "plt.imshow(test_samples[0][sample].reshape((28, 28)), cmap='gray')\n",
    "\n",
    "print ('For the sample number', sample, 'the associated digit is:', np.squeeze(test_samples[1][sample]))"
   ]
  },
  {
   "cell_type": "markdown",
   "metadata": {},
   "source": [
    "<font size = 5 color='blue'>\n",
    "Reseting all state generated by Keras"
   ]
  },
  {
   "cell_type": "markdown",
   "metadata": {},
   "source": [
    "<font size=4 >\n",
    "Keras manages a global state, which it uses to implement the Functional model-building API and to uniquify autogenerated layer names.  \n",
    "If you are creating many models in a loop, this global state will consume an increasing amount of memory over time, and you may want to clear it. Calling clear_session() releases the global state: this helps avoid clutter from old models and layers, especially when memory is limited."
   ]
  },
  {
   "cell_type": "code",
   "execution_count": 38,
   "metadata": {},
   "outputs": [],
   "source": [
    "tf.keras.backend.clear_session()\n"
   ]
  },
  {
   "cell_type": "code",
   "execution_count": null,
   "metadata": {},
   "outputs": [],
   "source": []
  }
 ],
 "metadata": {
  "kernelspec": {
   "display_name": "Python 3 (ipykernel)",
   "language": "python",
   "name": "python3"
  },
  "language_info": {
   "codemirror_mode": {
    "name": "ipython",
    "version": 3
   },
   "file_extension": ".py",
   "mimetype": "text/x-python",
   "name": "python",
   "nbconvert_exporter": "python",
   "pygments_lexer": "ipython3",
   "version": "3.8.16"
  }
 },
 "nbformat": 4,
 "nbformat_minor": 2
}
