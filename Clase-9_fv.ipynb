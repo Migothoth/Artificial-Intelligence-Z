{
 "cells": [
  {
   "cell_type": "markdown",
   "metadata": {},
   "source": [
    "<font size=4 color='blue'>\n",
    "\n",
    "# <center>Class 9, March 28, 2023</center>\n"
   ]
  },
  {
   "cell_type": "markdown",
   "metadata": {
    "ExecuteTime": {
     "end_time": "2020-11-22T12:50:36.354304Z",
     "start_time": "2020-11-22T12:50:36.345388Z"
    }
   },
   "source": [
    "<font size=5 color=\"blue\">\n",
    "\n",
    "Overfitting"
   ]
  },
  {
   "cell_type": "markdown",
   "metadata": {},
   "source": [
    "<img src=\"./images/1024px-Regularization.svg.png\" width=300 height=300 align = \"left\" > \n",
    " <img src=\"./images/Loss-function-no-dropout.png\" width=420 height=420 align = \"center\" >    "
   ]
  },
  {
   "cell_type": "markdown",
   "metadata": {
    "ExecuteTime": {
     "end_time": "2020-11-25T00:57:23.623361Z",
     "start_time": "2020-11-25T00:57:23.618614Z"
    }
   },
   "source": [
    "<img src=\"./images/Loss-function-dropout.png\" width=420 height=420 align = \"center\" >"
   ]
  },
  {
   "cell_type": "markdown",
   "metadata": {},
   "source": [
    "<font size=5 color=\"blue\">\n",
    "\n",
    "Cross validation: Identification of overfitting\n"
   ]
  },
  {
   "cell_type": "markdown",
   "metadata": {},
   "source": [
    "<font size=4 color=\"black\">\n",
    "\n",
    "During training, part of the data, not used for training, test the model."
   ]
  },
  {
   "cell_type": "markdown",
   "metadata": {},
   "source": [
    "<font size=5 color=\"blue\">\n",
    "\n",
    "Regularization as a method to reduce overfitting"
   ]
  },
  {
   "cell_type": "markdown",
   "metadata": {},
   "source": [
    "<font size=4 color=\"black\">\n",
    "\n",
    "When an artificial intelligence model (for example one based on neural networks) has many irrelevant features, the model presents overfitting, which is corrected by regularization, so that only a few features that are highly predictive of the outcome have large non-zero weights."
   ]
  },
  {
   "cell_type": "markdown",
   "metadata": {},
   "source": [
    "<font size=5 color=\"blue\">\n",
    "\n",
    "L1 regularization"
   ]
  },
  {
   "cell_type": "markdown",
   "metadata": {
    "ExecuteTime": {
     "end_time": "2020-03-30T13:12:56.281916Z",
     "start_time": "2020-03-30T13:12:56.277895Z"
    }
   },
   "source": [
    "<font size=4 color=\"black\">\n",
    "    \n",
    "[L1 regularization](./literature/Statistical_Debugging_of_Sampled_Programs.pdf)\n",
    "    \n",
    "<font size=5 color='black'>    \n",
    "$$   J = Error(y, F(x)) $$\n",
    "\n",
    "<font size=4 color='black'>    \n",
    "L1 regularization uses a penalty term which encourages the sum of the absolute values of the parameters (weights) to be small:\n",
    "        \n",
    "<font size=5 color='black'>\n",
    "$$   J = Error(y, F(x)) + \\lambda \\sum_{i = 1 }^{N} | w_i | $$\n",
    "  \n",
    "<font size=4 color='black'>\n",
    "\n",
    "In many learning systems, it has frequently been observed that L1 regularization causes many parameters to equal zero, so that the parameter vector is sparse. $\\lambda$ is the regularization parameter.\n",
    "    \n",
    "$$ $$\n",
    "[More about L1 regularization](./literature/lasso.pdf)    "
   ]
  },
  {
   "cell_type": "markdown",
   "metadata": {},
   "source": [
    "<font size=5 color=\"blue\">\n",
    "\n",
    "L2 regularization"
   ]
  },
  {
   "cell_type": "markdown",
   "metadata": {
    "ExecuteTime": {
     "end_time": "2020-03-30T13:12:56.281916Z",
     "start_time": "2020-03-30T13:12:56.277895Z"
    }
   },
   "source": [
    "<font size=4 color=\"black\">\n",
    "\n",
    "[L2 regularization](./literature/L2_1999.pdf)\n",
    "    \n",
    "<font size=5 color='black'>    \n",
    "$$   J = Error(y, F(x)) $$\n",
    "\n",
    "<font size=4 color='black'> \n",
    "L2 regularization, encourages the sum of the squares of the parameters (weights) to be small:\n",
    "$$ $$\n",
    "    \n",
    "<font size=5 color='black'>     \n",
    "$$   J = Error(y, F(x)) + \\lambda \\sum_{i = 1 }^{N}  w_i{^2}  $$  "
   ]
  },
  {
   "cell_type": "markdown",
   "metadata": {},
   "source": [
    "<font size=4 color=\"black\">\n",
    "\n",
    "[L1 versus L2 regularization](./literature/Regularization_Ng_2004.pdf)"
   ]
  },
  {
   "cell_type": "markdown",
   "metadata": {},
   "source": [
    "<font size=5 color=\"blue\">\n",
    "Dropout   "
   ]
  },
  {
   "cell_type": "markdown",
   "metadata": {},
   "source": [
    "<font size=4 color=\"black\">\n",
    "    \n",
    "[Dropout](./literature/dropout_2014.pdf)\n",
    "    \n"
   ]
  },
  {
   "cell_type": "markdown",
   "metadata": {
    "ExecuteTime": {
     "end_time": "2020-03-30T19:39:59.411767Z",
     "start_time": "2020-03-30T19:39:59.406252Z"
    }
   },
   "source": [
    "<font size=4 color=\"black\">\n",
    "    \n",
    "This method prevents overfitting and provides a way of approximately combining exponentially many different neural network architectures efficiently. The term “dropout” refers to dropping out units (hidden and visible) in a neural network.\n",
    "    \n",
    "<img src=\"./images/dropout_image.jpeg\" width=600 height=600 align = \"midle\" >     \n",
    "    \n"
   ]
  },
  {
   "cell_type": "markdown",
   "metadata": {},
   "source": [
    "<font size=5 color=\"blue\">\n",
    "More regularization methods\n",
    "    \n",
    "<font size=4 color=\"black\">\n",
    "    \n",
    "[Example: early stopping](./literature/early_stopping_1998.pdf)    "
   ]
  },
  {
   "cell_type": "markdown",
   "metadata": {},
   "source": [
    "<img src=\"./images/Picture1.png\" width=420 height=420 align = \"center\" >"
   ]
  },
  {
   "cell_type": "markdown",
   "metadata": {},
   "source": [
    "<font size=5 color='blue'>\n",
    "Object Recognition through images"
   ]
  },
  {
   "cell_type": "markdown",
   "metadata": {},
   "source": [
    "<img src=\"./images/cifar-10.png\" width=420 height=420 align = \"center\" >"
   ]
  },
  {
   "cell_type": "markdown",
   "metadata": {},
   "source": [
    "<font size=5 color='blue'>\n",
    "CIFAR-10 database"
   ]
  },
  {
   "cell_type": "markdown",
   "metadata": {},
   "source": [
    "<font size=4 color=\"black\">\n",
    "\n",
    "[80 million tiny images from internet](./literature/80millionImages.pdf)\n",
    "\n",
    "The CIFAR-10 and CIFAR-100 are labeled subsets of a 80 million tiny images dataset. "
   ]
  },
  {
   "cell_type": "markdown",
   "metadata": {},
   "source": [
    " <font size=4 color='black'>   \n",
    "\n",
    "The data base can be downloaded from the following URL: \n",
    "    \n",
    "[CIFAR-10 data download](https://www.cs.toronto.edu/~kriz/cifar.html)\n",
    "\n",
    "$$ $$\n",
    " The CIFAR-10 dataset consists of 60,000 32x32 colour images in 10 classes, with 6000 images per class. There are 50.000 training images and 10,000 test images.\n",
    "\n",
    "The ten classes are:\n",
    "\n",
    " \n",
    "| index | class name |\n",
    "| --- | --- |\n",
    "| 0 | airplane |\n",
    "| 1 | automobile | \t\t\t\t\t\t\t\t\t\t\n",
    "| 2 | bird |\t\t\t\t\t\t\t\t\t\t\n",
    "| 3 | cat |\t\t\t\t\t\t\t\t\t\t\n",
    "| 4 | deer |\t\t\t\t\t\t\t\t\t\t\n",
    "| 5 | dog |\t\t\t\t\t\t\t\t\t\t\n",
    "| 6 | frog |\t\t\t\t\t\t\t\t\t\t\n",
    "| 7 | horse |\t\t\t\t\t\t\t\t\t\t\n",
    "| 8 | ship |\t\t\t\t\t\t\t\t\t\t\n",
    "| 9 | truck|"
   ]
  },
  {
   "cell_type": "code",
   "execution_count": 1,
   "metadata": {
    "ExecuteTime": {
     "end_time": "2021-01-28T12:05:26.481916Z",
     "start_time": "2021-01-28T12:05:20.162516Z"
    }
   },
   "outputs": [],
   "source": [
    "import numpy as np\n",
    "\n",
    "import tensorflow as tf\n",
    "from tensorflow import keras\n",
    "from tensorflow.keras import layers\n",
    "from tensorflow.keras.layers import Input, Dense, Activation, Flatten\n",
    "from tensorflow.keras.layers import Dropout\n",
    "from tensorflow.keras.models import Model\n",
    "from tensorflow.keras.preprocessing import image\n",
    "from tensorflow.keras.applications.imagenet_utils import preprocess_input\n",
    "import pydot\n",
    "from IPython.display import SVG\n",
    "from tensorflow.keras.utils import plot_model\n",
    "from tensorflow.keras.optimizers import SGD\n",
    "\n",
    "import matplotlib.pyplot as plt\n",
    "from matplotlib.pyplot import imshow\n",
    "\n",
    "import pickle\n",
    "\n",
    "\n",
    "np.random.seed(1)\n",
    "\n",
    "%matplotlib inline"
   ]
  },
  {
   "cell_type": "markdown",
   "metadata": {},
   "source": [
    "<font size = 5 color=\"blue\">\n",
    "\n",
    "CIFAR-10 data is also available from Keras: \n",
    "    \n"
   ]
  },
  {
   "cell_type": "markdown",
   "metadata": {},
   "source": [
    "<font size = 4 color=\"black\">\n",
    "\n",
    "[CIFAR-10 Keras](https://keras.io/api/datasets/cifar10/)"
   ]
  },
  {
   "cell_type": "code",
   "execution_count": 2,
   "metadata": {
    "ExecuteTime": {
     "end_time": "2021-01-28T12:05:26.487369Z",
     "start_time": "2021-01-28T12:05:26.484179Z"
    }
   },
   "outputs": [],
   "source": [
    "from tensorflow.keras.datasets import cifar10"
   ]
  },
  {
   "cell_type": "code",
   "execution_count": 3,
   "metadata": {
    "ExecuteTime": {
     "end_time": "2021-01-28T12:05:28.041050Z",
     "start_time": "2021-01-28T12:05:26.489960Z"
    }
   },
   "outputs": [],
   "source": [
    "(x_train, y_train), (x_test, y_test) = cifar10.load_data()"
   ]
  },
  {
   "cell_type": "code",
   "execution_count": 4,
   "metadata": {
    "ExecuteTime": {
     "end_time": "2021-01-28T12:05:28.048964Z",
     "start_time": "2021-01-28T12:05:28.042822Z"
    }
   },
   "outputs": [
    {
     "name": "stdout",
     "output_type": "stream",
     "text": [
      "The type of x_train is <class 'numpy.ndarray'>\n",
      "The type of y_train is <class 'numpy.ndarray'>\n",
      "\n",
      "The type of x_test is <class 'numpy.ndarray'>\n",
      "The type of y_test is <class 'numpy.ndarray'>\n"
     ]
    }
   ],
   "source": [
    "print('The type of x_train is', type(x_train))\n",
    "print('The type of y_train is', type(y_train))\n",
    "\n",
    "print('\\nThe type of x_test is', type(x_test))\n",
    "print('The type of y_test is', type(y_test))"
   ]
  },
  {
   "cell_type": "code",
   "execution_count": 5,
   "metadata": {
    "ExecuteTime": {
     "end_time": "2021-01-28T12:05:28.097981Z",
     "start_time": "2021-01-28T12:05:28.050333Z"
    }
   },
   "outputs": [
    {
     "name": "stdout",
     "output_type": "stream",
     "text": [
      "The shape of x_train is (50000, 32, 32, 3)\n",
      "The shape of y_train is (50000, 1)\n",
      "\n",
      "The shape of x_test is (10000, 32, 32, 3)\n",
      "The shape of y_test is (10000, 1)\n"
     ]
    }
   ],
   "source": [
    "print('The shape of x_train is', x_train.shape)\n",
    "print('The shape of y_train is', y_train.shape)\n",
    "\n",
    "print('\\nThe shape of x_test is', x_test.shape)\n",
    "print('The shape of y_test is', y_test.shape)"
   ]
  },
  {
   "cell_type": "markdown",
   "metadata": {},
   "source": [
    "<font size=5 color=\"blue\">\n",
    "\n",
    "Analyzing the data extracted from CIFAR-10"
   ]
  },
  {
   "cell_type": "markdown",
   "metadata": {
    "ExecuteTime": {
     "end_time": "2020-03-24T20:18:56.606700Z",
     "start_time": "2020-03-24T20:18:56.598151Z"
    }
   },
   "source": [
    "<font size=5 color=\"blue\">\n",
    "    \n",
    "View a sample from the data sets"
   ]
  },
  {
   "cell_type": "markdown",
   "metadata": {},
   "source": [
    "<font size=4 color=\"black\">\n",
    "    \n",
    "The input for a sample of the data sets is an array, where each value is the value of a single pixel. "
   ]
  },
  {
   "cell_type": "code",
   "execution_count": 6,
   "metadata": {
    "ExecuteTime": {
     "end_time": "2021-01-28T12:05:28.182847Z",
     "start_time": "2021-01-28T12:05:28.099943Z"
    }
   },
   "outputs": [
    {
     "name": "stdout",
     "output_type": "stream",
     "text": [
      "The features of a training sample \n",
      " \n",
      " [[[ 59  62  63]\n",
      "  [ 43  46  45]\n",
      "  [ 50  48  43]\n",
      "  ...\n",
      "  [158 132 108]\n",
      "  [152 125 102]\n",
      "  [148 124 103]]\n",
      "\n",
      " [[ 16  20  20]\n",
      "  [  0   0   0]\n",
      "  [ 18   8   0]\n",
      "  ...\n",
      "  [123  88  55]\n",
      "  [119  83  50]\n",
      "  [122  87  57]]\n",
      "\n",
      " [[ 25  24  21]\n",
      "  [ 16   7   0]\n",
      "  [ 49  27   8]\n",
      "  ...\n",
      "  [118  84  50]\n",
      "  [120  84  50]\n",
      "  [109  73  42]]\n",
      "\n",
      " ...\n",
      "\n",
      " [[208 170  96]\n",
      "  [201 153  34]\n",
      "  [198 161  26]\n",
      "  ...\n",
      "  [160 133  70]\n",
      "  [ 56  31   7]\n",
      "  [ 53  34  20]]\n",
      "\n",
      " [[180 139  96]\n",
      "  [173 123  42]\n",
      "  [186 144  30]\n",
      "  ...\n",
      "  [184 148  94]\n",
      "  [ 97  62  34]\n",
      "  [ 83  53  34]]\n",
      "\n",
      " [[177 144 116]\n",
      "  [168 129  94]\n",
      "  [179 142  87]\n",
      "  ...\n",
      "  [216 184 140]\n",
      "  [151 118  84]\n",
      "  [123  92  72]]]\n"
     ]
    }
   ],
   "source": [
    "sample = 0\n",
    "print(\"The features of a training sample \\n \\n\", x_train[sample])"
   ]
  },
  {
   "cell_type": "code",
   "execution_count": 7,
   "metadata": {},
   "outputs": [
    {
     "data": {
      "text/plain": [
       "array([6], dtype=uint8)"
      ]
     },
     "execution_count": 7,
     "metadata": {},
     "output_type": "execute_result"
    }
   ],
   "source": [
    "y_train[sample]"
   ]
  },
  {
   "cell_type": "markdown",
   "metadata": {},
   "source": [
    "<font size=4>\n",
    "The values of Y correpond to the index of the following dictionay"
   ]
  },
  {
   "cell_type": "code",
   "execution_count": 8,
   "metadata": {
    "ExecuteTime": {
     "end_time": "2021-01-28T12:05:28.274965Z",
     "start_time": "2021-01-28T12:05:28.187875Z"
    }
   },
   "outputs": [],
   "source": [
    "dic = {0: 'airplane', 1: 'automobile', 2: 'bird', 3: 'cat', 4: 'deer', \n",
    "       5: 'dog', 6: 'frog', 7:'horse', 8: 'ship', 9: 'truck'}"
   ]
  },
  {
   "cell_type": "markdown",
   "metadata": {},
   "source": [
    "<font size=4 color=\"black\">\n",
    "    \n",
    "The values of the variable X in the example are between 0 and 255, they are not normalized."
   ]
  },
  {
   "cell_type": "markdown",
   "metadata": {},
   "source": [
    "<font size=5 color=\"blue\">\n",
    "    \n",
    "Showing the image and label (variable Y) of any sample"
   ]
  },
  {
   "cell_type": "code",
   "execution_count": 9,
   "metadata": {
    "ExecuteTime": {
     "end_time": "2021-01-28T12:05:28.770488Z",
     "start_time": "2021-01-28T12:05:28.282045Z"
    }
   },
   "outputs": [
    {
     "name": "stdout",
     "output_type": "stream",
     "text": [
      "\n",
      "The Y value of the first training sample is equal to  6\n",
      "It corresponds to a frog\n"
     ]
    },
    {
     "data": {
      "image/png": "[encoded data removed]",
      "text/plain": [
       "<Figure size 432x288 with 1 Axes>"
      ]
     },
     "metadata": {
      "needs_background": "light"
     },
     "output_type": "display_data"
    }
   ],
   "source": [
    "plt.imshow(x_train[sample]);\n",
    "\n",
    "print(\"\\nThe Y value of the first training sample is equal to \",np.squeeze(y_train[sample]))\n",
    "print(\"It corresponds to a\", dic[int(np.squeeze(y_train[sample]))])"
   ]
  },
  {
   "cell_type": "markdown",
   "metadata": {},
   "source": [
    "<font size=5 color=\"blue\">\n",
    "\n",
    "Features (X values) normalization"
   ]
  },
  {
   "cell_type": "markdown",
   "metadata": {},
   "source": [
    "\n",
    "<font size=4 color=\"black\">\n",
    "To normalize X values, we divide them by 255"
   ]
  },
  {
   "cell_type": "code",
   "execution_count": 10,
   "metadata": {
    "ExecuteTime": {
     "end_time": "2021-01-28T12:05:29.497371Z",
     "start_time": "2021-01-28T12:05:28.772455Z"
    }
   },
   "outputs": [],
   "source": [
    "train_x = x_train/255\n",
    "test_x = x_test/255"
   ]
  },
  {
   "cell_type": "markdown",
   "metadata": {},
   "source": [
    "<font size=4 color=\"black\">    \n",
    "\n",
    "Now the pixel values are between 0 and 1."
   ]
  },
  {
   "cell_type": "code",
   "execution_count": 11,
   "metadata": {
    "ExecuteTime": {
     "end_time": "2021-01-28T12:05:29.506208Z",
     "start_time": "2021-01-28T12:05:29.498725Z"
    }
   },
   "outputs": [
    {
     "data": {
      "text/plain": [
       "array([[[0.23137255, 0.24313725, 0.24705882],\n",
       "        [0.16862745, 0.18039216, 0.17647059],\n",
       "        [0.19607843, 0.18823529, 0.16862745],\n",
       "        ...,\n",
       "        [0.61960784, 0.51764706, 0.42352941],\n",
       "        [0.59607843, 0.49019608, 0.4       ],\n",
       "        [0.58039216, 0.48627451, 0.40392157]],\n",
       "\n",
       "       [[0.0627451 , 0.07843137, 0.07843137],\n",
       "        [0.        , 0.        , 0.        ],\n",
       "        [0.07058824, 0.03137255, 0.        ],\n",
       "        ...,\n",
       "        [0.48235294, 0.34509804, 0.21568627],\n",
       "        [0.46666667, 0.3254902 , 0.19607843],\n",
       "        [0.47843137, 0.34117647, 0.22352941]],\n",
       "\n",
       "       [[0.09803922, 0.09411765, 0.08235294],\n",
       "        [0.0627451 , 0.02745098, 0.        ],\n",
       "        [0.19215686, 0.10588235, 0.03137255],\n",
       "        ...,\n",
       "        [0.4627451 , 0.32941176, 0.19607843],\n",
       "        [0.47058824, 0.32941176, 0.19607843],\n",
       "        [0.42745098, 0.28627451, 0.16470588]],\n",
       "\n",
       "       ...,\n",
       "\n",
       "       [[0.81568627, 0.66666667, 0.37647059],\n",
       "        [0.78823529, 0.6       , 0.13333333],\n",
       "        [0.77647059, 0.63137255, 0.10196078],\n",
       "        ...,\n",
       "        [0.62745098, 0.52156863, 0.2745098 ],\n",
       "        [0.21960784, 0.12156863, 0.02745098],\n",
       "        [0.20784314, 0.13333333, 0.07843137]],\n",
       "\n",
       "       [[0.70588235, 0.54509804, 0.37647059],\n",
       "        [0.67843137, 0.48235294, 0.16470588],\n",
       "        [0.72941176, 0.56470588, 0.11764706],\n",
       "        ...,\n",
       "        [0.72156863, 0.58039216, 0.36862745],\n",
       "        [0.38039216, 0.24313725, 0.13333333],\n",
       "        [0.3254902 , 0.20784314, 0.13333333]],\n",
       "\n",
       "       [[0.69411765, 0.56470588, 0.45490196],\n",
       "        [0.65882353, 0.50588235, 0.36862745],\n",
       "        [0.70196078, 0.55686275, 0.34117647],\n",
       "        ...,\n",
       "        [0.84705882, 0.72156863, 0.54901961],\n",
       "        [0.59215686, 0.4627451 , 0.32941176],\n",
       "        [0.48235294, 0.36078431, 0.28235294]]])"
      ]
     },
     "execution_count": 11,
     "metadata": {},
     "output_type": "execute_result"
    }
   ],
   "source": [
    "train_x[sample]"
   ]
  },
  {
   "cell_type": "code",
   "execution_count": 12,
   "metadata": {
    "ExecuteTime": {
     "end_time": "2021-01-28T12:05:29.663886Z",
     "start_time": "2021-01-28T12:05:29.508215Z"
    }
   },
   "outputs": [
    {
     "data": {
      "text/plain": [
       "<matplotlib.image.AxesImage at 0x7fdf1a329c10>"
      ]
     },
     "execution_count": 12,
     "metadata": {},
     "output_type": "execute_result"
    },
    {
     "data": {
      "image/png": "[encoded data removed]",
      "text/plain": [
       "<Figure size 432x288 with 1 Axes>"
      ]
     },
     "metadata": {
      "needs_background": "light"
     },
     "output_type": "display_data"
    }
   ],
   "source": [
    "plt.imshow(train_x[sample])"
   ]
  },
  {
   "cell_type": "code",
   "execution_count": 13,
   "metadata": {
    "ExecuteTime": {
     "end_time": "2021-01-28T12:05:29.669831Z",
     "start_time": "2021-01-28T12:05:29.666030Z"
    }
   },
   "outputs": [
    {
     "data": {
      "text/plain": [
       "array([[6],\n",
       "       [9],\n",
       "       [9],\n",
       "       ...,\n",
       "       [9],\n",
       "       [1],\n",
       "       [1]], dtype=uint8)"
      ]
     },
     "execution_count": 13,
     "metadata": {},
     "output_type": "execute_result"
    }
   ],
   "source": [
    "y_train"
   ]
  },
  {
   "cell_type": "markdown",
   "metadata": {},
   "source": [
    "<font size=5 color='blue'>\n",
    "One-hot encoding of the target variable (Y)"
   ]
  },
  {
   "cell_type": "markdown",
   "metadata": {},
   "source": [
    "<font size=4 color='black'>\n",
    "The target value can have one of ten classes (the objects represented in the images). $$$$\n",
    "    \n",
    "We change the representation of the object to One-hot encoding representation. \n",
    "[One-hot encoding](https://en.wikipedia.org/wiki/One-hot).\n",
    "    \n",
    "In One-Hot encoding, the object (class) is represented with a vector that has dimension 10 (because we have 10 classes).For example, to represent an airplane, in the position of the vector corresponding to the airplane index (index=0), we put 1.0, and 0.0 elsewhere in the vector. \n"
   ]
  },
  {
   "cell_type": "code",
   "execution_count": 14,
   "metadata": {
    "ExecuteTime": {
     "end_time": "2021-01-28T12:05:29.688134Z",
     "start_time": "2021-01-28T12:05:29.671816Z"
    }
   },
   "outputs": [
    {
     "data": {
      "text/plain": [
       "(50000, 1)"
      ]
     },
     "execution_count": 14,
     "metadata": {},
     "output_type": "execute_result"
    }
   ],
   "source": [
    "y_train.shape"
   ]
  },
  {
   "cell_type": "code",
   "execution_count": 15,
   "metadata": {
    "ExecuteTime": {
     "end_time": "2021-01-28T12:05:29.703632Z",
     "start_time": "2021-01-28T12:05:29.689533Z"
    }
   },
   "outputs": [
    {
     "data": {
      "text/plain": [
       "(50000,)"
      ]
     },
     "execution_count": 15,
     "metadata": {},
     "output_type": "execute_result"
    }
   ],
   "source": [
    "y_train.reshape(-1).shape"
   ]
  },
  {
   "cell_type": "code",
   "execution_count": 16,
   "metadata": {
    "ExecuteTime": {
     "end_time": "2021-01-28T12:05:29.719303Z",
     "start_time": "2021-01-28T12:05:29.704733Z"
    }
   },
   "outputs": [],
   "source": [
    "train_y = np.eye(10)[y_train.reshape(-1)]\n",
    "test_y = np.eye(10)[y_test.reshape(-1)]"
   ]
  },
  {
   "cell_type": "markdown",
   "metadata": {},
   "source": [
    "<font size=4>\n",
    "Initial representation of the image object "
   ]
  },
  {
   "cell_type": "code",
   "execution_count": 17,
   "metadata": {
    "ExecuteTime": {
     "end_time": "2021-01-28T12:05:29.728703Z",
     "start_time": "2021-01-28T12:05:29.720711Z"
    }
   },
   "outputs": [
    {
     "name": "stdout",
     "output_type": "stream",
     "text": [
      "[[6]\n",
      " [9]\n",
      " [9]\n",
      " [4]\n",
      " [1]]\n"
     ]
    }
   ],
   "source": [
    "print(y_train[0:5])"
   ]
  },
  {
   "cell_type": "markdown",
   "metadata": {},
   "source": [
    "<font size=4>\n",
    "One-hot encoding representation of the image object"
   ]
  },
  {
   "cell_type": "code",
   "execution_count": 18,
   "metadata": {
    "ExecuteTime": {
     "end_time": "2021-01-28T12:05:29.745906Z",
     "start_time": "2021-01-28T12:05:29.730644Z"
    }
   },
   "outputs": [
    {
     "data": {
      "text/plain": [
       "array([[0., 0., 0., 0., 0., 0., 1., 0., 0., 0.],\n",
       "       [0., 0., 0., 0., 0., 0., 0., 0., 0., 1.],\n",
       "       [0., 0., 0., 0., 0., 0., 0., 0., 0., 1.],\n",
       "       [0., 0., 0., 0., 1., 0., 0., 0., 0., 0.],\n",
       "       [0., 1., 0., 0., 0., 0., 0., 0., 0., 0.]])"
      ]
     },
     "execution_count": 18,
     "metadata": {},
     "output_type": "execute_result"
    }
   ],
   "source": [
    "train_y[0:5]"
   ]
  },
  {
   "cell_type": "markdown",
   "metadata": {
    "ExecuteTime": {
     "end_time": "2020-11-23T17:58:01.255256Z",
     "start_time": "2020-11-23T17:58:01.245993Z"
    }
   },
   "source": [
    "<font size=5 color=\"blue\">\n",
    "    \n",
    "Viewing one sample from the data set."
   ]
  },
  {
   "cell_type": "code",
   "execution_count": 19,
   "metadata": {
    "ExecuteTime": {
     "end_time": "2021-01-28T12:05:29.874059Z",
     "start_time": "2021-01-28T12:05:29.748017Z"
    }
   },
   "outputs": [
    {
     "name": "stdout",
     "output_type": "stream",
     "text": [
      "The sample 9 corresponds to a cat\n",
      "Its one-hot encoding is = [0. 0. 0. 1. 0. 0. 0. 0. 0. 0.]\n"
     ]
    },
    {
     "data": {
      "image/png": "[encoded data removed]",
      "text/plain": [
       "<Figure size 432x288 with 1 Axes>"
      ]
     },
     "metadata": {
      "needs_background": "light"
     },
     "output_type": "display_data"
    }
   ],
   "source": [
    "sample = 9\n",
    "\n",
    "plt.imshow(train_x[sample]);\n",
    "\n",
    "print('The sample', sample, 'corresponds to a', dic[int(np.argmax(train_y[sample]))])\n",
    "print(\"Its one-hot encoding is =\", train_y[sample])"
   ]
  },
  {
   "cell_type": "markdown",
   "metadata": {},
   "source": [
    "<font size=4 color=\"black\">\n",
    "    \n",
    "In summary, the training and test sample sets have the following dimensions:"
   ]
  },
  {
   "cell_type": "code",
   "execution_count": 20,
   "metadata": {
    "ExecuteTime": {
     "end_time": "2021-01-28T12:05:29.881332Z",
     "start_time": "2021-01-28T12:05:29.876125Z"
    }
   },
   "outputs": [
    {
     "name": "stdout",
     "output_type": "stream",
     "text": [
      "number of training examples = 50000\n",
      "number of test examples = 10000\n",
      "X_train shape: (50000, 32, 32, 3)\n",
      "Y_train shape: (50000, 10)\n",
      "X_test shape: (10000, 32, 32, 3)\n",
      "Y_test shape: (10000, 10)\n"
     ]
    }
   ],
   "source": [
    "print (\"number of training examples = \" + str(train_x.shape[0]))\n",
    "print (\"number of test examples = \" + str(test_x.shape[0]))\n",
    "print (\"X_train shape: \" + str(train_x.shape))\n",
    "print (\"Y_train shape: \" + str(train_y.shape))\n",
    "print (\"X_test shape: \" + str(test_x.shape))\n",
    "print (\"Y_test shape: \" + str(test_y.shape))"
   ]
  },
  {
   "cell_type": "markdown",
   "metadata": {},
   "source": [
    "<font size=5 color=\"blue\">\n",
    "\n",
    "Building the Learning System"
   ]
  },
  {
   "cell_type": "markdown",
   "metadata": {
    "ExecuteTime": {
     "end_time": "2020-11-23T18:05:49.800018Z",
     "start_time": "2020-11-23T18:05:49.790932Z"
    }
   },
   "source": [
    "<font size=5 color='blue'>\n",
    "\n",
    "Definition of the neural network architecture"
   ]
  },
  {
   "cell_type": "markdown",
   "metadata": {},
   "source": [
    "<font size=5 color='black'> \n",
    "    \n",
    "Keras has two different modes to define the architecture:\n",
    "\n",
    "<font size=4 color='black'> \n",
    "    \n",
    "1.- The sequential model. It is a sequential stack of layers.\n",
    "    \n",
    "2.- The functional API. It is the way to go for defining complex models, such as multi-output models, directed acyclic graphs, or models with shared layers.  \n",
    "\n",
    "In the present case, we will use the latter mode to build the network architecture.\n",
    "    \n",
    "Documentation: [Keras Functional API](https://keras.io/getting-started/functional-api-guide/)"
   ]
  },
  {
   "cell_type": "code",
   "execution_count": 21,
   "metadata": {
    "ExecuteTime": {
     "end_time": "2021-01-28T12:05:29.913738Z",
     "start_time": "2021-01-28T12:05:29.882833Z"
    }
   },
   "outputs": [],
   "source": [
    "def architecture(input_shape, num_classes, dropout=False):\n",
    "    \n",
    "    # Defining the input as a tensor with shape input_shape. \n",
    "    InputLayer = Input(input_shape)\n",
    "    \n",
    "    # Flattening the input tensor of dimensions (32, 32, 3) to a tensor of dimensions (3072)\n",
    "    x = Flatten()(InputLayer)\n",
    "    if dropout == True:\n",
    "        x = Dropout(0.0)(x)\n",
    "    \n",
    "    # Defining the first hidden layer with 50 nodes and sigmoid as activation function\n",
    "    x = Dense(50, kernel_initializer='random_uniform', bias_initializer='zeros', name='hl_1')(x)\n",
    "    x = Activation('sigmoid')(x)\n",
    "    if dropout == True:\n",
    "        x = Dropout(0.0)(x)\n",
    "\n",
    "    # Defining the second hidden layer with 50 nodes and sigmoid as activation function\n",
    "    x = Dense(50, kernel_initializer='random_uniform', bias_initializer='zeros', name='hl_2')(x)\n",
    "    x = Activation('sigmoid')(x)\n",
    "    if dropout == True:\n",
    "        x = Dropout(0.0)(x)\n",
    "    \n",
    "    \n",
    "    # For the output layer we use the activation function 'softmax')\n",
    "    x = Dense(num_classes, kernel_initializer='random_uniform', bias_initializer='zeros')(x)\n",
    "    OutputLayer = Activation('softmax', name='output-layer')(x)\n",
    "    \n",
    "    # This creates the Keras model instance, you'll use this instance to train/test the model.\n",
    "    model = Model(inputs = InputLayer, outputs = OutputLayer, name='Cifar10Model')\n",
    "\n",
    "    return model"
   ]
  },
  {
   "attachments": {
    "image.png": {
     "image/png": "[encoded data removed]"
    }
   },
   "cell_type": "markdown",
   "metadata": {},
   "source": [
    "<font size=4 color='black'>    \n",
    "The softmax activation function is always used for classification when the number (K) of classes is greater than two: \n",
    "\n",
    "![image.png](attachment:image.png)    "
   ]
  },
  {
   "cell_type": "markdown",
   "metadata": {
    "ExecuteTime": {
     "end_time": "2020-03-24T18:29:47.071906Z",
     "start_time": "2020-03-24T18:29:47.067719Z"
    }
   },
   "source": [
    "<font size=5 color=\"blue\">\n",
    "\n",
    "Building the neural network model for the learning system"
   ]
  },
  {
   "cell_type": "code",
   "execution_count": 22,
   "metadata": {
    "ExecuteTime": {
     "end_time": "2021-01-28T12:05:30.049214Z",
     "start_time": "2021-01-28T12:05:29.918228Z"
    }
   },
   "outputs": [],
   "source": [
    "one_image = (32, 32, 3)\n",
    "num_classes=10\n",
    "dropout=True\n",
    "\n",
    "cifar10_model = architecture(one_image,num_classes,dropout)"
   ]
  },
  {
   "cell_type": "markdown",
   "metadata": {
    "ExecuteTime": {
     "end_time": "2020-03-24T00:03:50.539765Z",
     "start_time": "2020-03-24T00:03:50.534266Z"
    }
   },
   "source": [
    "<font size=5 color=\"blue\">\n",
    "    \n",
    "Graph of the model and summary"
   ]
  },
  {
   "cell_type": "markdown",
   "metadata": {},
   "source": [
    "<font size=4 color='black'> \n",
    "The 'plot_model()' function generates a graphic with the layers and their number of input ands output weights.\n",
    "$$ $$\n",
    "Documentation: [Model visualization](https://keras.io/visualization/#training-history-visualization)"
   ]
  },
  {
   "cell_type": "code",
   "execution_count": 1,
   "metadata": {
    "ExecuteTime": {
     "end_time": "2021-01-28T12:05:30.332866Z",
     "start_time": "2021-01-28T12:05:30.050947Z"
    }
   },
   "outputs": [
    {
     "ename": "NameError",
     "evalue": "name 'plot_model' is not defined",
     "output_type": "error",
     "traceback": [
      "\u001b[0;31m---------------------------------------------------------------------------\u001b[0m",
      "\u001b[0;31mNameError\u001b[0m                                 Traceback (most recent call last)",
      "\u001b[0;32m<ipython-input-1-9b06ec84f6ba>\u001b[0m in \u001b[0;36m<module>\u001b[0;34m\u001b[0m\n\u001b[0;32m----> 1\u001b[0;31m \u001b[0mplot_model\u001b[0m\u001b[0;34m(\u001b[0m\u001b[0mcifar10_model\u001b[0m\u001b[0;34m,\u001b[0m \u001b[0mto_file\u001b[0m\u001b[0;34m=\u001b[0m\u001b[0;34m'cifar10_blocks.png'\u001b[0m\u001b[0;34m,\u001b[0m \u001b[0mshow_shapes\u001b[0m\u001b[0;34m=\u001b[0m\u001b[0;32mFalse\u001b[0m\u001b[0;34m,\u001b[0m \u001b[0mrankdir\u001b[0m\u001b[0;34m=\u001b[0m\u001b[0;34m'LR'\u001b[0m\u001b[0;34m,\u001b[0m\u001b[0mshow_layer_names\u001b[0m\u001b[0;34m=\u001b[0m\u001b[0;32mFalse\u001b[0m\u001b[0;34m)\u001b[0m\u001b[0;34m\u001b[0m\u001b[0;34m\u001b[0m\u001b[0m\n\u001b[0m",
      "\u001b[0;31mNameError\u001b[0m: name 'plot_model' is not defined"
     ]
    }
   ],
   "source": [
    "plot_model(cifar10_model, to_file='cifar10_blocks.png', show_shapes=False, rankdir='LR',show_layer_names=False)"
   ]
  },
  {
   "cell_type": "code",
   "execution_count": 24,
   "metadata": {
    "ExecuteTime": {
     "end_time": "2021-01-28T12:05:30.484527Z",
     "start_time": "2021-01-28T12:05:30.336445Z"
    }
   },
   "outputs": [
    {
     "data": {
      "image/png": "[encoded data removed]",
      "text/plain": [
       "<IPython.core.display.Image object>"
      ]
     },
     "execution_count": 24,
     "metadata": {},
     "output_type": "execute_result"
    }
   ],
   "source": [
    "plot_model(cifar10_model, to_file='cifar10_model.png', show_shapes=True, rankdir='TB', show_layer_names=True)"
   ]
  },
  {
   "cell_type": "code",
   "execution_count": 25,
   "metadata": {
    "ExecuteTime": {
     "end_time": "2021-01-28T12:05:30.493424Z",
     "start_time": "2021-01-28T12:05:30.487401Z"
    }
   },
   "outputs": [
    {
     "name": "stdout",
     "output_type": "stream",
     "text": [
      "Model: \"Cifar10Model\"\n",
      "_________________________________________________________________\n",
      "Layer (type)                 Output Shape              Param #   \n",
      "=================================================================\n",
      "input_1 (InputLayer)         [(None, 32, 32, 3)]       0         \n",
      "_________________________________________________________________\n",
      "flatten (Flatten)            (None, 3072)              0         \n",
      "_________________________________________________________________\n",
      "dropout (Dropout)            (None, 3072)              0         \n",
      "_________________________________________________________________\n",
      "hl_1 (Dense)                 (None, 50)                153650    \n",
      "_________________________________________________________________\n",
      "activation (Activation)      (None, 50)                0         \n",
      "_________________________________________________________________\n",
      "dropout_1 (Dropout)          (None, 50)                0         \n",
      "_________________________________________________________________\n",
      "hl_2 (Dense)                 (None, 50)                2550      \n",
      "_________________________________________________________________\n",
      "activation_1 (Activation)    (None, 50)                0         \n",
      "_________________________________________________________________\n",
      "dropout_2 (Dropout)          (None, 50)                0         \n",
      "_________________________________________________________________\n",
      "dense (Dense)                (None, 10)                510       \n",
      "_________________________________________________________________\n",
      "output-layer (Activation)    (None, 10)                0         \n",
      "=================================================================\n",
      "Total params: 156,710\n",
      "Trainable params: 156,710\n",
      "Non-trainable params: 0\n",
      "_________________________________________________________________\n"
     ]
    }
   ],
   "source": [
    "\n",
    "cifar10_model.summary()"
   ]
  },
  {
   "cell_type": "markdown",
   "metadata": {},
   "source": [
    "<font size=5 color='blue'>\n",
    "Optimization method"
   ]
  },
  {
   "cell_type": "markdown",
   "metadata": {},
   "source": [
    "<font size=3 color=\"black\">\n",
    "This requires defining the optimization algorithm, loss function and metric.\n",
    "    \n",
    "In the present case we are using the Stochastic Gradient Descent algorithm with learning rate \"lr\", \"momentum\",  and without Nesterov acceleration\".\n",
    "\n",
    "\n",
    "[An overview of gradient descent optimization algorithms](./literature/SGD_overview_2016-17.pdf)\n",
    "\n",
    "This reference also comments on some other optimization variants of this algorithm; Adagrad, Adadelta, RMStrop and Adam."
   ]
  },
  {
   "cell_type": "markdown",
   "metadata": {},
   "source": [
    "<font size=5 color='blue'>\n",
    "Optimizer"
   ]
  },
  {
   "cell_type": "markdown",
   "metadata": {
    "ExecuteTime": {
     "end_time": "2020-11-24T00:09:25.688121Z",
     "start_time": "2020-11-24T00:09:25.680769Z"
    }
   },
   "source": [
    "<font size=5 color='blue'>\n",
    "Mini-batch stocastic gradient descent(SGD) method.  "
   ]
  },
  {
   "cell_type": "markdown",
   "metadata": {},
   "source": [
    "<font size=4 color='black'> \n",
    "The training samples are divided into mini-batches that have the size batch_size (B). Updates of weights and biases are based on an average of the gradient within each block of B samples. \n",
    "    \n",
    "$$ \\omega^{(t)} := \\omega^{(t-1)} - \\alpha \\dfrac{1}{B} \\sum_{t^1=Bt +1}^{B(t+1)}\\dfrac{\\partial J(x^{(t^1)},y^{(t^1)},\\omega, b)}{\\partial \\omega}$$\n",
    "\n",
    "$$ b^{(t)} := b^{(t-1)} - \\alpha \\dfrac{1}{B} \\sum_{t^1=Bt +1}^{B(t+1)}\\dfrac{\\partial J(x^{(t^1)},y^{(t^1)},\\omega, b)}{\\partial b}$$\n",
    "\n",
    "$ \\alpha $ represents the learning rate and *t* represents an iteration. \n",
    "    \n",
    "This method is specially useful for large sets of training data.\n",
    "    \n",
    "[Gradient-Based Training](./literature/Practical_rec_DL_Bengio_2012.pdf)"
   ]
  },
  {
   "cell_type": "code",
   "execution_count": 26,
   "metadata": {
    "ExecuteTime": {
     "end_time": "2021-01-28T12:05:30.525013Z",
     "start_time": "2021-01-28T12:05:30.494609Z"
    }
   },
   "outputs": [],
   "source": [
    "learning_rate = 0.01\n",
    "\n",
    "optimizer = keras.optimizers.SGD(learning_rate=learning_rate, momentum=0.0, nesterov=False)"
   ]
  },
  {
   "cell_type": "markdown",
   "metadata": {},
   "source": [
    "<font size=5 color='blue'>\n",
    "The cost (loss) and Metric functions"
   ]
  },
  {
   "cell_type": "markdown",
   "metadata": {},
   "source": [
    "<font size=4 color=\"black\">\n",
    "    \n",
    "The cost function *J* is defined as \"categorical_crossentropy\"\n",
    "    \n",
    "$$ J = \\frac{1}{m} \\sum_{i=1}^m \\sum_{k=0}^{K-1}(y_k^{(i)}*\\log{(F_k(x^{(i)})))}$$\n",
    "    \n",
    " where $F_k(x^{(i)})$ is the predicted value and $y_k^{(i)}$ is the target value for the sample *i*; *K* is the number of classes and *m* is the number of samples.\n",
    "    \n",
    "[Cross-entropy paper](./literature/generalized-cross-entropy-loss_2018.pdf)\n",
    "    \n",
    "[Cross entropy](https://en.wikipedia.org/wiki/Cross_entropy)\n",
    "    \n",
    "[Categorical cross entropy](https://www.deeplearningbook.org/)\n",
    "    \n",
    "\n",
    "A metric function is similar to a loss function, except that the results from evaluating a metric are not used when training the model. You may use any of the loss functions as a metric function. In the present example, we are using \"accuracy\" as metrics:\n",
    "    \n",
    "*Accuracy = Number of correct predictions / Total number of predictions made*\n",
    "    \n",
    "\n",
    "Categorical crossentropy will compare the distribution of the predictions (the activations in the output layer, one for each class) with the true distribution, where the probability of the true class is set to 1, and 0 for the other classes.\n",
    "\n",
    "To put it in a different way, the true class is represented as an encoded vector, and the closer the model’s outputs are to that vector, the lower the loss.\n",
    "    \n",
    "Documentation: [keras.compile(...)](https://keras.io/models/model/#compile)"
   ]
  },
  {
   "cell_type": "code",
   "execution_count": 27,
   "metadata": {
    "ExecuteTime": {
     "end_time": "2021-01-28T12:05:30.528828Z",
     "start_time": "2021-01-28T12:05:30.526265Z"
    }
   },
   "outputs": [],
   "source": [
    "loss_function = 'categorical_crossentropy'\n",
    "metric_function = 'accuracy'"
   ]
  },
  {
   "cell_type": "markdown",
   "metadata": {
    "ExecuteTime": {
     "end_time": "2020-11-23T19:12:50.153175Z",
     "start_time": "2020-11-23T19:12:50.148215Z"
    }
   },
   "source": [
    "<font size=5 color='blue'>\n",
    "Compiling the model"
   ]
  },
  {
   "cell_type": "code",
   "execution_count": 28,
   "metadata": {
    "ExecuteTime": {
     "end_time": "2021-01-28T12:05:30.608061Z",
     "start_time": "2021-01-28T12:05:30.530475Z"
    }
   },
   "outputs": [],
   "source": [
    "cifar10_model.compile(optimizer = optimizer, loss = loss_function, metrics = [metric_function])"
   ]
  },
  {
   "cell_type": "markdown",
   "metadata": {},
   "source": [
    "<font size=5 color='blue'>\n",
    "    \n",
    "Training the learning system"
   ]
  },
  {
   "cell_type": "markdown",
   "metadata": {},
   "source": [
    "<font size=5 color='blue'>\n",
    "    \n",
    "Shuffle"
   ]
  },
  {
   "cell_type": "markdown",
   "metadata": {
    "ExecuteTime": {
     "end_time": "2020-11-23T21:49:35.336666Z",
     "start_time": "2020-11-23T21:49:35.331145Z"
    }
   },
   "source": [
    "<font size=4 color='black'>\n",
    "\n",
    "Shuffling the training data before each epoch has a large effect on the loss associated with the test samples. Shuffling the training data, the samples for each mini-batch change with the epoch.\n",
    "    \n",
    "To speed up the convergence of weights and biases, it is also possible to fix the samples associated with each mini-batch. Then, the mini-batches will be called randomly in each epoch.  \n",
    "    \n",
    "[An overview of gradient descent optimization algorithms](./literature/SGD_overview_2016-17.pdf)"
   ]
  },
  {
   "cell_type": "markdown",
   "metadata": {},
   "source": [
    "<font size=4 color=\"black\">\n",
    "    \n",
    "Documentation: [keras.fit(...)](https://keras.io/models/model/#fit)"
   ]
  },
  {
   "cell_type": "code",
   "execution_count": 29,
   "metadata": {
    "ExecuteTime": {
     "start_time": "2021-01-28T12:05:20.282Z"
    },
    "scrolled": true
   },
   "outputs": [
    {
     "name": "stdout",
     "output_type": "stream",
     "text": [
      "Epoch 1/100\n",
      "1407/1407 [==============================] - 3s 1ms/step - loss: 2.3035 - accuracy: 0.1001 - val_loss: 2.3039 - val_accuracy: 0.0986\n",
      "Epoch 2/100\n",
      "1407/1407 [==============================] - 2s 1ms/step - loss: 2.3031 - accuracy: 0.1010 - val_loss: 2.3021 - val_accuracy: 0.1058\n",
      "Epoch 3/100\n",
      "1407/1407 [==============================] - 2s 1ms/step - loss: 2.3028 - accuracy: 0.1014 - val_loss: 2.3020 - val_accuracy: 0.1024\n",
      "Epoch 4/100\n",
      "1407/1407 [==============================] - 2s 1ms/step - loss: 2.3019 - accuracy: 0.1059 - val_loss: 2.3009 - val_accuracy: 0.1080\n",
      "Epoch 5/100\n",
      "1407/1407 [==============================] - 1s 1ms/step - loss: 2.3003 - accuracy: 0.1095 - val_loss: 2.2986 - val_accuracy: 0.1218\n",
      "Epoch 6/100\n",
      "1407/1407 [==============================] - 1s 1ms/step - loss: 2.2969 - accuracy: 0.1216 - val_loss: 2.2937 - val_accuracy: 0.1284\n",
      "Epoch 7/100\n",
      "1407/1407 [==============================] - 1s 1ms/step - loss: 2.2876 - accuracy: 0.1440 - val_loss: 2.2772 - val_accuracy: 0.1546\n",
      "Epoch 8/100\n",
      "1407/1407 [==============================] - 1s 1ms/step - loss: 2.2569 - accuracy: 0.1629 - val_loss: 2.2274 - val_accuracy: 0.1536\n",
      "Epoch 9/100\n",
      "1407/1407 [==============================] - 2s 1ms/step - loss: 2.1860 - accuracy: 0.1710 - val_loss: 2.1478 - val_accuracy: 0.1822\n",
      "Epoch 10/100\n",
      "1407/1407 [==============================] - 1s 1ms/step - loss: 2.1187 - accuracy: 0.1805 - val_loss: 2.0979 - val_accuracy: 0.1934\n",
      "Epoch 11/100\n",
      "1407/1407 [==============================] - 1s 1ms/step - loss: 2.0837 - accuracy: 0.1870 - val_loss: 2.0763 - val_accuracy: 0.1984\n",
      "Epoch 12/100\n",
      "1407/1407 [==============================] - 1s 1ms/step - loss: 2.0662 - accuracy: 0.1913 - val_loss: 2.0609 - val_accuracy: 0.1844\n",
      "Epoch 13/100\n",
      "1407/1407 [==============================] - 1s 1ms/step - loss: 2.0574 - accuracy: 0.1930 - val_loss: 2.0540 - val_accuracy: 0.1992\n",
      "Epoch 14/100\n",
      "1407/1407 [==============================] - 1s 1ms/step - loss: 2.0519 - accuracy: 0.1968 - val_loss: 2.0489 - val_accuracy: 0.2008\n",
      "Epoch 15/100\n",
      "1407/1407 [==============================] - 2s 1ms/step - loss: 2.0468 - accuracy: 0.1984 - val_loss: 2.0438 - val_accuracy: 0.2024\n",
      "Epoch 16/100\n",
      "1407/1407 [==============================] - 1s 1ms/step - loss: 2.0415 - accuracy: 0.2042 - val_loss: 2.0416 - val_accuracy: 0.2046\n",
      "Epoch 17/100\n",
      "1407/1407 [==============================] - 2s 1ms/step - loss: 2.0359 - accuracy: 0.2095 - val_loss: 2.0351 - val_accuracy: 0.2102\n",
      "Epoch 18/100\n",
      "1407/1407 [==============================] - 1s 1ms/step - loss: 2.0291 - accuracy: 0.2198 - val_loss: 2.0265 - val_accuracy: 0.2320\n",
      "Epoch 19/100\n",
      "1407/1407 [==============================] - 2s 1ms/step - loss: 2.0194 - accuracy: 0.2288 - val_loss: 2.0152 - val_accuracy: 0.2364\n",
      "Epoch 20/100\n",
      "1407/1407 [==============================] - 1s 1ms/step - loss: 2.0062 - accuracy: 0.2433 - val_loss: 2.0016 - val_accuracy: 0.2508\n",
      "Epoch 21/100\n",
      "1407/1407 [==============================] - 1s 1ms/step - loss: 1.9886 - accuracy: 0.2596 - val_loss: 1.9819 - val_accuracy: 0.2720\n",
      "Epoch 22/100\n",
      "1407/1407 [==============================] - 2s 1ms/step - loss: 1.9659 - accuracy: 0.2733 - val_loss: 1.9600 - val_accuracy: 0.2766\n",
      "Epoch 23/100\n",
      "1407/1407 [==============================] - 1s 1ms/step - loss: 1.9412 - accuracy: 0.2864 - val_loss: 1.9411 - val_accuracy: 0.2778\n",
      "Epoch 24/100\n",
      "1407/1407 [==============================] - 1s 1ms/step - loss: 1.9191 - accuracy: 0.2929 - val_loss: 1.9195 - val_accuracy: 0.2920\n",
      "Epoch 25/100\n",
      "1407/1407 [==============================] - 2s 1ms/step - loss: 1.9015 - accuracy: 0.3030 - val_loss: 1.9089 - val_accuracy: 0.2988\n",
      "Epoch 26/100\n",
      "1407/1407 [==============================] - 1s 1ms/step - loss: 1.8878 - accuracy: 0.3085 - val_loss: 1.9085 - val_accuracy: 0.3032\n",
      "Epoch 27/100\n",
      "1407/1407 [==============================] - 2s 1ms/step - loss: 1.8764 - accuracy: 0.3156 - val_loss: 1.8903 - val_accuracy: 0.3126\n",
      "Epoch 28/100\n",
      "1407/1407 [==============================] - 2s 1ms/step - loss: 1.8665 - accuracy: 0.3201 - val_loss: 1.8764 - val_accuracy: 0.3150\n",
      "Epoch 29/100\n",
      "1407/1407 [==============================] - 1s 1ms/step - loss: 1.8564 - accuracy: 0.3252 - val_loss: 1.8722 - val_accuracy: 0.3184\n",
      "Epoch 30/100\n",
      "1407/1407 [==============================] - 1s 1ms/step - loss: 1.8477 - accuracy: 0.3291 - val_loss: 1.8590 - val_accuracy: 0.3226\n",
      "Epoch 31/100\n",
      "1407/1407 [==============================] - 1s 1ms/step - loss: 1.8378 - accuracy: 0.3311 - val_loss: 1.8568 - val_accuracy: 0.3242\n",
      "Epoch 32/100\n",
      "1407/1407 [==============================] - 1s 1ms/step - loss: 1.8288 - accuracy: 0.3366 - val_loss: 1.8409 - val_accuracy: 0.3316\n",
      "Epoch 33/100\n",
      "1407/1407 [==============================] - 1s 1ms/step - loss: 1.8196 - accuracy: 0.3405 - val_loss: 1.8306 - val_accuracy: 0.3352\n",
      "Epoch 34/100\n",
      "1407/1407 [==============================] - 1s 1ms/step - loss: 1.8094 - accuracy: 0.3433 - val_loss: 1.8316 - val_accuracy: 0.3342\n",
      "Epoch 35/100\n",
      "1407/1407 [==============================] - 1s 1ms/step - loss: 1.8005 - accuracy: 0.3463 - val_loss: 1.8286 - val_accuracy: 0.3384\n",
      "Epoch 36/100\n",
      "1407/1407 [==============================] - 2s 1ms/step - loss: 1.7915 - accuracy: 0.3500 - val_loss: 1.8051 - val_accuracy: 0.3468\n",
      "Epoch 37/100\n",
      "1407/1407 [==============================] - 1s 1ms/step - loss: 1.7834 - accuracy: 0.3534 - val_loss: 1.8000 - val_accuracy: 0.3486\n",
      "Epoch 38/100\n",
      "1407/1407 [==============================] - 1s 1ms/step - loss: 1.7750 - accuracy: 0.3563 - val_loss: 1.7904 - val_accuracy: 0.3514\n",
      "Epoch 39/100\n",
      "1407/1407 [==============================] - 1s 1ms/step - loss: 1.7675 - accuracy: 0.3570 - val_loss: 1.7944 - val_accuracy: 0.3486\n",
      "Epoch 40/100\n",
      "1407/1407 [==============================] - 1s 1ms/step - loss: 1.7602 - accuracy: 0.3602 - val_loss: 1.7897 - val_accuracy: 0.3508\n",
      "Epoch 41/100\n",
      "1407/1407 [==============================] - 1s 1ms/step - loss: 1.7532 - accuracy: 0.3636 - val_loss: 1.7778 - val_accuracy: 0.3544\n",
      "Epoch 42/100\n",
      "1407/1407 [==============================] - 1s 1ms/step - loss: 1.7471 - accuracy: 0.3669 - val_loss: 1.7929 - val_accuracy: 0.3538\n",
      "Epoch 43/100\n",
      "1407/1407 [==============================] - 2s 1ms/step - loss: 1.7403 - accuracy: 0.3686 - val_loss: 1.7712 - val_accuracy: 0.3596\n",
      "Epoch 44/100\n",
      "1407/1407 [==============================] - 1s 1ms/step - loss: 1.7340 - accuracy: 0.3698 - val_loss: 1.7542 - val_accuracy: 0.3618\n",
      "Epoch 45/100\n",
      "1407/1407 [==============================] - 2s 1ms/step - loss: 1.7279 - accuracy: 0.3728 - val_loss: 1.7502 - val_accuracy: 0.3674\n",
      "Epoch 46/100\n",
      "1407/1407 [==============================] - 2s 1ms/step - loss: 1.7214 - accuracy: 0.3754 - val_loss: 1.7592 - val_accuracy: 0.3682\n",
      "Epoch 47/100\n",
      "1407/1407 [==============================] - 2s 1ms/step - loss: 1.7159 - accuracy: 0.3774 - val_loss: 1.7352 - val_accuracy: 0.3760\n",
      "Epoch 48/100\n",
      "1407/1407 [==============================] - 1s 1ms/step - loss: 1.7099 - accuracy: 0.3795 - val_loss: 1.7295 - val_accuracy: 0.3752\n",
      "Epoch 49/100\n",
      "1407/1407 [==============================] - 2s 1ms/step - loss: 1.7043 - accuracy: 0.3817 - val_loss: 1.7385 - val_accuracy: 0.3752\n",
      "Epoch 50/100\n",
      "1407/1407 [==============================] - 1s 1ms/step - loss: 1.6979 - accuracy: 0.3828 - val_loss: 1.7290 - val_accuracy: 0.3728\n",
      "Epoch 51/100\n",
      "1407/1407 [==============================] - 2s 1ms/step - loss: 1.6919 - accuracy: 0.3850 - val_loss: 1.7241 - val_accuracy: 0.3746\n",
      "Epoch 52/100\n",
      "1407/1407 [==============================] - 1s 1ms/step - loss: 1.6868 - accuracy: 0.3881 - val_loss: 1.7326 - val_accuracy: 0.3728\n",
      "Epoch 53/100\n",
      "1407/1407 [==============================] - 2s 1ms/step - loss: 1.6806 - accuracy: 0.3888 - val_loss: 1.7150 - val_accuracy: 0.3818\n",
      "Epoch 54/100\n",
      "1407/1407 [==============================] - 1s 1ms/step - loss: 1.6748 - accuracy: 0.3921 - val_loss: 1.7068 - val_accuracy: 0.3884\n",
      "Epoch 55/100\n",
      "1407/1407 [==============================] - 2s 1ms/step - loss: 1.6679 - accuracy: 0.3944 - val_loss: 1.7004 - val_accuracy: 0.3812\n",
      "Epoch 56/100\n",
      "1407/1407 [==============================] - 1s 1ms/step - loss: 1.6629 - accuracy: 0.3968 - val_loss: 1.7038 - val_accuracy: 0.3808\n",
      "Epoch 57/100\n",
      "1407/1407 [==============================] - 1s 1ms/step - loss: 1.6567 - accuracy: 0.3977 - val_loss: 1.6890 - val_accuracy: 0.3858\n",
      "Epoch 58/100\n",
      "1407/1407 [==============================] - 1s 1ms/step - loss: 1.6504 - accuracy: 0.3994 - val_loss: 1.6806 - val_accuracy: 0.4000\n",
      "Epoch 59/100\n",
      "1407/1407 [==============================] - 1s 1ms/step - loss: 1.6448 - accuracy: 0.4009 - val_loss: 1.6788 - val_accuracy: 0.3942\n",
      "Epoch 60/100\n",
      "1407/1407 [==============================] - 1s 1ms/step - loss: 1.6384 - accuracy: 0.4041 - val_loss: 1.6695 - val_accuracy: 0.3956\n",
      "Epoch 61/100\n",
      "1407/1407 [==============================] - 1s 1ms/step - loss: 1.6328 - accuracy: 0.4053 - val_loss: 1.6739 - val_accuracy: 0.3896\n",
      "Epoch 62/100\n",
      "1407/1407 [==============================] - 1s 1ms/step - loss: 1.6271 - accuracy: 0.4075 - val_loss: 1.6730 - val_accuracy: 0.3962\n",
      "Epoch 63/100\n",
      "1407/1407 [==============================] - 1s 1ms/step - loss: 1.6209 - accuracy: 0.4106 - val_loss: 1.6670 - val_accuracy: 0.3928\n",
      "Epoch 64/100\n",
      "1407/1407 [==============================] - 1s 1ms/step - loss: 1.6151 - accuracy: 0.4128 - val_loss: 1.6556 - val_accuracy: 0.3946\n",
      "Epoch 65/100\n",
      "1407/1407 [==============================] - 1s 1ms/step - loss: 1.6097 - accuracy: 0.4120 - val_loss: 1.6532 - val_accuracy: 0.4026\n",
      "Epoch 66/100\n",
      "1407/1407 [==============================] - 1s 1ms/step - loss: 1.6036 - accuracy: 0.4176 - val_loss: 1.6696 - val_accuracy: 0.3936\n",
      "Epoch 67/100\n",
      "1407/1407 [==============================] - 1s 1ms/step - loss: 1.5985 - accuracy: 0.4184 - val_loss: 1.6338 - val_accuracy: 0.4064\n",
      "Epoch 68/100\n",
      "1407/1407 [==============================] - 1s 1ms/step - loss: 1.5930 - accuracy: 0.4201 - val_loss: 1.6411 - val_accuracy: 0.4012\n",
      "Epoch 69/100\n",
      "1407/1407 [==============================] - 2s 1ms/step - loss: 1.5874 - accuracy: 0.4226 - val_loss: 1.6336 - val_accuracy: 0.4094\n",
      "Epoch 70/100\n",
      "1407/1407 [==============================] - 2s 1ms/step - loss: 1.5816 - accuracy: 0.4242 - val_loss: 1.6187 - val_accuracy: 0.4136\n",
      "Epoch 71/100\n",
      "1407/1407 [==============================] - 1s 1ms/step - loss: 1.5765 - accuracy: 0.4268 - val_loss: 1.6442 - val_accuracy: 0.4056\n",
      "Epoch 72/100\n",
      "1407/1407 [==============================] - 1s 1ms/step - loss: 1.5718 - accuracy: 0.4278 - val_loss: 1.6192 - val_accuracy: 0.4128\n",
      "Epoch 73/100\n",
      "1407/1407 [==============================] - 1s 1ms/step - loss: 1.5674 - accuracy: 0.4305 - val_loss: 1.6198 - val_accuracy: 0.4136\n",
      "Epoch 74/100\n",
      "1407/1407 [==============================] - 1s 1ms/step - loss: 1.5617 - accuracy: 0.4312 - val_loss: 1.6065 - val_accuracy: 0.4200\n",
      "Epoch 75/100\n",
      "1407/1407 [==============================] - 2s 1ms/step - loss: 1.5559 - accuracy: 0.4353 - val_loss: 1.6141 - val_accuracy: 0.4184\n",
      "Epoch 76/100\n",
      "1407/1407 [==============================] - 2s 1ms/step - loss: 1.5515 - accuracy: 0.4356 - val_loss: 1.5899 - val_accuracy: 0.4190\n",
      "Epoch 77/100\n",
      "1407/1407 [==============================] - 2s 1ms/step - loss: 1.5470 - accuracy: 0.4384 - val_loss: 1.5987 - val_accuracy: 0.4218\n",
      "Epoch 78/100\n",
      "1407/1407 [==============================] - 1s 1ms/step - loss: 1.5425 - accuracy: 0.4378 - val_loss: 1.6154 - val_accuracy: 0.4162\n",
      "Epoch 79/100\n",
      "1407/1407 [==============================] - 2s 1ms/step - loss: 1.5371 - accuracy: 0.4419 - val_loss: 1.5857 - val_accuracy: 0.4230\n",
      "Epoch 80/100\n",
      "1407/1407 [==============================] - 2s 1ms/step - loss: 1.5321 - accuracy: 0.4420 - val_loss: 1.5869 - val_accuracy: 0.4270\n",
      "Epoch 81/100\n",
      "1407/1407 [==============================] - 1s 1ms/step - loss: 1.5274 - accuracy: 0.4462 - val_loss: 1.6367 - val_accuracy: 0.4116\n",
      "Epoch 82/100\n",
      "1407/1407 [==============================] - 1s 1ms/step - loss: 1.5235 - accuracy: 0.4460 - val_loss: 1.5717 - val_accuracy: 0.4286\n",
      "Epoch 83/100\n",
      "1407/1407 [==============================] - 2s 1ms/step - loss: 1.5193 - accuracy: 0.4494 - val_loss: 1.5689 - val_accuracy: 0.4266\n",
      "Epoch 84/100\n",
      "1407/1407 [==============================] - 1s 1ms/step - loss: 1.5135 - accuracy: 0.4500 - val_loss: 1.5621 - val_accuracy: 0.4318\n",
      "Epoch 85/100\n",
      "1407/1407 [==============================] - 2s 1ms/step - loss: 1.5094 - accuracy: 0.4528 - val_loss: 1.5641 - val_accuracy: 0.4296\n",
      "Epoch 86/100\n",
      "1407/1407 [==============================] - 1s 1ms/step - loss: 1.5048 - accuracy: 0.4547 - val_loss: 1.5918 - val_accuracy: 0.4248\n",
      "Epoch 87/100\n",
      "1407/1407 [==============================] - 1s 1ms/step - loss: 1.5002 - accuracy: 0.4549 - val_loss: 1.5627 - val_accuracy: 0.4342\n",
      "Epoch 88/100\n",
      "1407/1407 [==============================] - 2s 1ms/step - loss: 1.4963 - accuracy: 0.4576 - val_loss: 1.5770 - val_accuracy: 0.4310\n",
      "Epoch 89/100\n",
      "1407/1407 [==============================] - 1s 1ms/step - loss: 1.4912 - accuracy: 0.4598 - val_loss: 1.5663 - val_accuracy: 0.4362\n",
      "Epoch 90/100\n",
      "1407/1407 [==============================] - 2s 1ms/step - loss: 1.4872 - accuracy: 0.4614 - val_loss: 1.5599 - val_accuracy: 0.4410\n",
      "Epoch 91/100\n",
      "1407/1407 [==============================] - 1s 1ms/step - loss: 1.4836 - accuracy: 0.4609 - val_loss: 1.5475 - val_accuracy: 0.4420\n",
      "Epoch 92/100\n",
      "1407/1407 [==============================] - 2s 1ms/step - loss: 1.4782 - accuracy: 0.4655 - val_loss: 1.5469 - val_accuracy: 0.4452\n",
      "Epoch 93/100\n",
      "1407/1407 [==============================] - 2s 1ms/step - loss: 1.4746 - accuracy: 0.4679 - val_loss: 1.5493 - val_accuracy: 0.4420\n",
      "Epoch 94/100\n",
      "1407/1407 [==============================] - 1s 1ms/step - loss: 1.4709 - accuracy: 0.4690 - val_loss: 1.5819 - val_accuracy: 0.4290\n",
      "Epoch 95/100\n",
      "1407/1407 [==============================] - 1s 1ms/step - loss: 1.4662 - accuracy: 0.4696 - val_loss: 1.5376 - val_accuracy: 0.4498\n",
      "Epoch 96/100\n",
      "1407/1407 [==============================] - 1s 1ms/step - loss: 1.4626 - accuracy: 0.4685 - val_loss: 1.5506 - val_accuracy: 0.4456\n",
      "Epoch 97/100\n",
      "1407/1407 [==============================] - 1s 1ms/step - loss: 1.4579 - accuracy: 0.4726 - val_loss: 1.6749 - val_accuracy: 0.4126\n",
      "Epoch 98/100\n",
      "1407/1407 [==============================] - 1s 1ms/step - loss: 1.4544 - accuracy: 0.4734 - val_loss: 1.5929 - val_accuracy: 0.4236\n",
      "Epoch 99/100\n",
      "1407/1407 [==============================] - 2s 1ms/step - loss: 1.4502 - accuracy: 0.4755 - val_loss: 1.5372 - val_accuracy: 0.4508\n",
      "Epoch 100/100\n",
      "1407/1407 [==============================] - 1s 1ms/step - loss: 1.4465 - accuracy: 0.4768 - val_loss: 1.5138 - val_accuracy: 0.4562\n"
     ]
    }
   ],
   "source": [
    "#10 % of the training data will be used to validate the training\n",
    "validation_portion = 0.1\n",
    "num_epochs = 100\n",
    "\n",
    "history = cifar10_model.fit(x = train_x, y = train_y, epochs = num_epochs, batch_size = 32, \\\n",
    "                            validation_split = validation_portion, shuffle=True, verbose=1)"
   ]
  },
  {
   "cell_type": "markdown",
   "metadata": {},
   "source": [
    "<font size=5 color=\"blue\">\n",
    "Graph of cost functions as a function of epoch"
   ]
  },
  {
   "cell_type": "code",
   "execution_count": 30,
   "metadata": {
    "ExecuteTime": {
     "start_time": "2021-01-28T12:05:20.286Z"
    },
    "scrolled": false
   },
   "outputs": [
    {
     "data": {
      "image/png": "[encoded data removed]",
      "text/plain": [
       "<Figure size 432x288 with 1 Axes>"
      ]
     },
     "metadata": {
      "needs_background": "light"
     },
     "output_type": "display_data"
    }
   ],
   "source": [
    "plt.plot(history.history['loss'])\n",
    "plt.plot(history.history['val_loss'])\n",
    "plt.title('Lr = 0.01, Dropout: Inp = 0.0, hl_1 = 0.0, hl_2 = 0.0')\n",
    "plt.ylabel('Cost')\n",
    "plt.xlabel('Epoch')\n",
    "plt.legend(['Train', 'Validation'], loc='upper right')\n",
    "plt.show()"
   ]
  },
  {
   "cell_type": "markdown",
   "metadata": {},
   "source": [
    "<font size=5 color=\"blue\">\n",
    "Graph of accuracy functions as a function of epoch"
   ]
  },
  {
   "cell_type": "code",
   "execution_count": 31,
   "metadata": {
    "ExecuteTime": {
     "start_time": "2021-01-28T12:05:20.289Z"
    }
   },
   "outputs": [
    {
     "data": {
      "image/png": "[encoded data removed]",
      "text/plain": [
       "<Figure size 432x288 with 1 Axes>"
      ]
     },
     "metadata": {
      "needs_background": "light"
     },
     "output_type": "display_data"
    }
   ],
   "source": [
    "plt.plot(history.history['accuracy'])\n",
    "plt.plot(history.history['val_accuracy'])\n",
    "plt.title('Lr = 0.01, Dropout: Inp = 0.0, hl1 = 0.15, hl2 = 0.0')\n",
    "plt.ylabel('Accuracy')\n",
    "plt.xlabel('Epoch')\n",
    "plt.legend(['Train', 'Validation'], loc='lower right')\n",
    "plt.show()"
   ]
  },
  {
   "cell_type": "markdown",
   "metadata": {},
   "source": [
    "<font size = 5 color='blue'>\n",
    "Loss and accuracy evaluation"
   ]
  },
  {
   "cell_type": "markdown",
   "metadata": {},
   "source": [
    "<font size= 4 color='black'>    \n",
    "After training the network, the loss and accuracy functions are evaluated using the test samples (test_x, test_y).    \n",
    "\n",
    "    \n",
    "[Method evaluate in Keras](https://keras.io/models/model/)"
   ]
  },
  {
   "cell_type": "code",
   "execution_count": 32,
   "metadata": {
    "ExecuteTime": {
     "start_time": "2021-01-28T12:05:20.293Z"
    }
   },
   "outputs": [
    {
     "name": "stdout",
     "output_type": "stream",
     "text": [
      "313/313 [==============================] - 0s 864us/step - loss: 1.5134 - accuracy: 0.4521\n",
      "Loss = 1.5134060382843018\n",
      "Test Accuracy = 0.45210000872612\n"
     ]
    }
   ],
   "source": [
    "evaluations = cifar10_model.evaluate(x = test_x, y = test_y)\n",
    "\n",
    "print (\"Loss = \" + str(evaluations[0]))\n",
    "print (\"Test Accuracy = \" + str(evaluations[1]))\n"
   ]
  },
  {
   "cell_type": "code",
   "execution_count": 33,
   "metadata": {
    "ExecuteTime": {
     "start_time": "2021-01-28T12:05:20.295Z"
    }
   },
   "outputs": [
    {
     "name": "stdout",
     "output_type": "stream",
     "text": [
      "4/4 [==============================] - 0s 1ms/step - loss: 1.3484 - accuracy: 0.5400\n",
      "Loss = 1.3483778238296509\n",
      "Test Accuracy = 0.5400000214576721\n"
     ]
    }
   ],
   "source": [
    "# Evaluation using the first 100 samples of the test set\n",
    "\n",
    "evaluations = cifar10_model.evaluate(x = test_x[:100], y = test_y[:100])\n",
    "\n",
    "print (\"Loss = \" + str(evaluations[0]))\n",
    "print (\"Test Accuracy = \" + str(evaluations[1]))\n"
   ]
  },
  {
   "cell_type": "markdown",
   "metadata": {},
   "source": [
    "<font size = 5 color='blue'>\n",
    "Image prediction"
   ]
  },
  {
   "cell_type": "markdown",
   "metadata": {},
   "source": [
    "<font size= 4 color='black'>    \n",
    "The trained learning system can predict the object content of an image. For example, we take an image of the test dataset (test_x, test_y). \n",
    "    \n",
    "[Method predict in Keras](https://keras.io/models/model/)"
   ]
  },
  {
   "cell_type": "code",
   "execution_count": 34,
   "metadata": {
    "ExecuteTime": {
     "start_time": "2021-01-28T12:05:20.299Z"
    }
   },
   "outputs": [],
   "source": [
    "# Predicting the image associated to the each sample in the test set (X_test)\n",
    "predictions = cifar10_model.predict(test_x)"
   ]
  },
  {
   "cell_type": "code",
   "execution_count": 35,
   "metadata": {
    "ExecuteTime": {
     "start_time": "2021-01-28T12:05:20.301Z"
    }
   },
   "outputs": [],
   "source": [
    "sample = 31"
   ]
  },
  {
   "cell_type": "markdown",
   "metadata": {},
   "source": [
    "<font size=4 color=\"black\"> \n",
    "Displaying the image associated (not predicted!) to this sample."
   ]
  },
  {
   "cell_type": "code",
   "execution_count": 36,
   "metadata": {
    "ExecuteTime": {
     "start_time": "2021-01-28T12:05:20.305Z"
    }
   },
   "outputs": [
    {
     "name": "stdout",
     "output_type": "stream",
     "text": [
      "the sample 31 corresponds to a dog\n"
     ]
    },
    {
     "data": {
      "image/png": "[encoded data removed]",
      "text/plain": [
       "<Figure size 432x288 with 1 Axes>"
      ]
     },
     "metadata": {
      "needs_background": "light"
     },
     "output_type": "display_data"
    }
   ],
   "source": [
    "\n",
    "plt.imshow(test_x[sample].reshape((32, 32, 3)))\n",
    "\n",
    "print('the sample', sample, 'corresponds to a', dic[int(np.argmax(test_y[sample]))])\n"
   ]
  },
  {
   "cell_type": "code",
   "execution_count": 37,
   "metadata": {
    "ExecuteTime": {
     "start_time": "2021-01-28T12:05:20.309Z"
    }
   },
   "outputs": [
    {
     "name": "stdout",
     "output_type": "stream",
     "text": [
      "For the sample number 31 the prediction is a(n) bird\n"
     ]
    }
   ],
   "source": [
    "# Predicting the image associated to the sample \n",
    "# np.argmax returns the index of the maximum value\n",
    "\n",
    "prediction = np.argmax(predictions[sample])\n",
    "\n",
    "print('For the sample number', sample, 'the prediction is a(n)', dic[prediction])"
   ]
  },
  {
   "cell_type": "markdown",
   "metadata": {},
   "source": [
    "<font size = 4 color=\"black\">\n",
    "    \n",
    "The next function finds the number of samples where the network made an incorrect prediction in a region of the test dataset. For example, in the first 40 samples from this dataset."
   ]
  },
  {
   "cell_type": "code",
   "execution_count": 38,
   "metadata": {
    "ExecuteTime": {
     "start_time": "2021-01-28T12:05:20.313Z"
    }
   },
   "outputs": [
    {
     "data": {
      "text/plain": [
       "[3,\n",
       " 4,\n",
       " 6,\n",
       " 8,\n",
       " 10,\n",
       " 12,\n",
       " 14,\n",
       " 16,\n",
       " 20,\n",
       " 22,\n",
       " 23,\n",
       " 24,\n",
       " 25,\n",
       " 26,\n",
       " 27,\n",
       " 31,\n",
       " 32,\n",
       " 33,\n",
       " 35,\n",
       " 36,\n",
       " 37]"
      ]
     },
     "execution_count": 38,
     "metadata": {},
     "output_type": "execute_result"
    }
   ],
   "source": [
    "\n",
    "mislabeled_images = []\n",
    "\n",
    "for i in range(len(test_x[:40])):\n",
    "    \n",
    "    if np.argmax(cifar10_model.predict(test_x)[i]) != np.argmax(test_y[i]):\n",
    "        \n",
    "        mislabeled_images.append(i)\n",
    " \n",
    "\n",
    "\n",
    "mislabeled_images"
   ]
  },
  {
   "cell_type": "markdown",
   "metadata": {},
   "source": [
    "<font size=4 color='black'>\n",
    "Keras has the several options to use regularizers L1, L2 or both simultaneously. \n",
    "It also has the option of creating custom regulirizers.\n",
    "    \n",
    "[Keras layer weight regularizers](https://keras.io/api/layers/regularizers/)"
   ]
  },
  {
   "cell_type": "markdown",
   "metadata": {},
   "source": [
    "<font size=4 color='black'>\n",
    "    \n",
    "[Runs summary](clase9-figures.odt)"
   ]
  },
  {
   "cell_type": "code",
   "execution_count": null,
   "metadata": {},
   "outputs": [],
   "source": []
  }
 ],
 "metadata": {
  "kernelspec": {
   "display_name": "Python 3 (ipykernel)",
   "language": "python",
   "name": "python3"
  },
  "language_info": {
   "codemirror_mode": {
    "name": "ipython",
    "version": 3
   },
   "file_extension": ".py",
   "mimetype": "text/x-python",
   "name": "python",
   "nbconvert_exporter": "python",
   "pygments_lexer": "ipython3",
   "version": "3.8.16"
  }
 },
 "nbformat": 4,
 "nbformat_minor": 2
}
