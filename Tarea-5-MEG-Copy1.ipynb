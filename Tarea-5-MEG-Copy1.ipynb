{
 "cells": [
  {
   "cell_type": "markdown",
   "metadata": {
    "id": "TB0wBWfcVqHz"
   },
   "source": [
    "# Tarea 3: Ajuste de hiperpaŕametros utilizando Tensorflow y Tensorboard"
   ]
  },
  {
   "cell_type": "markdown",
   "metadata": {
    "id": "elH58gbhWAmn"
   },
   "source": [
    "<font size=4>Como hemos comentado en clase, las redes neuronales actualizan los parámetros necesarios, según cada estilo de arquitectura de red especificada, para atacar un problema particular y poder realizar inferencias relacionadas con dicho problema. Ya en el curso hemos visto, y seguiremos viendo, arquitecturas diversas para atacar un gran número de problemas reales. Pero tenemos que tratar otro asunto..."
   ]
  },
  {
   "cell_type": "markdown",
   "metadata": {},
   "source": [
    "<font size=4>Un problema abierto en Machine Learning es la selección de hiperpaŕametros. Existen diversas técnicas para atacar el problema. Vas a desarrollar un código, para aplicar un **Grid Search** sobre ciertos conjuntos de hiperparámetros, para determinar el mejor algoritmo que resuelva el problema de clasificación para un nuevo dataset que vas a trabajar: Fashion MNIST "
   ]
  },
  {
   "cell_type": "markdown",
   "metadata": {},
   "source": [
    "![](https://3qeqpr26caki16dnhd19sv6by6v-wpengine.netdna-ssl.com/wp-content/uploads/2019/02/Plot-of-a-Subset-of-Images-from-the-Fashion-MNIST-Dataset-1024x768.png)"
   ]
  },
  {
   "cell_type": "markdown",
   "metadata": {},
   "source": [
    "<font size=4>Te pedimos, por favor, que tengas a la mano tus notebooks 8, 9 y 10, para resolver la tarea. Te haremos señalizaciones puntuales de dónde consultar cada pregunta. Habrá otras cosas que tendrás que desarrollar por tu cuenta, pero el esfuerzo valdrá la pena. Queremos que este código te permita trabajar tu proyecto final con mucha soltura y con varios experimentos a la vez."
   ]
  },
  {
   "cell_type": "code",
   "execution_count": 1,
   "metadata": {
    "id": "8p3Tbx8cWEFA"
   },
   "outputs": [],
   "source": [
    "# Load the TensorBoard notebook extension\n",
    "%load_ext tensorboard"
   ]
  },
  {
   "cell_type": "code",
   "execution_count": 2,
   "metadata": {
    "id": "lEWCCQYkWIdA"
   },
   "outputs": [
    {
     "name": "stderr",
     "output_type": "stream",
     "text": [
      "\"rm\" no se reconoce como un comando interno o externo,\n",
      "programa o archivo por lotes ejecutable.\n"
     ]
    }
   ],
   "source": [
    "# Clear any logs from previous runs\n",
    "!rm -rf ./logs/ "
   ]
  },
  {
   "cell_type": "markdown",
   "metadata": {},
   "source": [
    "<font size=4>Importamos las librerías básicas que necesitamos para esta tarea. "
   ]
  },
  {
   "cell_type": "code",
   "execution_count": 3,
   "metadata": {
    "id": "mVtYvbbIWRkV"
   },
   "outputs": [],
   "source": [
    "import tensorflow as tf\n",
    "from tensorflow import keras\n",
    "from tensorflow.keras import layers\n",
    "from tensorflow.keras.layers import Input, Dense, Activation, Flatten\n",
    "from tensorflow.keras.layers import Dropout\n",
    "from tensorflow.keras.models import Model\n",
    "from tensorflow.keras.preprocessing import image\n",
    "from tensorflow.keras.applications.imagenet_utils import preprocess_input\n",
    "import pydot\n",
    "from IPython.display import SVG\n",
    "from tensorflow.keras.utils import plot_model\n",
    "from tensorflow.keras.optimizers import SGD\n",
    "from datetime import datetime\n",
    "\n",
    "import matplotlib.pyplot as plt\n",
    "from matplotlib.pyplot import imshow\n",
    "\n",
    "import numpy as np\n",
    "import pickle\n",
    "import time\n",
    "\n",
    "from tensorboard.plugins.hparams import api as hp\n",
    "np.random.seed(1)\n",
    "\n",
    "%matplotlib inline"
   ]
  },
  {
   "cell_type": "code",
   "execution_count": 4,
   "metadata": {
    "id": "z8b82G7YksOS"
   },
   "outputs": [],
   "source": [
    "fashion_mnist = tf.keras.datasets.fashion_mnist"
   ]
  },
  {
   "cell_type": "markdown",
   "metadata": {},
   "source": [
    "<font size=4 color=red>1. Carga los datos de FashionMNIST y separa en los respectivos conjuntos de entrenamiento y test. (HINT: Revisar la parte de preprocesamiento del notebook 10)."
   ]
  },
  {
   "cell_type": "code",
   "execution_count": 5,
   "metadata": {},
   "outputs": [],
   "source": [
    "(x_train, y_train),(x_test, y_test) = fashion_mnist.load_data()"
   ]
  },
  {
   "cell_type": "markdown",
   "metadata": {},
   "source": [
    "<font size=4 color=red>2. Obtener la dimensión de cada conjunto de la celda anterior. (HINT:Revisar la clase 10, en la misma sección de procesamiento del dataset)"
   ]
  },
  {
   "cell_type": "code",
   "execution_count": 6,
   "metadata": {},
   "outputs": [
    {
     "name": "stdout",
     "output_type": "stream",
     "text": [
      "The shape of x_train is (60000, 28, 28)\n",
      "The shape of y_train is (60000,)\n",
      "\n",
      "The shape of x_test is (10000, 28, 28)\n",
      "The shape of y_test is (10000,)\n"
     ]
    }
   ],
   "source": [
    "print('The shape of x_train is', x_train.shape)\n",
    "print('The shape of y_train is', y_train.shape)\n",
    "\n",
    "print('\\nThe shape of x_test is', x_test.shape)\n",
    "print('The shape of y_test is', y_test.shape)"
   ]
  },
  {
   "cell_type": "markdown",
   "metadata": {},
   "source": [
    "<font size=4 color=red> 3. [Ingresa a este link](https://www.kaggle.com/datasets/zalando-research/fashionmnist) para encontrar la información de lo que significa cada una de las etiquetas. Completa el diccionario que se presenta en la siguiente celda."
   ]
  },
  {
   "cell_type": "code",
   "execution_count": 7,
   "metadata": {},
   "outputs": [],
   "source": [
    "dic = {0: 'T-shirt/top', 1: 'Trouser', 2: 'Pullover', 3: 'Dress', 4: 'Coat', \n",
    "       5: 'Sandal', 6: 'Shirt', 7: 'Sneaker', 8: 'Bag', 9: 'Ankle boot'}"
   ]
  },
  {
   "cell_type": "code",
   "execution_count": 8,
   "metadata": {},
   "outputs": [
    {
     "name": "stdout",
     "output_type": "stream",
     "text": [
      "Dress is the object corresponding to the sample 3\n",
      "\n",
      " This is its image\n"
     ]
    },
    {
     "data": {
      "image/png": "[encoded data removed]",
      "text/plain": [
       "<Figure size 640x480 with 1 Axes>"
      ]
     },
     "metadata": {},
     "output_type": "display_data"
    }
   ],
   "source": [
    "index = 3\n",
    "\n",
    "plt.imshow(x_train[index],cmap='gray')\n",
    "\n",
    "print(dic[y_train[index]], \"is the object corresponding to the sample\", index)\n",
    "print(\"\\n This is its image\")"
   ]
  },
  {
   "cell_type": "markdown",
   "metadata": {},
   "source": [
    "<font size=4 color=red>4. Analizar si los pixeles de cada imagen están normalizados o no. De no estarlo, hacer la normalización correspondiente. (HINT: Revisar la sección \"Analyzing the data extracted from CIFAR-10\" del notebook 10)"
   ]
  },
  {
   "cell_type": "code",
   "execution_count": 9,
   "metadata": {},
   "outputs": [
    {
     "name": "stdout",
     "output_type": "stream",
     "text": [
      "The features of a training sample \n",
      " \n",
      " [[  0   0   0   0   0   0   0   0  33  96 175 156  64  14  54 137 204 194\n",
      "  102   0   0   0   0   0   0   0   0   0]]\n"
     ]
    }
   ],
   "source": [
    "sample = 3\n",
    "print(\"The features of a training sample \\n \\n\", x_train[sample][:1])"
   ]
  },
  {
   "cell_type": "markdown",
   "metadata": {},
   "source": [
    "<font size=4, color=olive> Al no estar normalizados los datos procedemos a realizar la normalización sobre la escala de gris de los pixeles"
   ]
  },
  {
   "cell_type": "code",
   "execution_count": 10,
   "metadata": {},
   "outputs": [],
   "source": [
    "train_x = x_train/255\n",
    "test_x = x_test/255"
   ]
  },
  {
   "cell_type": "code",
   "execution_count": 11,
   "metadata": {},
   "outputs": [
    {
     "name": "stdout",
     "output_type": "stream",
     "text": [
      "The features of a training sample \n",
      " \n",
      " [[0.         0.         0.         0.         0.         0.\n",
      "  0.         0.         0.12941176 0.37647059 0.68627451 0.61176471\n",
      "  0.25098039 0.05490196 0.21176471 0.5372549  0.8        0.76078431\n",
      "  0.4        0.         0.         0.         0.         0.\n",
      "  0.         0.         0.         0.        ]]\n"
     ]
    }
   ],
   "source": [
    "sample = 3\n",
    "print(\"The features of a training sample \\n \\n\", train_x[sample][:1])"
   ]
  },
  {
   "cell_type": "markdown",
   "metadata": {},
   "source": [
    "<font size=4 color=red>5. Realizar la codificación One-Hot para las etiquetas de este problema. (HINT: Revisar la sección \"One Hot Encoding\" de los notebooks 8, 9 o 10)"
   ]
  },
  {
   "cell_type": "code",
   "execution_count": 12,
   "metadata": {},
   "outputs": [
    {
     "data": {
      "text/plain": [
       "(60000,)"
      ]
     },
     "execution_count": 12,
     "metadata": {},
     "output_type": "execute_result"
    }
   ],
   "source": [
    "y_train.shape"
   ]
  },
  {
   "cell_type": "code",
   "execution_count": 13,
   "metadata": {},
   "outputs": [
    {
     "name": "stdout",
     "output_type": "stream",
     "text": [
      "[9 0 0 3 0]\n"
     ]
    }
   ],
   "source": [
    "print(y_train[0:5])"
   ]
  },
  {
   "cell_type": "code",
   "execution_count": 14,
   "metadata": {},
   "outputs": [],
   "source": [
    "train_y = np.eye(10)[y_train.reshape(-1)]\n",
    "test_y = np.eye(10)[y_test.reshape(-1)]"
   ]
  },
  {
   "cell_type": "code",
   "execution_count": 15,
   "metadata": {},
   "outputs": [
    {
     "data": {
      "text/plain": [
       "array([[0., 0., 0., 0., 0., 0., 0., 0., 0., 1.],\n",
       "       [1., 0., 0., 0., 0., 0., 0., 0., 0., 0.],\n",
       "       [1., 0., 0., 0., 0., 0., 0., 0., 0., 0.],\n",
       "       [0., 0., 0., 1., 0., 0., 0., 0., 0., 0.],\n",
       "       [1., 0., 0., 0., 0., 0., 0., 0., 0., 0.]])"
      ]
     },
     "execution_count": 15,
     "metadata": {},
     "output_type": "execute_result"
    }
   ],
   "source": [
    "train_y[0:5]"
   ]
  },
  {
   "cell_type": "markdown",
   "metadata": {},
   "source": [
    "<font size=5 color=\"blue\">\n",
    "\n",
    "Building the Learning System\n",
    "\n"
   ]
  },
  {
   "cell_type": "markdown",
   "metadata": {},
   "source": [
    "<font size=5 color='blue'>\n",
    "\n",
    "Definition of the neural network architecture"
   ]
  },
  {
   "cell_type": "markdown",
   "metadata": {},
   "source": [
    "<font size=4>En esta sección vamos a utilizar la arquitectura expuesta en la clase 9, pero vamos a realizar algunas modificaciones para realizar más variaciones al modelo base, así como a otro conjunto de hiperparámetros. A continuación, se expone la manera de realizar estos cambios. No tienes que modificar nada aún."
   ]
  },
  {
   "cell_type": "markdown",
   "metadata": {},
   "source": [
    "<font size=4>Primero, se deben inicializar los hiperparámetros, así como sus posibles valores que pueden tomar. Además, vamos a guardar en el Tensorboar el accuracy, de modo que podamos asociar a cada conjunto de hiperparámetros un valor de accuracy, para así comparar y decidir cuál modelo nos puede proporcionar la mejor inferencia. "
   ]
  },
  {
   "cell_type": "code",
   "execution_count": 16,
   "metadata": {
    "id": "5Euw0agpWb4V"
   },
   "outputs": [],
   "source": [
    "HP_NUM_UNITS = hp.HParam('num_units', hp.Discrete([16, 32]))\n",
    "HP_DROPOUT = hp.HParam('dropout', hp.Discrete([0.1, 0.4]))\n",
    "HP_OPTIMIZER = hp.HParam('optimizer', hp.Discrete(['adam', 'sgd']))\n",
    "HP_LEARNINGRATE= hp.HParam('learning_rate', hp.Discrete([0.1,0.01,0.001]))\n",
    "\n",
    "METRIC_ACCURACY = 'accuracy'\n",
    "\n",
    "with tf.summary.create_file_writer('logs/hparam_tuning').as_default():\n",
    "  hp.hparams_config(\n",
    "    hparams=[HP_NUM_UNITS, HP_DROPOUT, HP_OPTIMIZER, HP_LEARNINGRATE],\n",
    "    metrics=[hp.Metric(METRIC_ACCURACY, display_name='Accuracy')],\n",
    "  )"
   ]
  },
  {
   "cell_type": "markdown",
   "metadata": {
    "id": "va9XMh-dW4_f"
   },
   "source": [
    "<font size=4>Ahora sí, te va a tocar modificar ciertas partes de la arquitectura del código, para realizar la variación de parámetros que se propone en la celda anterior. Te vamos a ayudar con algunos, pero otros tú los vas a tener que modificar. Sigue con cuidado las instrucciones, y obtendrás el resultado esperado."
   ]
  },
  {
   "cell_type": "markdown",
   "metadata": {},
   "source": [
    "<font size=4 color=red>6. Se te proporciona a continuación la arquitectura de la clase 9. Modifica el código, de tal forma que reciba como parámetros de entrada la probabilidad de aplicar el Dropout, así como el número de neuronas presentes en la segunda capa lineal. Nosotros te ayudamos a cambiar el número de neuronas. Declaramos una variable de entrada llamada **units**, y lo colocamos en donde corresponde. Lo mismo tienes que hacer para la probabilidad del Dropout(es decir,en cada punto donde encuentres p=0, tienes que cambiarlo por una variable de entrada, de modo que podamos barrer otros valores en este punto)"
   ]
  },
  {
   "cell_type": "code",
   "execution_count": 17,
   "metadata": {},
   "outputs": [],
   "source": [
    "def architecture(input_shape, num_classes, p_drop, units, dropout=True):\n",
    "    \n",
    "    # Defining the input as a tensor with shape input_shape. \n",
    "    InputLayer = Input(input_shape)\n",
    "    \n",
    "    # Flattening the input tensor of dimensions (32, 32, 3) to a tensor of dimensions (3072)\n",
    "    x = Flatten()(InputLayer)\n",
    "    if dropout == True:\n",
    "        x = Dropout(p_drop)(x)\n",
    "    \n",
    "    # Defining the first hidden layer with 50 nodes and sigmoid as activation function\n",
    "    x = Dense(50, kernel_initializer='random_uniform', bias_initializer='zeros', name='hl_1')(x)\n",
    "    x = Activation('sigmoid')(x)\n",
    "    if dropout == True:\n",
    "        x = Dropout(p_drop)(x)\n",
    "\n",
    "    x = Dense(units, kernel_initializer='random_uniform', bias_initializer='zeros', name='hl_2')(x)\n",
    "    x = Activation('sigmoid')(x)\n",
    "    if dropout == True:\n",
    "        x = Dropout(p_drop)(x)\n",
    "    \n",
    "    \n",
    "    # For the output layer we use the activation function 'softmax')\n",
    "    x = Dense(num_classes, kernel_initializer='random_uniform', bias_initializer='zeros')(x)\n",
    "    OutputLayer = Activation('softmax', name='output-layer')(x)\n",
    "    \n",
    "    # This creates the Keras model instance, you'll use this instance to train/test the model.\n",
    "    model = Model(inputs = InputLayer, outputs = OutputLayer, name='Cifar10Model')\n",
    "\n",
    "    return model"
   ]
  },
  {
   "cell_type": "markdown",
   "metadata": {},
   "source": [
    "<font size=4 color=red>7. Vamos a definir una función llamada train_test_model, en donde vamos a definir todos los pasos importantes para realizar el entrenamiento. La única línea de código que vas a modificar, es la línea 17 de la siguiente celda. Vamos a loggear al Tensorboard el accuracy sobre el conjunto de evaluacion. Aplica el método **evaluate** sobre los conjuntos de prueba. (HINT: Revisa los notebooks 8,9 y 10 para que veas la manera de hacer esto)"
   ]
  },
  {
   "cell_type": "code",
   "execution_count": 18,
   "metadata": {
    "id": "hG-zalNfW5Zl"
   },
   "outputs": [],
   "source": [
    "one_image = (28, 28, 1)\n",
    "num_classes=10\n",
    "\n",
    "def train_test_model(hparams):\n",
    "\n",
    "    model=architecture(input_shape=one_image, num_classes=num_classes, \n",
    "                       p_drop=hparams[HP_DROPOUT], units=hparams[HP_NUM_UNITS])\n",
    "    model.compile(\n",
    "          optimizer=hparams[HP_OPTIMIZER],\n",
    "          loss='categorical_crossentropy',\n",
    "          metrics=['accuracy']\n",
    "      )\n",
    "    model.optimizer.learning_rate=hparams[HP_LEARNINGRATE]\n",
    "    model.fit(x_train, train_y, epochs = 5, batch_size = 32, \\\n",
    "                                validation_split = 0.1, shuffle=True, verbose=0) # Run with 1 epoch to speed things up for demo purposes\n",
    "    _, accuracy = model.evaluate(x = test_x, y = test_y)\n",
    "    return accuracy"
   ]
  },
  {
   "cell_type": "markdown",
   "metadata": {},
   "source": [
    "<font size=4> En la siguiente función, vamos a compactar todo lo que queremos pasarle a nuestro Tensorboard, incluyendo los hiperparámetros y una ruta donde se guardarán todos los resultados. No tienes que modificar nada"
   ]
  },
  {
   "cell_type": "code",
   "execution_count": 19,
   "metadata": {
    "id": "8j-fO6nEXRfW"
   },
   "outputs": [],
   "source": [
    "def training(run_dir, hparams):\n",
    "    with tf.summary.create_file_writer(run_dir).as_default():\n",
    "        hp.hparams(hparams)  # record the values used in this trial\n",
    "        accuracy = train_test_model(hparams)\n",
    "        tf.summary.scalar(METRIC_ACCURACY, accuracy, step=1)"
   ]
  },
  {
   "cell_type": "markdown",
   "metadata": {},
   "source": [
    "<font size=4>Finalmente, en la siguiente celda realizamos los entrenamientos sobre todas las posibilidades de hiperparámetros a probar. Nótese que solo correremos 5 épocas. Queremos encontrar un modelo tal que nos ofrezca la mejor solución al problema de clasificación. Solo ejecuta la siguiente celda."
   ]
  },
  {
   "cell_type": "code",
   "execution_count": 20,
   "metadata": {
    "id": "KbqT5n-AXd0h"
   },
   "outputs": [
    {
     "name": "stdout",
     "output_type": "stream",
     "text": [
      "--- Starting trial: run-0\n",
      "{'num_units': 16, 'dropout': 0.1, 'optimizer': 'adam', 'learning_rate': 0.001}\n",
      "313/313 [==============================] - 3s 8ms/step - loss: 0.7757 - accuracy: 0.7163\n",
      "--- Starting trial: run-1\n",
      "{'num_units': 16, 'dropout': 0.1, 'optimizer': 'adam', 'learning_rate': 0.01}\n",
      "313/313 [==============================] - 3s 7ms/step - loss: 1.1930 - accuracy: 0.5136\n",
      "--- Starting trial: run-2\n",
      "{'num_units': 16, 'dropout': 0.1, 'optimizer': 'adam', 'learning_rate': 0.1}\n",
      "313/313 [==============================] - 3s 6ms/step - loss: 1.8454 - accuracy: 0.2005\n",
      "--- Starting trial: run-3\n",
      "{'num_units': 16, 'dropout': 0.1, 'optimizer': 'sgd', 'learning_rate': 0.001}\n",
      "313/313 [==============================] - 3s 8ms/step - loss: 2.3019 - accuracy: 0.0999\n",
      "--- Starting trial: run-4\n",
      "{'num_units': 16, 'dropout': 0.1, 'optimizer': 'sgd', 'learning_rate': 0.01}\n",
      "313/313 [==============================] - 3s 9ms/step - loss: 1.7546 - accuracy: 0.1743\n",
      "--- Starting trial: run-5\n",
      "{'num_units': 16, 'dropout': 0.1, 'optimizer': 'sgd', 'learning_rate': 0.1}\n",
      "313/313 [==============================] - 3s 8ms/step - loss: 1.2615 - accuracy: 0.4587\n",
      "--- Starting trial: run-6\n",
      "{'num_units': 16, 'dropout': 0.4, 'optimizer': 'adam', 'learning_rate': 0.001}\n",
      "313/313 [==============================] - 3s 7ms/step - loss: 1.1425 - accuracy: 0.5145\n",
      "--- Starting trial: run-7\n",
      "{'num_units': 16, 'dropout': 0.4, 'optimizer': 'adam', 'learning_rate': 0.01}\n",
      "313/313 [==============================] - 4s 8ms/step - loss: 1.4480 - accuracy: 0.3758\n",
      "--- Starting trial: run-8\n",
      "{'num_units': 16, 'dropout': 0.4, 'optimizer': 'adam', 'learning_rate': 0.1}\n",
      "313/313 [==============================] - 4s 11ms/step - loss: 2.1029 - accuracy: 0.1931\n",
      "--- Starting trial: run-9\n",
      "{'num_units': 16, 'dropout': 0.4, 'optimizer': 'sgd', 'learning_rate': 0.001}\n",
      "313/313 [==============================] - 3s 8ms/step - loss: 2.3021 - accuracy: 0.1005\n",
      "--- Starting trial: run-10\n",
      "{'num_units': 16, 'dropout': 0.4, 'optimizer': 'sgd', 'learning_rate': 0.01}\n",
      "313/313 [==============================] - 3s 7ms/step - loss: 1.7150 - accuracy: 0.2284\n",
      "--- Starting trial: run-11\n",
      "{'num_units': 16, 'dropout': 0.4, 'optimizer': 'sgd', 'learning_rate': 0.1}\n",
      "313/313 [==============================] - 2s 5ms/step - loss: 1.4087 - accuracy: 0.4430\n",
      "--- Starting trial: run-12\n",
      "{'num_units': 32, 'dropout': 0.1, 'optimizer': 'adam', 'learning_rate': 0.001}\n",
      "313/313 [==============================] - 2s 5ms/step - loss: 0.7549 - accuracy: 0.7118\n",
      "--- Starting trial: run-13\n",
      "{'num_units': 32, 'dropout': 0.1, 'optimizer': 'adam', 'learning_rate': 0.01}\n",
      "313/313 [==============================] - 2s 6ms/step - loss: 1.3184 - accuracy: 0.3934\n",
      "--- Starting trial: run-14\n",
      "{'num_units': 32, 'dropout': 0.1, 'optimizer': 'adam', 'learning_rate': 0.1}\n",
      "313/313 [==============================] - 3s 8ms/step - loss: 2.3298 - accuracy: 0.1000\n",
      "--- Starting trial: run-15\n",
      "{'num_units': 32, 'dropout': 0.1, 'optimizer': 'sgd', 'learning_rate': 0.001}\n",
      "313/313 [==============================] - 2s 5ms/step - loss: 2.3008 - accuracy: 0.1000\n",
      "--- Starting trial: run-16\n",
      "{'num_units': 32, 'dropout': 0.1, 'optimizer': 'sgd', 'learning_rate': 0.01}\n",
      "313/313 [==============================] - 2s 5ms/step - loss: 1.4318 - accuracy: 0.3865\n",
      "--- Starting trial: run-17\n",
      "{'num_units': 32, 'dropout': 0.1, 'optimizer': 'sgd', 'learning_rate': 0.1}\n",
      "313/313 [==============================] - 3s 7ms/step - loss: 1.4964 - accuracy: 0.3110\n",
      "--- Starting trial: run-18\n",
      "{'num_units': 32, 'dropout': 0.4, 'optimizer': 'adam', 'learning_rate': 0.001}\n",
      "313/313 [==============================] - 3s 7ms/step - loss: 0.9296 - accuracy: 0.6371\n",
      "--- Starting trial: run-19\n",
      "{'num_units': 32, 'dropout': 0.4, 'optimizer': 'adam', 'learning_rate': 0.01}\n",
      "313/313 [==============================] - 3s 7ms/step - loss: 1.5556 - accuracy: 0.3791\n",
      "--- Starting trial: run-20\n",
      "{'num_units': 32, 'dropout': 0.4, 'optimizer': 'adam', 'learning_rate': 0.1}\n",
      "313/313 [==============================] - 3s 9ms/step - loss: 2.0874 - accuracy: 0.1875\n",
      "--- Starting trial: run-21\n",
      "{'num_units': 32, 'dropout': 0.4, 'optimizer': 'sgd', 'learning_rate': 0.001}\n",
      "313/313 [==============================] - 3s 8ms/step - loss: 2.3016 - accuracy: 0.1000\n",
      "--- Starting trial: run-22\n",
      "{'num_units': 32, 'dropout': 0.4, 'optimizer': 'sgd', 'learning_rate': 0.01}\n",
      "313/313 [==============================] - 3s 8ms/step - loss: 1.6376 - accuracy: 0.3667\n",
      "--- Starting trial: run-23\n",
      "{'num_units': 32, 'dropout': 0.4, 'optimizer': 'sgd', 'learning_rate': 0.1}\n",
      "313/313 [==============================] - 3s 7ms/step - loss: 1.5783 - accuracy: 0.3798\n"
     ]
    }
   ],
   "source": [
    "from collections import OrderedDict, namedtuple\n",
    "from itertools import product\n",
    "session_num = 0\n",
    "\n",
    "class RunBuilder():\n",
    "    @staticmethod\n",
    "    def get_runs(params):\n",
    "        Run=namedtuple('Run', params.keys())\n",
    "\n",
    "        runs=[]\n",
    "\n",
    "        for v in product(*params.values()):\n",
    "            runs.append(Run(*v))\n",
    "\n",
    "        return runs\n",
    "    \n",
    "params=OrderedDict(\n",
    "        num_units=[num_units for num_units in HP_NUM_UNITS.domain.values],\n",
    "        p_drop=[dropout_rate for dropout_rate in (HP_DROPOUT.domain.values)],\n",
    "        optim=[optimizer for optimizer in HP_OPTIMIZER.domain.values],\n",
    "        lr=[lr for lr in HP_LEARNINGRATE.domain.values],\n",
    "    )\n",
    "\n",
    "for run in RunBuilder().get_runs(params):\n",
    "    hparams = {\n",
    "          HP_NUM_UNITS: run.num_units,\n",
    "          HP_DROPOUT: run.p_drop,\n",
    "          HP_OPTIMIZER: run.optim,\n",
    "          HP_LEARNINGRATE: run.lr\n",
    "      }\n",
    "    run_name = \"run-%d\" % session_num\n",
    "    print('--- Starting trial: %s' % run_name)\n",
    "    print({h.name: hparams[h] for h in hparams})\n",
    "    training('logs/hparam_tuning/' + run_name, hparams)\n",
    "    session_num += 1\n"
   ]
  },
  {
   "cell_type": "markdown",
   "metadata": {
    "id": "qSyjWQ3mPKT9"
   },
   "source": [
    "## Visualización de los resultados en Tensorboard"
   ]
  },
  {
   "cell_type": "markdown",
   "metadata": {
    "id": "5VBvplwyP8Vy"
   },
   "source": [
    "The HParams dashboard can now be opened. Start TensorBoard and click on \"HParams\" at the top."
   ]
  },
  {
   "cell_type": "code",
   "execution_count": 34,
   "metadata": {
    "id": "Xf4KM-U2bbP_"
   },
   "outputs": [
    {
     "data": {
      "text/plain": [
       "Reusing TensorBoard on port 6006 (pid 8692), started 2 days, 0:56:05 ago. (Use '!kill 8692' to kill it.)"
      ]
     },
     "metadata": {},
     "output_type": "display_data"
    },
    {
     "data": {
      "text/html": [
       "\n",
       "      <iframe id=\"tensorboard-frame-e74766ea4fbef8bb\" width=\"100%\" height=\"800\" frameborder=\"0\">\n",
       "      </iframe>\n",
       "      <script>\n",
       "        (function() {\n",
       "          const frame = document.getElementById(\"tensorboard-frame-e74766ea4fbef8bb\");\n",
       "          const url = new URL(\"/\", window.location);\n",
       "          const port = 6006;\n",
       "          if (port) {\n",
       "            url.port = port;\n",
       "          }\n",
       "          frame.src = url;\n",
       "        })();\n",
       "      </script>\n",
       "    "
      ],
      "text/plain": [
       "<IPython.core.display.HTML object>"
      ]
     },
     "metadata": {},
     "output_type": "display_data"
    }
   ],
   "source": [
    "%tensorboard --logdir logs/hparam_tuning"
   ]
  },
  {
   "cell_type": "markdown",
   "metadata": {},
   "source": [
    "<font size=4>En las pestañas del lado superior izquierdo, hay una llamada HPARAMS. Ingresa en esa pestaña. También en las pestañas de la parte superior de esta pestaña, encontrarás una opción llamada Parallel Coordinates View. En esa opción podrás ver de manera interactiva las diferentes opciones de variación, y su respectivo valor de precisión en Inferencia."
   ]
  },
  {
   "cell_type": "markdown",
   "metadata": {},
   "source": [
    "<font size=4 color=red> 8. En el menú interactivo del lado izquierdo, hasta abajo viene una opción que dice: \"Download data as CSV\". Descarga estos datos y anexalos al momento de subir tu notebook al Classroom. Nota que a pesar de que se tiene una semilla para reproducibilidad, no se obtienen los mismo resultados una vez se ejecuten nuevamente los resultados. Por ello, si alguien te pasa su CSV, nos daremos inmediatamente cuenta, porque no es posible que salgan dos juegos de datos iguales :)"
   ]
  },
  {
   "cell_type": "markdown",
   "metadata": {},
   "source": [
    "<font size=4 color=red>9. De los tres mejores modelos que obtuviste en esta prueba básica, realiza un entrenamiento completo de 30 épocas con alguno de ellos, como lo realizamos en la clase. A continuación te enumeramos los pasos a seguir para este punto, pero recuerda checar con cuidado los parámetros que debes modificar en cada paso, de modo que pongas los hiperparámetros óptimos que te permitieron obtener el mejor resultado de accuracy en el conjunto test. "
   ]
  },
  {
   "cell_type": "code",
   "execution_count": 22,
   "metadata": {},
   "outputs": [],
   "source": [
    "def architecture(input_shape, num_classes, dropout=True):\n",
    "    \n",
    "    # Defining the input as a tensor with shape input_shape. \n",
    "    InputLayer = Input(input_shape)\n",
    "    \n",
    "    # Flattening the input tensor of dimensions (32, 32, 3) to a tensor of dimensions (3072)\n",
    "    x = Flatten()(InputLayer)\n",
    "    if dropout == True:\n",
    "        x = Dropout(0.1)(x)\n",
    "    \n",
    "    # Defining the first hidden layer with 50 nodes and sigmoid as activation function\n",
    "    x = Dense(50, kernel_initializer='random_uniform', bias_initializer='zeros', name='hl_1')(x)\n",
    "    x = Activation('sigmoid')(x)\n",
    "    if dropout == True:\n",
    "        x = Dropout(0.1)(x)\n",
    "\n",
    "    # Defining the second hidden layer with 50 nodes and sigmoid as activation function\n",
    "    x = Dense(32, kernel_initializer='random_uniform', bias_initializer='zeros', name='hl_2')(x)\n",
    "    x = Activation('sigmoid')(x)\n",
    "    if dropout == True:\n",
    "        x = Dropout(0.1)(x)\n",
    "    \n",
    "    \n",
    "    # For the output layer we use the activation function 'softmax')\n",
    "    x = Dense(num_classes, kernel_initializer='random_uniform', bias_initializer='zeros')(x)\n",
    "    OutputLayer = Activation('softmax', name='output-layer')(x)\n",
    "    \n",
    "    # This creates the Keras model instance, you'll use this instance to train/test the model.\n",
    "    model = Model(inputs = InputLayer, outputs = OutputLayer, name='Cifar10Model')\n",
    "\n",
    "    return model"
   ]
  },
  {
   "cell_type": "markdown",
   "metadata": {},
   "source": [
    "<font size=4 color=red>En la celda anterior, recuerda poner la probabilidad de Dropout y el número de neuronas de salida en la segunda capa lineal que mejor funcionaron para ti"
   ]
  },
  {
   "cell_type": "code",
   "execution_count": 23,
   "metadata": {},
   "outputs": [],
   "source": [
    "best_model=architecture((28,28,1), 10)"
   ]
  },
  {
   "cell_type": "code",
   "execution_count": 24,
   "metadata": {},
   "outputs": [
    {
     "name": "stdout",
     "output_type": "stream",
     "text": [
      "('You must install pydot (`pip install pydot`) and install graphviz (see instructions at https://graphviz.gitlab.io/download/) ', 'for plot_model/model_to_dot to work.')\n"
     ]
    }
   ],
   "source": [
    "plot_model(best_model, to_file='best_model.png', show_shapes=True, rankdir='TB', show_layer_names=True)"
   ]
  },
  {
   "cell_type": "code",
   "execution_count": 25,
   "metadata": {},
   "outputs": [
    {
     "name": "stdout",
     "output_type": "stream",
     "text": [
      "Model: \"Cifar10Model\"\n",
      "_________________________________________________________________\n",
      "Layer (type)                 Output Shape              Param #   \n",
      "=================================================================\n",
      "input_25 (InputLayer)        [(None, 28, 28, 1)]       0         \n",
      "_________________________________________________________________\n",
      "flatten_24 (Flatten)         (None, 784)               0         \n",
      "_________________________________________________________________\n",
      "dropout_72 (Dropout)         (None, 784)               0         \n",
      "_________________________________________________________________\n",
      "hl_1 (Dense)                 (None, 50)                39250     \n",
      "_________________________________________________________________\n",
      "activation_48 (Activation)   (None, 50)                0         \n",
      "_________________________________________________________________\n",
      "dropout_73 (Dropout)         (None, 50)                0         \n",
      "_________________________________________________________________\n",
      "hl_2 (Dense)                 (None, 32)                1632      \n",
      "_________________________________________________________________\n",
      "activation_49 (Activation)   (None, 32)                0         \n",
      "_________________________________________________________________\n",
      "dropout_74 (Dropout)         (None, 32)                0         \n",
      "_________________________________________________________________\n",
      "dense_24 (Dense)             (None, 10)                330       \n",
      "_________________________________________________________________\n",
      "output-layer (Activation)    (None, 10)                0         \n",
      "=================================================================\n",
      "Total params: 41,212\n",
      "Trainable params: 41,212\n",
      "Non-trainable params: 0\n",
      "_________________________________________________________________\n"
     ]
    }
   ],
   "source": [
    "best_model.summary()"
   ]
  },
  {
   "cell_type": "code",
   "execution_count": 26,
   "metadata": {},
   "outputs": [],
   "source": [
    "learning_rate = 0.001\n",
    "\n",
    "optimizer = keras.optimizers.Adam(learning_rate=learning_rate)"
   ]
  },
  {
   "cell_type": "markdown",
   "metadata": {},
   "source": [
    "<font size=4 color=red>Ahora, también cambia en la anterior celda el learning rate y el optimizador que mejor funcionaron para ti"
   ]
  },
  {
   "cell_type": "code",
   "execution_count": 27,
   "metadata": {},
   "outputs": [],
   "source": [
    "loss_function = 'categorical_crossentropy'\n",
    "metric_function = 'accuracy'"
   ]
  },
  {
   "cell_type": "code",
   "execution_count": 28,
   "metadata": {},
   "outputs": [],
   "source": [
    "best_model.compile(optimizer = optimizer, loss = loss_function, metrics = [metric_function])"
   ]
  },
  {
   "cell_type": "code",
   "execution_count": 35,
   "metadata": {},
   "outputs": [
    {
     "name": "stdout",
     "output_type": "stream",
     "text": [
      "Epoch 1/30\n",
      "422/422 [==============================] - 5s 12ms/step - loss: 0.7313 - accuracy: 0.7194 - val_loss: 0.6526 - val_accuracy: 0.7563\n",
      "Epoch 2/30\n",
      "422/422 [==============================] - 5s 11ms/step - loss: 0.7264 - accuracy: 0.7215 - val_loss: 0.6469 - val_accuracy: 0.7540\n",
      "Epoch 3/30\n",
      "422/422 [==============================] - 5s 12ms/step - loss: 0.7256 - accuracy: 0.7213 - val_loss: 0.6406 - val_accuracy: 0.7628\n",
      "Epoch 4/30\n",
      "422/422 [==============================] - 5s 11ms/step - loss: 0.7040 - accuracy: 0.7341 - val_loss: 0.6510 - val_accuracy: 0.7440\n",
      "Epoch 5/30\n",
      "422/422 [==============================] - 5s 11ms/step - loss: 0.7024 - accuracy: 0.7335 - val_loss: 0.6399 - val_accuracy: 0.7632\n",
      "Epoch 6/30\n",
      "422/422 [==============================] - 5s 13ms/step - loss: 0.7065 - accuracy: 0.7333 - val_loss: 0.6204 - val_accuracy: 0.7627\n",
      "Epoch 7/30\n",
      "422/422 [==============================] - 9s 21ms/step - loss: 0.6890 - accuracy: 0.7353 - val_loss: 0.6144 - val_accuracy: 0.7632\n",
      "Epoch 8/30\n",
      "422/422 [==============================] - 7s 15ms/step - loss: 0.6943 - accuracy: 0.7374 - val_loss: 0.6224 - val_accuracy: 0.7517\n",
      "Epoch 9/30\n",
      "422/422 [==============================] - 5s 11ms/step - loss: 0.6875 - accuracy: 0.7341 - val_loss: 0.5955 - val_accuracy: 0.7677\n",
      "Epoch 10/30\n",
      "422/422 [==============================] - 5s 12ms/step - loss: 0.6918 - accuracy: 0.7353 - val_loss: 0.6174 - val_accuracy: 0.7648\n",
      "Epoch 11/30\n",
      "422/422 [==============================] - 5s 12ms/step - loss: 0.7044 - accuracy: 0.7234 - val_loss: 0.6339 - val_accuracy: 0.7245\n",
      "Epoch 12/30\n",
      "422/422 [==============================] - 6s 14ms/step - loss: 0.6799 - accuracy: 0.7396 - val_loss: 0.5973 - val_accuracy: 0.7645\n",
      "Epoch 13/30\n",
      "422/422 [==============================] - 7s 15ms/step - loss: 0.6624 - accuracy: 0.7485 - val_loss: 0.5945 - val_accuracy: 0.7813\n",
      "Epoch 14/30\n",
      "422/422 [==============================] - 6s 14ms/step - loss: 0.6678 - accuracy: 0.7494 - val_loss: 0.6008 - val_accuracy: 0.7735\n",
      "Epoch 15/30\n",
      "422/422 [==============================] - 5s 11ms/step - loss: 0.6682 - accuracy: 0.7486 - val_loss: 0.6070 - val_accuracy: 0.7560\n",
      "Epoch 16/30\n",
      "422/422 [==============================] - 5s 12ms/step - loss: 0.6418 - accuracy: 0.7644 - val_loss: 0.6022 - val_accuracy: 0.7597\n",
      "Epoch 17/30\n",
      "422/422 [==============================] - 5s 12ms/step - loss: 0.6561 - accuracy: 0.7541 - val_loss: 0.5703 - val_accuracy: 0.7917\n",
      "Epoch 18/30\n",
      "422/422 [==============================] - 5s 13ms/step - loss: 0.6675 - accuracy: 0.7489 - val_loss: 0.5798 - val_accuracy: 0.7813\n",
      "Epoch 19/30\n",
      "422/422 [==============================] - 5s 11ms/step - loss: 0.6451 - accuracy: 0.7577 - val_loss: 0.5795 - val_accuracy: 0.7772\n",
      "Epoch 20/30\n",
      "422/422 [==============================] - 5s 11ms/step - loss: 0.6555 - accuracy: 0.7567 - val_loss: 0.5857 - val_accuracy: 0.7745\n",
      "Epoch 21/30\n",
      "422/422 [==============================] - 5s 11ms/step - loss: 0.6428 - accuracy: 0.7605 - val_loss: 0.5921 - val_accuracy: 0.7717\n",
      "Epoch 22/30\n",
      "422/422 [==============================] - 5s 11ms/step - loss: 0.6486 - accuracy: 0.7544 - val_loss: 0.6226 - val_accuracy: 0.7437\n",
      "Epoch 23/30\n",
      "422/422 [==============================] - 5s 12ms/step - loss: 0.6537 - accuracy: 0.7457 - val_loss: 0.5636 - val_accuracy: 0.7983\n",
      "Epoch 24/30\n",
      "422/422 [==============================] - 5s 12ms/step - loss: 0.6333 - accuracy: 0.7606 - val_loss: 0.5709 - val_accuracy: 0.7855\n",
      "Epoch 25/30\n",
      "422/422 [==============================] - 6s 14ms/step - loss: 0.6136 - accuracy: 0.7705 - val_loss: 0.5504 - val_accuracy: 0.7970\n",
      "Epoch 26/30\n",
      "422/422 [==============================] - 5s 12ms/step - loss: 0.6128 - accuracy: 0.7754 - val_loss: 0.5463 - val_accuracy: 0.8017\n",
      "Epoch 27/30\n",
      "422/422 [==============================] - 5s 13ms/step - loss: 0.6097 - accuracy: 0.7748 - val_loss: 0.5417 - val_accuracy: 0.8022\n",
      "Epoch 28/30\n",
      "422/422 [==============================] - 5s 12ms/step - loss: 0.6123 - accuracy: 0.7750 - val_loss: 0.5462 - val_accuracy: 0.7928\n",
      "Epoch 29/30\n",
      "422/422 [==============================] - 5s 12ms/step - loss: 0.6241 - accuracy: 0.7674 - val_loss: 0.5408 - val_accuracy: 0.7972\n",
      "Epoch 30/30\n",
      "422/422 [==============================] - 5s 12ms/step - loss: 0.6132 - accuracy: 0.7705 - val_loss: 0.5391 - val_accuracy: 0.7982\n",
      "Time for training:   202.5504s\n"
     ]
    }
   ],
   "source": [
    "#10 % of the training data will be used to validate the training\n",
    "start_time = time.time()\n",
    "\n",
    "validation_portion = 0.1\n",
    "batch_size=128\n",
    "num_epochs = 30\n",
    "\n",
    "tensorboard_callback = keras.callbacks.TensorBoard(\n",
    "    log_dir=\"logs/best_model\", histogram_freq=1)\n",
    "\n",
    "history = best_model.fit(x=x_train, y=train_y, epochs=num_epochs, batch_size=batch_size, \\\n",
    "                            validation_split=validation_portion, shuffle=True,\n",
    "                            callbacks=[tensorboard_callback], verbose=1)\n",
    "\n",
    "end_time = time.time()\n",
    "print(\"Time for training: {:10.4f}s\".format(end_time - start_time))"
   ]
  },
  {
   "cell_type": "markdown",
   "metadata": {},
   "source": [
    "<font size=4 color=red> 10. Realiza las gráficas de costo y accuracy para cada conjunto, entrenamiento y validación. Explica si tu modelo presenta overfitting, underfitting o si es un buen modelo. Argumenta lo mejor que puedas tu respuesta. (HINT: Revisa la clase 10 para realizar estas gráficas. Añade un título descriptivo de tu experimento a cada gráfica, como se hace en específico en esta notebook.)"
   ]
  },
  {
   "cell_type": "markdown",
   "metadata": {},
   "source": [
    "<font size=5 color=\"blue\">\n",
    "Gráfica de las funciones de costo como función de la época."
   ]
  },
  {
   "cell_type": "code",
   "execution_count": 36,
   "metadata": {},
   "outputs": [
    {
     "data": {
      "image/png": "[encoded data removed]",
      "text/plain": [
       "<Figure size 640x480 with 1 Axes>"
      ]
     },
     "metadata": {},
     "output_type": "display_data"
    }
   ],
   "source": [
    "plt.plot(history.history['loss'])\n",
    "plt.plot(history.history['val_loss'])\n",
    "plt.title('Lr = 0.01, FF_Dropout: Inp = 0.30, hl_1 = 0.30, hl_2 = 0.30')\n",
    "plt.ylabel('Cost')\n",
    "plt.xlabel('Epoch')\n",
    "plt.legend(['Train', 'Validation'], loc='upper right')\n",
    "plt.show()"
   ]
  },
  {
   "cell_type": "markdown",
   "metadata": {},
   "source": [
    "<font size=5 color=\"blue\">\n",
    "Gráfica de las funciones de precisión (accuracy) como función de la época."
   ]
  },
  {
   "cell_type": "code",
   "execution_count": 37,
   "metadata": {},
   "outputs": [
    {
     "data": {
      "image/png": "[encoded data removed]",
      "text/plain": [
       "<Figure size 640x480 with 1 Axes>"
      ]
     },
     "metadata": {},
     "output_type": "display_data"
    }
   ],
   "source": [
    "plt.plot(history.history['accuracy'])\n",
    "plt.plot(history.history['val_accuracy'])\n",
    "plt.title('Lr = 0.01, FF_Dropout: Inp = 0.30, hl1 = 0.30, hl2 = 0.30, \\n Acc=0.0.7570')\n",
    "plt.ylabel('Accuracy')\n",
    "plt.xlabel('Epoch')\n",
    "plt.legend(['Train', 'Validation'], loc='lower right')\n",
    "plt.show()"
   ]
  },
  {
   "cell_type": "markdown",
   "metadata": {},
   "source": [
    "<font size=4, color=olive> El modelo da como resultado la gráfica de validación por debajo de la corresopondiente al entrenamiento (aunque la escala de la separación es relativamente pequeña), por lo que tenemos el caso de un modelo insuficiente con underfitting."
   ]
  },
  {
   "cell_type": "markdown",
   "metadata": {},
   "source": [
    "# Puntos Extras!!!"
   ]
  },
  {
   "cell_type": "markdown",
   "metadata": {},
   "source": [
    "<font size=5 color=blue> E1. Modifica los valores que se proponen en la celda 14, donde definimos los hiperparámetros a varias, y realiza la variación de parámetros. Si encuentras un modelo que obtenga más del 90% de accuracy en test, realiza un entrenamiento completo, y haz el análisis sobre el under-overfitting. Anexa en tu tarea para obtener el punto extra el CSV del Tensorboard, así como el modelo. (+1)"
   ]
  },
  {
   "cell_type": "code",
   "execution_count": 86,
   "metadata": {},
   "outputs": [],
   "source": [
    "HP_NUM_UNITS = hp.HParam('num_units', hp.Discrete([700]))\n",
    "HP_DROPOUT = hp.HParam('dropout', hp.Discrete([0.043]))\n",
    "HP_OPTIMIZER = hp.HParam('optimizer', hp.Discrete(['adam']))\n",
    "HP_LEARNINGRATE= hp.HParam('learning_rate', hp.Discrete([0.00043]))\n",
    "\n",
    "METRIC_ACCURACY = 'accuracy'\n",
    "\n",
    "with tf.summary.create_file_writer('logs/hparam_tuning').as_default():\n",
    "  hp.hparams_config(\n",
    "    hparams=[HP_NUM_UNITS, HP_DROPOUT, HP_OPTIMIZER, HP_LEARNINGRATE],\n",
    "    metrics=[hp.Metric(METRIC_ACCURACY, display_name='Accuracy')],\n",
    "  )"
   ]
  },
  {
   "cell_type": "code",
   "execution_count": 87,
   "metadata": {},
   "outputs": [],
   "source": [
    "def architecture(input_shape, num_classes, p_drop, units, dropout=True):\n",
    "    \n",
    "    # Defining the input as a tensor with shape input_shape. \n",
    "    InputLayer = Input(input_shape)\n",
    "    \n",
    "    # Flattening the input tensor of dimensions (32, 32, 3) to a tensor of dimensions (3072)\n",
    "    x = Flatten()(InputLayer)\n",
    "    if dropout == True:\n",
    "        x = Dropout(p_drop)(x)\n",
    "    \n",
    "    # Defining the first hidden layer with 50 nodes and sigmoid as activation function\n",
    "    x = Dense(350, kernel_initializer='random_uniform', bias_initializer='zeros', name='hl_1')(x)\n",
    "    x = Activation('sigmoid')(x)\n",
    "    if dropout == True:\n",
    "        x = Dropout(p_drop)(x)\n",
    "\n",
    "    x = Dense(units, kernel_initializer='random_uniform', bias_initializer='zeros', name='hl_2')(x)\n",
    "    x = Activation('sigmoid')(x)\n",
    "    if dropout == True:\n",
    "        x = Dropout(p_drop)(x)\n",
    "        \n",
    "    x = Dense(units, kernel_initializer='random_uniform', bias_initializer='zeros', name='hl_3')(x)\n",
    "    x = Activation('sigmoid')(x)\n",
    "    if dropout == True:\n",
    "        x = Dropout(p_drop)(x)\n",
    "    \n",
    "    \n",
    "    # For the output layer we use the activation function 'softmax')\n",
    "    x = Dense(num_classes, kernel_initializer='random_uniform', bias_initializer='zeros')(x)\n",
    "    OutputLayer = Activation('softmax', name='output-layer')(x)\n",
    "    \n",
    "    # This creates the Keras model instance, you'll use this instance to train/test the model.\n",
    "    model1 = Model(inputs = InputLayer, outputs = OutputLayer, name='Cifar10Model')\n",
    "\n",
    "    return model1"
   ]
  },
  {
   "cell_type": "code",
   "execution_count": 88,
   "metadata": {},
   "outputs": [],
   "source": [
    "one_image = (28, 28, 1)\n",
    "num_classes=10\n",
    "\n",
    "def train_test_model1(hparams):\n",
    "\n",
    "    model1=architecture(input_shape=one_image, num_classes=num_classes, \n",
    "                       p_drop=hparams[HP_DROPOUT], units=hparams[HP_NUM_UNITS])\n",
    "    model1.compile(\n",
    "          optimizer=hparams[HP_OPTIMIZER],\n",
    "          loss='categorical_crossentropy',\n",
    "          metrics=['accuracy']\n",
    "      )\n",
    "    model1.optimizer.learning_rate=hparams[HP_LEARNINGRATE]\n",
    "    model1.fit(x_train, train_y, epochs = 5, batch_size = 32, \\\n",
    "                                validation_split = 0.1, shuffle=True, verbose=0) # Run with 1 epoch to speed things up for demo purposes\n",
    "    _, accuracy = model1.evaluate(x = test_x, y = test_y)\n",
    "    return accuracy"
   ]
  },
  {
   "cell_type": "code",
   "execution_count": 89,
   "metadata": {},
   "outputs": [],
   "source": [
    "def training(run_dir, hparams):\n",
    "    with tf.summary.create_file_writer(run_dir).as_default():\n",
    "        hp.hparams(hparams)  # record the values used in this trial\n",
    "        accuracy = train_test_model1(hparams)\n",
    "        tf.summary.scalar(METRIC_ACCURACY, accuracy, step=1)"
   ]
  },
  {
   "cell_type": "code",
   "execution_count": 90,
   "metadata": {},
   "outputs": [
    {
     "name": "stdout",
     "output_type": "stream",
     "text": [
      "--- Starting trial: run-0\n",
      "{'num_units': 700, 'dropout': 0.043, 'optimizer': 'adam', 'learning_rate': 0.00043}\n",
      "313/313 [==============================] - 7s 21ms/step - loss: 0.7809 - accuracy: 0.6971\n"
     ]
    }
   ],
   "source": [
    "from collections import OrderedDict, namedtuple\n",
    "from itertools import product\n",
    "session_num = 0\n",
    "\n",
    "class RunBuilder():\n",
    "    @staticmethod\n",
    "    def get_runs(params):\n",
    "        Run=namedtuple('Run', params.keys())\n",
    "\n",
    "        runs=[]\n",
    "\n",
    "        for v in product(*params.values()):\n",
    "            runs.append(Run(*v))\n",
    "\n",
    "        return runs\n",
    "    \n",
    "params=OrderedDict(\n",
    "        num_units=[num_units for num_units in HP_NUM_UNITS.domain.values],\n",
    "        p_drop=[dropout_rate for dropout_rate in (HP_DROPOUT.domain.values)],\n",
    "        optim=[optimizer for optimizer in HP_OPTIMIZER.domain.values],\n",
    "        lr=[lr for lr in HP_LEARNINGRATE.domain.values],\n",
    "    )\n",
    "\n",
    "for run in RunBuilder().get_runs(params):\n",
    "    hparams = {\n",
    "          HP_NUM_UNITS: run.num_units,\n",
    "          HP_DROPOUT: run.p_drop,\n",
    "          HP_OPTIMIZER: run.optim,\n",
    "          HP_LEARNINGRATE: run.lr\n",
    "      }\n",
    "    run_name = \"run-%d\" % session_num\n",
    "    print('--- Starting trial: %s' % run_name)\n",
    "    print({h.name: hparams[h] for h in hparams})\n",
    "    training('logs/hparam_tuning/' + run_name, hparams)\n",
    "    session_num += 1\n"
   ]
  },
  {
   "cell_type": "code",
   "execution_count": null,
   "metadata": {},
   "outputs": [],
   "source": []
  }
 ],
 "metadata": {
  "colab": {
   "collapsed_sections": [],
   "name": "hyperparameter_tuning_with_hparams.ipynb",
   "toc_visible": true
  },
  "kernelspec": {
   "display_name": "Python 3 (ipykernel)",
   "language": "python",
   "name": "python3"
  },
  "language_info": {
   "codemirror_mode": {
    "name": "ipython",
    "version": 3
   },
   "file_extension": ".py",
   "mimetype": "text/x-python",
   "name": "python",
   "nbconvert_exporter": "python",
   "pygments_lexer": "ipython3",
   "version": "3.8.16"
  }
 },
 "nbformat": 4,
 "nbformat_minor": 1
}
